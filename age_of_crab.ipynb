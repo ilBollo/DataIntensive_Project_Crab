{
 "cells": [
  {
   "cell_type": "markdown",
   "id": "1426ee43-f6d7-4eeb-984b-0072a13816a4",
   "metadata": {},
   "source": [
    "# Prevedere l'età del granchio in base ai suoi attributi fisici\n",
    "\n",
    "Progetto di Programmazione di Applicazioni Data Intensive 2023/2024\n",
    "\n",
    "**Realizzato da:** Simone Bollini<br/>\n",
    "simone.bollini@studio.unibo.it mat. 975149"
   ]
  },
  {
   "cell_type": "code",
   "execution_count": 89,
   "id": "83dc3c38-2939-4f3e-8599-3b5abd03e7a2",
   "metadata": {},
   "outputs": [],
   "source": [
    "import numpy as np\n",
    "import pandas as pd\n",
    "import matplotlib.pyplot as plt\n",
    "%matplotlib inline"
   ]
  },
  {
   "cell_type": "markdown",
   "id": "de1afa30-f818-48fa-804b-a5cfe58dd2af",
   "metadata": {},
   "source": [
    "Dichiaro fin da subito le costanti per parametrizzare la parte di dati del set che sarà utilizzato come test"
   ]
  },
  {
   "cell_type": "code",
   "execution_count": 90,
   "id": "a01dff97-147e-437d-8cc4-fa852cd28463",
   "metadata": {},
   "outputs": [],
   "source": [
    "_RANDOM_STATE = 18\n",
    "_TEST_SIZE = 1/3"
   ]
  },
  {
   "cell_type": "markdown",
   "id": "d44766fb-67e5-4643-a109-5b997f08d411",
   "metadata": {
    "jp-MarkdownHeadingCollapsed": true,
    "slideshow": {
     "slide_type": "slide"
    }
   },
   "source": [
    "## Intro\n",
    "\n",
    "- Il set è utilizzato per stimare l'età del granchio in base agli attributi fisici.\r\n",
    "Oltre una certa età, c'è una crescita trascurabile delle caratteristiche fisiche del granchio e, quindi, è importante individuare l'età per ridurre i costi e aumentare i profitti.."
   ]
  },
  {
   "cell_type": "markdown",
   "id": "6ec17e5b-982b-494e-8b4f-b924bad552e4",
   "metadata": {
    "slideshow": {
     "slide_type": "slide"
    }
   },
   "source": [
    "## Estrazione dati\n",
    "\n",
    "Il dataset puo essere scaricato da [Kaggle](https://www.kaggle.com/datasets/sidhus/crab-age-prediction/data) "
   ]
  },
  {
   "cell_type": "code",
   "execution_count": 91,
   "id": "bdd33ef0-e6e3-41f3-b9d7-180897ebc9a5",
   "metadata": {},
   "outputs": [],
   "source": [
    "import os.path\n",
    "from urllib.request import urlretrieve\n",
    "if not os.path.exists(\"crab.zip\"):\n",
    "    urlretrieve(\"https://github.com/ilBollo/DataIntensive_Project_Crab/raw/master/crab.zip\", \"crab.zip\")\n"
   ]
  },
  {
   "cell_type": "code",
   "execution_count": 92,
   "id": "80f60b9e-65f3-48ad-95ec-6868c3d712c7",
   "metadata": {
    "scrolled": true
   },
   "outputs": [
    {
     "data": {
      "text/html": [
       "<div>\n",
       "<style scoped>\n",
       "    .dataframe tbody tr th:only-of-type {\n",
       "        vertical-align: middle;\n",
       "    }\n",
       "\n",
       "    .dataframe tbody tr th {\n",
       "        vertical-align: top;\n",
       "    }\n",
       "\n",
       "    .dataframe thead th {\n",
       "        text-align: right;\n",
       "    }\n",
       "</style>\n",
       "<table border=\"1\" class=\"dataframe\">\n",
       "  <thead>\n",
       "    <tr style=\"text-align: right;\">\n",
       "      <th></th>\n",
       "      <th>Sex</th>\n",
       "      <th>Length</th>\n",
       "      <th>Diameter</th>\n",
       "      <th>Height</th>\n",
       "      <th>Weight</th>\n",
       "      <th>Shucked Weight</th>\n",
       "      <th>Viscera Weight</th>\n",
       "      <th>Shell Weight</th>\n",
       "      <th>Age</th>\n",
       "    </tr>\n",
       "  </thead>\n",
       "  <tbody>\n",
       "    <tr>\n",
       "      <th>0</th>\n",
       "      <td>F</td>\n",
       "      <td>1.4375</td>\n",
       "      <td>1.1750</td>\n",
       "      <td>0.4125</td>\n",
       "      <td>24.635715</td>\n",
       "      <td>12.332033</td>\n",
       "      <td>5.584852</td>\n",
       "      <td>6.747181</td>\n",
       "      <td>9</td>\n",
       "    </tr>\n",
       "    <tr>\n",
       "      <th>1</th>\n",
       "      <td>M</td>\n",
       "      <td>0.8875</td>\n",
       "      <td>0.6500</td>\n",
       "      <td>0.2125</td>\n",
       "      <td>5.400580</td>\n",
       "      <td>2.296310</td>\n",
       "      <td>1.374951</td>\n",
       "      <td>1.559222</td>\n",
       "      <td>6</td>\n",
       "    </tr>\n",
       "    <tr>\n",
       "      <th>2</th>\n",
       "      <td>I</td>\n",
       "      <td>1.0375</td>\n",
       "      <td>0.7750</td>\n",
       "      <td>0.2500</td>\n",
       "      <td>7.952035</td>\n",
       "      <td>3.231843</td>\n",
       "      <td>1.601747</td>\n",
       "      <td>2.764076</td>\n",
       "      <td>6</td>\n",
       "    </tr>\n",
       "    <tr>\n",
       "      <th>3</th>\n",
       "      <td>F</td>\n",
       "      <td>1.1750</td>\n",
       "      <td>0.8875</td>\n",
       "      <td>0.2500</td>\n",
       "      <td>13.480187</td>\n",
       "      <td>4.748541</td>\n",
       "      <td>2.282135</td>\n",
       "      <td>5.244657</td>\n",
       "      <td>10</td>\n",
       "    </tr>\n",
       "    <tr>\n",
       "      <th>4</th>\n",
       "      <td>I</td>\n",
       "      <td>0.8875</td>\n",
       "      <td>0.6625</td>\n",
       "      <td>0.2125</td>\n",
       "      <td>6.903103</td>\n",
       "      <td>3.458639</td>\n",
       "      <td>1.488349</td>\n",
       "      <td>1.700970</td>\n",
       "      <td>6</td>\n",
       "    </tr>\n",
       "  </tbody>\n",
       "</table>\n",
       "</div>"
      ],
      "text/plain": [
       "  Sex  Length  Diameter  Height     Weight  Shucked Weight  Viscera Weight  \\\n",
       "0   F  1.4375    1.1750  0.4125  24.635715       12.332033        5.584852   \n",
       "1   M  0.8875    0.6500  0.2125   5.400580        2.296310        1.374951   \n",
       "2   I  1.0375    0.7750  0.2500   7.952035        3.231843        1.601747   \n",
       "3   F  1.1750    0.8875  0.2500  13.480187        4.748541        2.282135   \n",
       "4   I  0.8875    0.6625  0.2125   6.903103        3.458639        1.488349   \n",
       "\n",
       "   Shell Weight  Age  \n",
       "0      6.747181    9  \n",
       "1      1.559222    6  \n",
       "2      2.764076    6  \n",
       "3      5.244657   10  \n",
       "4      1.700970    6  "
      ]
     },
     "execution_count": 92,
     "metadata": {},
     "output_type": "execute_result"
    }
   ],
   "source": [
    "dataC = pd.read_csv(\"crab.zip\", sep=\",\", compression=\"zip\")\n",
    "dataC.head()"
   ]
  },
  {
   "cell_type": "markdown",
   "id": "147166da-bb2c-43bb-a74a-c29841a81ce1",
   "metadata": {},
   "source": [
    "### Significato delle colonne\n",
    "Le feature presenti nel dataset sono: \n",
    "- `Sex`: sesso del granchio. Possibili valori: Female, Male o Indeterminate\n",
    "- `Length`: Lunghezza del granchio (in piedi; 1 piede = 30,48 cm)\n",
    "- `Diameter`: Diametro del granchio (in piedi)\n",
    "- `Height`: Altezza del granchio (in piedi)\n",
    "- `Weight`: Peso del granchio (in once; 1 oncia = 28,35 g)\n",
    "- `Shucked Weight`: Peso senza guscio (in once)\n",
    "- `Viscera Weight`: è il peso della parte che avvolge gli organi addominali nel granchio (in once)\n",
    "- `Shell Weight`: Peso della conchiglia (in once)\n",
    "- `Age`: Età del granchio (in mesi)\n",
    "\n",
    "La variabile che tenteremo di predirre è l'età del granchio."
   ]
  },
  {
   "cell_type": "code",
   "execution_count": 93,
   "id": "9685f000-4497-4f19-b39d-a810b76d6392",
   "metadata": {},
   "outputs": [
    {
     "name": "stdout",
     "output_type": "stream",
     "text": [
      "<class 'pandas.core.frame.DataFrame'>\n",
      "RangeIndex: 3893 entries, 0 to 3892\n",
      "Data columns (total 9 columns):\n",
      " #   Column          Non-Null Count  Dtype  \n",
      "---  ------          --------------  -----  \n",
      " 0   Sex             3893 non-null   object \n",
      " 1   Length          3893 non-null   float64\n",
      " 2   Diameter        3893 non-null   float64\n",
      " 3   Height          3893 non-null   float64\n",
      " 4   Weight          3893 non-null   float64\n",
      " 5   Shucked Weight  3893 non-null   float64\n",
      " 6   Viscera Weight  3893 non-null   float64\n",
      " 7   Shell Weight    3893 non-null   float64\n",
      " 8   Age             3893 non-null   int64  \n",
      "dtypes: float64(7), int64(1), object(1)\n",
      "memory usage: 273.9+ KB\n"
     ]
    }
   ],
   "source": [
    "dataC.info()"
   ]
  },
  {
   "cell_type": "markdown",
   "id": "ba4b5d24-5592-4661-b1e3-97e20ad63094",
   "metadata": {},
   "source": [
    "la colonna sex contiene solo i valori \"F\", \"M\" e \"I\" per questo motivo occupa troppo spazio come object ricarichiamo la colonna con tipo category per ottimizzare il consumo di memoria"
   ]
  },
  {
   "cell_type": "code",
   "execution_count": 94,
   "id": "1f8084a0-5851-4a29-8e88-9c5f7241dccd",
   "metadata": {},
   "outputs": [],
   "source": [
    "dataC = pd.read_csv(\"crab.zip\", sep=\",\", compression=\"zip\", dtype={\"Sex\":\"category\"})"
   ]
  },
  {
   "cell_type": "code",
   "execution_count": 95,
   "id": "474c53c4-3119-45e3-9a0f-04831e3ba13d",
   "metadata": {},
   "outputs": [
    {
     "name": "stdout",
     "output_type": "stream",
     "text": [
      "<class 'pandas.core.frame.DataFrame'>\n",
      "RangeIndex: 3893 entries, 0 to 3892\n",
      "Data columns (total 9 columns):\n",
      " #   Column          Non-Null Count  Dtype   \n",
      "---  ------          --------------  -----   \n",
      " 0   Sex             3893 non-null   category\n",
      " 1   Length          3893 non-null   float64 \n",
      " 2   Diameter        3893 non-null   float64 \n",
      " 3   Height          3893 non-null   float64 \n",
      " 4   Weight          3893 non-null   float64 \n",
      " 5   Shucked Weight  3893 non-null   float64 \n",
      " 6   Viscera Weight  3893 non-null   float64 \n",
      " 7   Shell Weight    3893 non-null   float64 \n",
      " 8   Age             3893 non-null   int64   \n",
      "dtypes: category(1), float64(7), int64(1)\n",
      "memory usage: 247.4 KB\n"
     ]
    }
   ],
   "source": [
    "dataC.info()"
   ]
  },
  {
   "cell_type": "markdown",
   "id": "16ff1bd1-cd7b-47e0-8383-b5ced92d0da4",
   "metadata": {},
   "source": [
    "anche se il dataset non è molto grande solo questa piccola correzione ha ridotto l'uso di memoria quasi del 10%"
   ]
  },
  {
   "cell_type": "markdown",
   "id": "3f47e757-f9e7-48cd-9418-8a1a1be83835",
   "metadata": {},
   "source": [
    "## Analisi generale dei dati"
   ]
  },
  {
   "cell_type": "markdown",
   "id": "89f49fd5-fd91-4923-b836-2a88ec0000e8",
   "metadata": {},
   "source": [
    "Creiamo due variabili per utilizzare le feature divise per tipo"
   ]
  },
  {
   "cell_type": "code",
   "execution_count": 96,
   "id": "83c077b7-b573-432e-98d8-c85146c25809",
   "metadata": {},
   "outputs": [],
   "source": [
    "numeric_vars = [\"Length\",\t\"Diameter\",\t\"Height\",\t\"Weight\",\t\"Shucked Weight\",\t\"Viscera Weight\",\t\"Shell Weight\"]\n",
    "categorical_vars = [\"Sex\"]"
   ]
  },
  {
   "cell_type": "markdown",
   "id": "40854e52-5e5c-4069-8419-3846844757d8",
   "metadata": {},
   "source": [
    "Visualizziamo alcune statistiche per comprendere le caratteristiche del dataset:"
   ]
  },
  {
   "cell_type": "markdown",
   "id": "55246fb6-3999-40d8-9a0c-8807d4e3f3f9",
   "metadata": {},
   "source": [
    "Vediamo come prima cosa quanto variano i dati in nostro possesso:"
   ]
  },
  {
   "cell_type": "code",
   "execution_count": 97,
   "id": "368c5309-2bf9-49e2-9d68-3160d08ee61e",
   "metadata": {},
   "outputs": [
    {
     "name": "stdout",
     "output_type": "stream",
     "text": [
      "Length: \t134\n",
      "Diameter: \t111\n",
      "Height: \t51\n",
      "Weight: \t2343\n",
      "Shucked Weight: \t1482\n",
      "Viscera Weight: \t867\n",
      "Shell Weight: \t907\n"
     ]
    }
   ],
   "source": [
    "for col in numeric_vars:\n",
    "    if col in dataC.columns:\n",
    "        print(col + \": \\t\" + str(dataC[col].nunique()))"
   ]
  },
  {
   "cell_type": "markdown",
   "id": "f5dd93a1-ea36-49ec-b238-a733e9e52376",
   "metadata": {},
   "source": [
    "Ora eseguiamo un'analisi di base dei dati, iniziamo visualizzando la distribuzione dell'età dei granchi nel set. "
   ]
  },
  {
   "cell_type": "code",
   "execution_count": 98,
   "id": "cbdf890d-73c7-435a-aa10-566ad94d06b2",
   "metadata": {},
   "outputs": [
    {
     "data": {
      "text/plain": [
       "Age\n",
       "1       1\n",
       "2       1\n",
       "3      13\n",
       "4      53\n",
       "5     107\n",
       "6     241\n",
       "7     357\n",
       "8     520\n",
       "9     640\n",
       "10    598\n",
       "11    459\n",
       "12    248\n",
       "13    195\n",
       "14    122\n",
       "15     96\n",
       "16     62\n",
       "17     54\n",
       "18     38\n",
       "19     31\n",
       "20     23\n",
       "21     14\n",
       "22      6\n",
       "23      7\n",
       "24      2\n",
       "25      1\n",
       "26      1\n",
       "27      2\n",
       "29      1\n",
       "Name: count, dtype: int64"
      ]
     },
     "execution_count": 98,
     "metadata": {},
     "output_type": "execute_result"
    }
   ],
   "source": [
    "dataC[\"Age\"].value_counts().sort_index()"
   ]
  },
  {
   "cell_type": "code",
   "execution_count": 99,
   "id": "93ac0d9d-87dd-4fea-835c-bd449f671963",
   "metadata": {},
   "outputs": [
    {
     "data": {
      "text/plain": [
       "{'whiskers': [<matplotlib.lines.Line2D at 0x1a4eb32c110>,\n",
       "  <matplotlib.lines.Line2D at 0x1a4eb32c950>],\n",
       " 'caps': [<matplotlib.lines.Line2D at 0x1a4eb32dc10>,\n",
       "  <matplotlib.lines.Line2D at 0x1a4eb32e890>],\n",
       " 'boxes': [<matplotlib.lines.Line2D at 0x1a4eb325ed0>],\n",
       " 'medians': [<matplotlib.lines.Line2D at 0x1a4eb32d890>],\n",
       " 'fliers': [<matplotlib.lines.Line2D at 0x1a4eb32ce90>],\n",
       " 'means': [<matplotlib.lines.Line2D at 0x1a4eb32e610>]}"
      ]
     },
     "execution_count": 99,
     "metadata": {},
     "output_type": "execute_result"
    },
    {
     "data": {
      "image/png": "[encoded data removed]",
      "text/plain": [
       "<Figure size 640x480 with 1 Axes>"
      ]
     },
     "metadata": {},
     "output_type": "display_data"
    }
   ],
   "source": [
    "plt.boxplot(dataC[\"Age\"],showmeans=True)"
   ]
  },
  {
   "cell_type": "markdown",
   "id": "5f294783-21d7-4494-9466-d0ffa740b46a",
   "metadata": {},
   "source": [
    "la distribuzione dei non è omogenea soprattutto per granchi sotto i 3 mesi e sopra i 23 mesi i dati sono pochi. Questo mostra un età media di vita dei granchi compresa tra i 5 e 15 anno.\n",
    "Andiamo ora ad analizzare  nel dettaglio la distribuzione delle altre feature."
   ]
  },
  {
   "cell_type": "code",
   "execution_count": 100,
   "id": "f4337eae-882d-4b60-8c9b-bded67b16a5e",
   "metadata": {},
   "outputs": [
    {
     "data": {
      "text/html": [
       "<div>\n",
       "<style scoped>\n",
       "    .dataframe tbody tr th:only-of-type {\n",
       "        vertical-align: middle;\n",
       "    }\n",
       "\n",
       "    .dataframe tbody tr th {\n",
       "        vertical-align: top;\n",
       "    }\n",
       "\n",
       "    .dataframe thead th {\n",
       "        text-align: right;\n",
       "    }\n",
       "</style>\n",
       "<table border=\"1\" class=\"dataframe\">\n",
       "  <thead>\n",
       "    <tr style=\"text-align: right;\">\n",
       "      <th></th>\n",
       "      <th>Length</th>\n",
       "      <th>Diameter</th>\n",
       "      <th>Height</th>\n",
       "      <th>Weight</th>\n",
       "      <th>Shucked Weight</th>\n",
       "      <th>Viscera Weight</th>\n",
       "      <th>Shell Weight</th>\n",
       "      <th>Age</th>\n",
       "    </tr>\n",
       "  </thead>\n",
       "  <tbody>\n",
       "    <tr>\n",
       "      <th>count</th>\n",
       "      <td>3893.000000</td>\n",
       "      <td>3893.000000</td>\n",
       "      <td>3893.000000</td>\n",
       "      <td>3893.000000</td>\n",
       "      <td>3893.000000</td>\n",
       "      <td>3893.000000</td>\n",
       "      <td>3893.000000</td>\n",
       "      <td>3893.000000</td>\n",
       "    </tr>\n",
       "    <tr>\n",
       "      <th>mean</th>\n",
       "      <td>1.311306</td>\n",
       "      <td>1.020893</td>\n",
       "      <td>0.349374</td>\n",
       "      <td>23.567275</td>\n",
       "      <td>10.207342</td>\n",
       "      <td>5.136546</td>\n",
       "      <td>6.795844</td>\n",
       "      <td>9.954791</td>\n",
       "    </tr>\n",
       "    <tr>\n",
       "      <th>std</th>\n",
       "      <td>0.300431</td>\n",
       "      <td>0.248233</td>\n",
       "      <td>0.104976</td>\n",
       "      <td>13.891201</td>\n",
       "      <td>6.275275</td>\n",
       "      <td>3.104133</td>\n",
       "      <td>3.943392</td>\n",
       "      <td>3.220967</td>\n",
       "    </tr>\n",
       "    <tr>\n",
       "      <th>min</th>\n",
       "      <td>0.187500</td>\n",
       "      <td>0.137500</td>\n",
       "      <td>0.000000</td>\n",
       "      <td>0.056699</td>\n",
       "      <td>0.028349</td>\n",
       "      <td>0.014175</td>\n",
       "      <td>0.042524</td>\n",
       "      <td>1.000000</td>\n",
       "    </tr>\n",
       "    <tr>\n",
       "      <th>25%</th>\n",
       "      <td>1.125000</td>\n",
       "      <td>0.875000</td>\n",
       "      <td>0.287500</td>\n",
       "      <td>12.672227</td>\n",
       "      <td>5.343881</td>\n",
       "      <td>2.664853</td>\n",
       "      <td>3.713785</td>\n",
       "      <td>8.000000</td>\n",
       "    </tr>\n",
       "    <tr>\n",
       "      <th>50%</th>\n",
       "      <td>1.362500</td>\n",
       "      <td>1.062500</td>\n",
       "      <td>0.362500</td>\n",
       "      <td>22.792998</td>\n",
       "      <td>9.539607</td>\n",
       "      <td>4.861939</td>\n",
       "      <td>6.662133</td>\n",
       "      <td>10.000000</td>\n",
       "    </tr>\n",
       "    <tr>\n",
       "      <th>75%</th>\n",
       "      <td>1.537500</td>\n",
       "      <td>1.200000</td>\n",
       "      <td>0.412500</td>\n",
       "      <td>32.786197</td>\n",
       "      <td>14.273973</td>\n",
       "      <td>7.200773</td>\n",
       "      <td>9.355335</td>\n",
       "      <td>11.000000</td>\n",
       "    </tr>\n",
       "    <tr>\n",
       "      <th>max</th>\n",
       "      <td>2.037500</td>\n",
       "      <td>1.625000</td>\n",
       "      <td>2.825000</td>\n",
       "      <td>80.101512</td>\n",
       "      <td>42.184056</td>\n",
       "      <td>21.545620</td>\n",
       "      <td>28.491248</td>\n",
       "      <td>29.000000</td>\n",
       "    </tr>\n",
       "  </tbody>\n",
       "</table>\n",
       "</div>"
      ],
      "text/plain": [
       "            Length     Diameter       Height       Weight  Shucked Weight  \\\n",
       "count  3893.000000  3893.000000  3893.000000  3893.000000     3893.000000   \n",
       "mean      1.311306     1.020893     0.349374    23.567275       10.207342   \n",
       "std       0.300431     0.248233     0.104976    13.891201        6.275275   \n",
       "min       0.187500     0.137500     0.000000     0.056699        0.028349   \n",
       "25%       1.125000     0.875000     0.287500    12.672227        5.343881   \n",
       "50%       1.362500     1.062500     0.362500    22.792998        9.539607   \n",
       "75%       1.537500     1.200000     0.412500    32.786197       14.273973   \n",
       "max       2.037500     1.625000     2.825000    80.101512       42.184056   \n",
       "\n",
       "       Viscera Weight  Shell Weight          Age  \n",
       "count     3893.000000   3893.000000  3893.000000  \n",
       "mean         5.136546      6.795844     9.954791  \n",
       "std          3.104133      3.943392     3.220967  \n",
       "min          0.014175      0.042524     1.000000  \n",
       "25%          2.664853      3.713785     8.000000  \n",
       "50%          4.861939      6.662133    10.000000  \n",
       "75%          7.200773      9.355335    11.000000  \n",
       "max         21.545620     28.491248    29.000000  "
      ]
     },
     "execution_count": 100,
     "metadata": {},
     "output_type": "execute_result"
    }
   ],
   "source": [
    "dataC.describe()"
   ]
  },
  {
   "cell_type": "code",
   "execution_count": 101,
   "id": "6d487dd0-abc7-4a38-94df-31a64724c576",
   "metadata": {},
   "outputs": [
    {
     "data": {
      "image/png": "[encoded data removed]",
      "text/plain": [
       "<Figure size 2000x1200 with 7 Axes>"
      ]
     },
     "metadata": {},
     "output_type": "display_data"
    }
   ],
   "source": [
    "plt.figure(figsize=(20, 12))\n",
    "for i, col in enumerate(numeric_vars,start=1):\n",
    "    plt.subplot(3,3,i,title=col).boxplot(dataC[col],showmeans=True);"
   ]
  },
  {
   "cell_type": "markdown",
   "id": "45120a60-1dfc-4527-bc05-c0767ed39e97",
   "metadata": {},
   "source": [
    "Dai grafici si nota che per tutte le feature sono presenti dati molto distanti dalla mediana"
   ]
  },
  {
   "cell_type": "markdown",
   "id": "13faf45f-b71e-42b4-8e1a-bf8176f15cde",
   "metadata": {
    "id": "FWDW4j7sDMur"
   },
   "source": [
    "### sesso del granchio"
   ]
  },
  {
   "cell_type": "code",
   "execution_count": 102,
   "id": "fa66fc36-8be3-465f-82fa-f1e5ae44a6a2",
   "metadata": {},
   "outputs": [
    {
     "data": {
      "text/plain": [
       "Sex\n",
       "F    1225\n",
       "I    1233\n",
       "M    1435\n",
       "Name: count, dtype: int64"
      ]
     },
     "execution_count": 102,
     "metadata": {},
     "output_type": "execute_result"
    }
   ],
   "source": [
    "dataC[\"Sex\"].value_counts().sort_index()"
   ]
  },
  {
   "cell_type": "markdown",
   "id": "952658b9-f8f6-4f83-9b85-c7af5faec30a",
   "metadata": {},
   "source": [
    "Sono presenti quasi un terzo di granchi senza il sesso determinato questo rende più difficile la predizione"
   ]
  },
  {
   "cell_type": "markdown",
   "id": "e605775e-b3f5-47f2-b42e-83cf6d5b19c6",
   "metadata": {
    "id": "_hlTCw9xDDw7"
   },
   "source": [
    "### Correlazione tra i dati\n",
    "Si procede a verificare come i dati numerici siano legati all'età dei granchi"
   ]
  },
  {
   "cell_type": "code",
   "execution_count": 103,
   "id": "5956ca18-a1d5-4c46-b1ee-e8bf0e6f4972",
   "metadata": {
    "colab": {
     "base_uri": "https://localhost:8080/",
     "height": 487
    },
    "id": "GEx7Li2vM3OH",
    "outputId": "53b1fab1-367b-4fc6-b8c8-61ede9f1cd53"
   },
   "outputs": [
    {
     "data": {
      "image/png": "[encoded data removed]",
      "text/plain": [
       "<Figure size 1500x500 with 7 Axes>"
      ]
     },
     "metadata": {},
     "output_type": "display_data"
    }
   ],
   "source": [
    "def age_on_numerical_subplot(dataC,x, y, columns):\n",
    "    n = len(columns)\n",
    "    plt.figure(figsize=(15,5))\n",
    "    for i in range(0,n):\n",
    "      plt.subplot(x, y, i+1)\n",
    "      plt.scatter(dataC[columns[i]], dataC[\"Age\"] )\n",
    "      plt.xlabel(columns[i])\n",
    "      plt.ylabel(\"Age\")\n",
    "\n",
    "age_on_numerical_subplot(dataC, 1, len(numeric_vars),numeric_vars)"
   ]
  },
  {
   "cell_type": "markdown",
   "id": "381f189a-a26f-47a7-b2ba-6622e15ddd7f",
   "metadata": {},
   "source": [
    "come ci si aspetta al crescere delle dimensioni cresce l'età del granchio **ma questo accade con una certa regolarità fino al 10 mese**, alcuni valori successivamente **decrescono**. Inoltre vediamo per l'altezza ci sono dei valori che si discostano completamente da quelli in una crescita regolare andremo quindi ad eliminarli.\n",
    "Purtroppo a parità di età di dati si distribuisco su un intervallo molto grande, l'unico dato che subisce in maniera inferiore questa situazione è l'altezza"
   ]
  },
  {
   "cell_type": "code",
   "execution_count": 104,
   "id": "1780d8f5-ac67-4522-8c0d-71e37698348d",
   "metadata": {},
   "outputs": [
    {
     "data": {
      "text/html": [
       "<div>\n",
       "<style scoped>\n",
       "    .dataframe tbody tr th:only-of-type {\n",
       "        vertical-align: middle;\n",
       "    }\n",
       "\n",
       "    .dataframe tbody tr th {\n",
       "        vertical-align: top;\n",
       "    }\n",
       "\n",
       "    .dataframe thead th {\n",
       "        text-align: right;\n",
       "    }\n",
       "</style>\n",
       "<table border=\"1\" class=\"dataframe\">\n",
       "  <thead>\n",
       "    <tr style=\"text-align: right;\">\n",
       "      <th></th>\n",
       "      <th>Weight</th>\n",
       "      <th>Age</th>\n",
       "    </tr>\n",
       "  </thead>\n",
       "  <tbody>\n",
       "    <tr>\n",
       "      <th>7</th>\n",
       "      <td>23.572609</td>\n",
       "      <td>10</td>\n",
       "    </tr>\n",
       "    <tr>\n",
       "      <th>16</th>\n",
       "      <td>37.237068</td>\n",
       "      <td>10</td>\n",
       "    </tr>\n",
       "    <tr>\n",
       "      <th>43</th>\n",
       "      <td>34.047750</td>\n",
       "      <td>10</td>\n",
       "    </tr>\n",
       "    <tr>\n",
       "      <th>73</th>\n",
       "      <td>33.112216</td>\n",
       "      <td>10</td>\n",
       "    </tr>\n",
       "    <tr>\n",
       "      <th>98</th>\n",
       "      <td>42.807745</td>\n",
       "      <td>10</td>\n",
       "    </tr>\n",
       "    <tr>\n",
       "      <th>114</th>\n",
       "      <td>24.834162</td>\n",
       "      <td>10</td>\n",
       "    </tr>\n",
       "    <tr>\n",
       "      <th>121</th>\n",
       "      <td>33.594158</td>\n",
       "      <td>10</td>\n",
       "    </tr>\n",
       "    <tr>\n",
       "      <th>147</th>\n",
       "      <td>49.313955</td>\n",
       "      <td>10</td>\n",
       "    </tr>\n",
       "    <tr>\n",
       "      <th>172</th>\n",
       "      <td>29.058238</td>\n",
       "      <td>10</td>\n",
       "    </tr>\n",
       "    <tr>\n",
       "      <th>174</th>\n",
       "      <td>15.960769</td>\n",
       "      <td>10</td>\n",
       "    </tr>\n",
       "  </tbody>\n",
       "</table>\n",
       "</div>"
      ],
      "text/plain": [
       "        Weight  Age\n",
       "7    23.572609   10\n",
       "16   37.237068   10\n",
       "43   34.047750   10\n",
       "73   33.112216   10\n",
       "98   42.807745   10\n",
       "114  24.834162   10\n",
       "121  33.594158   10\n",
       "147  49.313955   10\n",
       "172  29.058238   10\n",
       "174  15.960769   10"
      ]
     },
     "execution_count": 104,
     "metadata": {},
     "output_type": "execute_result"
    }
   ],
   "source": [
    "dataC[(dataC['Age'] == 10) & (dataC['Sex'] =='M')][['Weight', 'Age']].head(10)"
   ]
  },
  {
   "cell_type": "markdown",
   "id": "ef68c33e-dc06-4445-8041-26016d04e3f5",
   "metadata": {},
   "source": [
    "qui sopra è subito visibile l'oscillazione di peso presente tra 10 granchi di 10 mesi e tutti maschi"
   ]
  },
  {
   "cell_type": "markdown",
   "id": "d2ce1b5b-c4ad-4e8f-8794-27ec3cffc3ec",
   "metadata": {},
   "source": [
    "## Correlazione tra i vari sottotipi di weight\n",
    "Ci chiediamo se la variabile Weight è la somma di 'Shucked Weight' + ' Viscera Weigh' + '  Shell Weig'? verifichiamo:ht"
   ]
  },
  {
   "cell_type": "code",
   "execution_count": 105,
   "id": "4138dc7c-c4f9-4470-ba84-2c156c3f9ed3",
   "metadata": {},
   "outputs": [],
   "source": [
    "dataTestWeight = dataC.copy()"
   ]
  },
  {
   "cell_type": "code",
   "execution_count": 106,
   "id": "39a1667c-6e27-4ec6-a073-135c6ab96fc3",
   "metadata": {},
   "outputs": [],
   "source": [
    "dataTestWeight['diffpesi']=dataC['Weight'] - dataC['Shucked Weight'] - dataC['Viscera Weight'] - dataC['Shell Weight'] "
   ]
  },
  {
   "cell_type": "code",
   "execution_count": 107,
   "id": "61e21215-0793-4588-b320-528b81b14d12",
   "metadata": {},
   "outputs": [
    {
     "data": {
      "text/plain": [
       "0   -0.028350\n",
       "1    0.170097\n",
       "2    0.354369\n",
       "3    1.204854\n",
       "4    0.255146\n",
       "5    1.091456\n",
       "6    0.935534\n",
       "7    1.133980\n",
       "8    1.927766\n",
       "9    0.396893\n",
       "Name: diffpesi, dtype: float64"
      ]
     },
     "execution_count": 107,
     "metadata": {},
     "output_type": "execute_result"
    }
   ],
   "source": [
    "dataTestWeight['diffpesi'].head(10)"
   ]
  },
  {
   "cell_type": "code",
   "execution_count": 108,
   "id": "d85d38ec-12c7-4205-a813-40bb6d1d3646",
   "metadata": {},
   "outputs": [
    {
     "data": {
      "text/plain": [
       "Text(0, 0.5, 'Age')"
      ]
     },
     "execution_count": 108,
     "metadata": {},
     "output_type": "execute_result"
    },
    {
     "data": {
      "image/png": "[encoded data removed]",
      "text/plain": [
       "<Figure size 1500x500 with 1 Axes>"
      ]
     },
     "metadata": {},
     "output_type": "display_data"
    }
   ],
   "source": [
    "plt.figure(figsize=(15,5))\n",
    "plt.scatter(dataTestWeight[\"diffpesi\"], dataTestWeight[\"Age\"] )\n",
    "plt.xlabel(\"diffpesi\")\n",
    "plt.ylabel(\"Age\")"
   ]
  },
  {
   "cell_type": "markdown",
   "id": "8ce10b82-f266-4b69-84ff-285395c650e7",
   "metadata": {
    "scrolled": true
   },
   "source": [
    "purtroppo questa diffenza non sempra avvere una correlazione significativa con l'età del granchio.\n",
    "**Non  aggiungiamo quindi questa feature al Dataset**"
   ]
  },
  {
   "cell_type": "markdown",
   "id": "c296a82f-f1a7-4d94-b750-688b120f7415",
   "metadata": {
    "id": "2SNipH8e5XZs"
   },
   "source": [
    "# Preprocessamento\n",
    "Eliminiamo i valori estremi  di height, e Viscera Weight\n",
    "\n"
   ]
  },
  {
   "cell_type": "code",
   "execution_count": 109,
   "id": "902117ea-8b4a-44f3-8a24-f6696f7e3357",
   "metadata": {},
   "outputs": [
    {
     "data": {
      "text/plain": [
       "2"
      ]
     },
     "execution_count": 109,
     "metadata": {},
     "output_type": "execute_result"
    }
   ],
   "source": [
    "(dataC[\"Height\"] > 0.7).sum()"
   ]
  },
  {
   "cell_type": "code",
   "execution_count": 110,
   "id": "c7d60d51-3e22-4b04-a1f7-a018e2e5af0d",
   "metadata": {},
   "outputs": [
    {
     "data": {
      "text/plain": [
       "2"
      ]
     },
     "execution_count": 110,
     "metadata": {},
     "output_type": "execute_result"
    }
   ],
   "source": [
    "(dataC[\"Viscera Weight\"] > 18).sum()"
   ]
  },
  {
   "cell_type": "code",
   "execution_count": 111,
   "id": "47bad2f4-6663-44a7-8a83-053235a4c303",
   "metadata": {},
   "outputs": [],
   "source": [
    "dataC = dataC[(dataC[\"Height\"] <= 0.7) & (dataC[\"Viscera Weight\"] <= 18)]"
   ]
  },
  {
   "cell_type": "code",
   "execution_count": 112,
   "id": "552a9ba7-ca80-4142-84cd-b743997768ac",
   "metadata": {},
   "outputs": [
    {
     "data": {
      "image/png": "[encoded data removed]",
      "text/plain": [
       "<Figure size 1500x500 with 7 Axes>"
      ]
     },
     "metadata": {},
     "output_type": "display_data"
    }
   ],
   "source": [
    "age_on_numerical_subplot(dataC, 1, len(numeric_vars), numeric_vars)"
   ]
  },
  {
   "cell_type": "code",
   "execution_count": 113,
   "id": "f7de6d83-4803-4118-8983-c69db7164c22",
   "metadata": {
    "scrolled": true
   },
   "outputs": [
    {
     "data": {
      "text/plain": [
       "(3889, 9)"
      ]
     },
     "execution_count": 113,
     "metadata": {},
     "output_type": "execute_result"
    }
   ],
   "source": [
    "dataC.shape"
   ]
  },
  {
   "cell_type": "markdown",
   "id": "9ed917f8-aee8-44c9-8937-ccfe958df72b",
   "metadata": {},
   "source": [
    "Gestione variabile 'Sex'"
   ]
  },
  {
   "cell_type": "code",
   "execution_count": 114,
   "id": "aa6ef5f6-177e-44af-8ebf-1b6eb6927a69",
   "metadata": {},
   "outputs": [
    {
     "data": {
      "text/plain": [
       "['F', 'M', 'I']\n",
       "Categories (3, object): ['F', 'I', 'M']"
      ]
     },
     "execution_count": 114,
     "metadata": {},
     "output_type": "execute_result"
    }
   ],
   "source": [
    "dataC[\"Sex\"].unique()"
   ]
  },
  {
   "cell_type": "markdown",
   "id": "3907a4d1-ddd7-4d29-a2ad-571e39085bac",
   "metadata": {},
   "source": [
    "La variabile categoriaca \"Sex\" la convertiamo in formato numerico con codifica binaria \"One-Hot\""
   ]
  },
  {
   "cell_type": "code",
   "execution_count": 115,
   "id": "1e07ff31-2cca-4df2-8708-05ecd8009538",
   "metadata": {},
   "outputs": [],
   "source": [
    "from sklearn.preprocessing import OneHotEncoder"
   ]
  },
  {
   "cell_type": "code",
   "execution_count": 116,
   "id": "df044c57-554e-4112-bb43-2615d97a95f9",
   "metadata": {},
   "outputs": [],
   "source": [
    "encoder = OneHotEncoder(drop=\"first\", sparse_output=False)\n",
    "encorder_r = pd.DataFrame(\n",
    "   encoder.fit_transform(dataC[[\"Sex\"]]),\n",
    "   columns=encoder.get_feature_names_out([\"Sex\"])\n",
    ")"
   ]
  },
  {
   "cell_type": "code",
   "execution_count": 117,
   "id": "655fe4e7-8785-40e9-a786-e16bd7ca85c3",
   "metadata": {},
   "outputs": [],
   "source": [
    "dataC = pd.concat([dataC.drop(columns=[\"Sex\"]), encorder_r], axis=1)"
   ]
  },
  {
   "cell_type": "code",
   "execution_count": 118,
   "id": "36b28004-d701-4556-9d6f-0ac53559d993",
   "metadata": {},
   "outputs": [
    {
     "data": {
      "text/html": [
       "<div>\n",
       "<style scoped>\n",
       "    .dataframe tbody tr th:only-of-type {\n",
       "        vertical-align: middle;\n",
       "    }\n",
       "\n",
       "    .dataframe tbody tr th {\n",
       "        vertical-align: top;\n",
       "    }\n",
       "\n",
       "    .dataframe thead th {\n",
       "        text-align: right;\n",
       "    }\n",
       "</style>\n",
       "<table border=\"1\" class=\"dataframe\">\n",
       "  <thead>\n",
       "    <tr style=\"text-align: right;\">\n",
       "      <th></th>\n",
       "      <th>Length</th>\n",
       "      <th>Diameter</th>\n",
       "      <th>Height</th>\n",
       "      <th>Weight</th>\n",
       "      <th>Shucked Weight</th>\n",
       "      <th>Viscera Weight</th>\n",
       "      <th>Shell Weight</th>\n",
       "      <th>Age</th>\n",
       "      <th>Sex_I</th>\n",
       "      <th>Sex_M</th>\n",
       "    </tr>\n",
       "  </thead>\n",
       "  <tbody>\n",
       "    <tr>\n",
       "      <th>3889</th>\n",
       "      <td>1.5500</td>\n",
       "      <td>1.2125</td>\n",
       "      <td>0.4375</td>\n",
       "      <td>34.458817</td>\n",
       "      <td>15.450477</td>\n",
       "      <td>7.172423</td>\n",
       "      <td>9.780577</td>\n",
       "      <td>10.0</td>\n",
       "      <td>NaN</td>\n",
       "      <td>NaN</td>\n",
       "    </tr>\n",
       "    <tr>\n",
       "      <th>3890</th>\n",
       "      <td>0.6250</td>\n",
       "      <td>0.4625</td>\n",
       "      <td>0.1625</td>\n",
       "      <td>2.012815</td>\n",
       "      <td>0.765436</td>\n",
       "      <td>0.524466</td>\n",
       "      <td>0.637864</td>\n",
       "      <td>5.0</td>\n",
       "      <td>NaN</td>\n",
       "      <td>NaN</td>\n",
       "    </tr>\n",
       "    <tr>\n",
       "      <th>3891</th>\n",
       "      <td>1.0625</td>\n",
       "      <td>0.7750</td>\n",
       "      <td>0.2625</td>\n",
       "      <td>10.347568</td>\n",
       "      <td>4.507570</td>\n",
       "      <td>2.338834</td>\n",
       "      <td>2.976698</td>\n",
       "      <td>6.0</td>\n",
       "      <td>NaN</td>\n",
       "      <td>NaN</td>\n",
       "    </tr>\n",
       "    <tr>\n",
       "      <th>3892</th>\n",
       "      <td>0.7875</td>\n",
       "      <td>0.6125</td>\n",
       "      <td>0.2125</td>\n",
       "      <td>4.068153</td>\n",
       "      <td>1.502523</td>\n",
       "      <td>1.346601</td>\n",
       "      <td>1.417475</td>\n",
       "      <td>8.0</td>\n",
       "      <td>NaN</td>\n",
       "      <td>NaN</td>\n",
       "    </tr>\n",
       "    <tr>\n",
       "      <th>748</th>\n",
       "      <td>NaN</td>\n",
       "      <td>NaN</td>\n",
       "      <td>NaN</td>\n",
       "      <td>NaN</td>\n",
       "      <td>NaN</td>\n",
       "      <td>NaN</td>\n",
       "      <td>NaN</td>\n",
       "      <td>NaN</td>\n",
       "      <td>1.0</td>\n",
       "      <td>0.0</td>\n",
       "    </tr>\n",
       "    <tr>\n",
       "      <th>772</th>\n",
       "      <td>NaN</td>\n",
       "      <td>NaN</td>\n",
       "      <td>NaN</td>\n",
       "      <td>NaN</td>\n",
       "      <td>NaN</td>\n",
       "      <td>NaN</td>\n",
       "      <td>NaN</td>\n",
       "      <td>NaN</td>\n",
       "      <td>1.0</td>\n",
       "      <td>0.0</td>\n",
       "    </tr>\n",
       "    <tr>\n",
       "      <th>1757</th>\n",
       "      <td>NaN</td>\n",
       "      <td>NaN</td>\n",
       "      <td>NaN</td>\n",
       "      <td>NaN</td>\n",
       "      <td>NaN</td>\n",
       "      <td>NaN</td>\n",
       "      <td>NaN</td>\n",
       "      <td>NaN</td>\n",
       "      <td>0.0</td>\n",
       "      <td>0.0</td>\n",
       "    </tr>\n",
       "    <tr>\n",
       "      <th>2256</th>\n",
       "      <td>NaN</td>\n",
       "      <td>NaN</td>\n",
       "      <td>NaN</td>\n",
       "      <td>NaN</td>\n",
       "      <td>NaN</td>\n",
       "      <td>NaN</td>\n",
       "      <td>NaN</td>\n",
       "      <td>NaN</td>\n",
       "      <td>1.0</td>\n",
       "      <td>0.0</td>\n",
       "    </tr>\n",
       "  </tbody>\n",
       "</table>\n",
       "</div>"
      ],
      "text/plain": [
       "      Length  Diameter  Height     Weight  Shucked Weight  Viscera Weight  \\\n",
       "3889  1.5500    1.2125  0.4375  34.458817       15.450477        7.172423   \n",
       "3890  0.6250    0.4625  0.1625   2.012815        0.765436        0.524466   \n",
       "3891  1.0625    0.7750  0.2625  10.347568        4.507570        2.338834   \n",
       "3892  0.7875    0.6125  0.2125   4.068153        1.502523        1.346601   \n",
       "748      NaN       NaN     NaN        NaN             NaN             NaN   \n",
       "772      NaN       NaN     NaN        NaN             NaN             NaN   \n",
       "1757     NaN       NaN     NaN        NaN             NaN             NaN   \n",
       "2256     NaN       NaN     NaN        NaN             NaN             NaN   \n",
       "\n",
       "      Shell Weight   Age  Sex_I  Sex_M  \n",
       "3889      9.780577  10.0    NaN    NaN  \n",
       "3890      0.637864   5.0    NaN    NaN  \n",
       "3891      2.976698   6.0    NaN    NaN  \n",
       "3892      1.417475   8.0    NaN    NaN  \n",
       "748            NaN   NaN    1.0    0.0  \n",
       "772            NaN   NaN    1.0    0.0  \n",
       "1757           NaN   NaN    0.0    0.0  \n",
       "2256           NaN   NaN    1.0    0.0  "
      ]
     },
     "execution_count": 118,
     "metadata": {},
     "output_type": "execute_result"
    }
   ],
   "source": [
    "dataC[dataC.isna().any(axis=1)]"
   ]
  },
  {
   "cell_type": "code",
   "execution_count": 119,
   "id": "4c7d2eca-785e-4b28-b9bd-f5b990d78244",
   "metadata": {},
   "outputs": [],
   "source": [
    "dataC.dropna(inplace=True)"
   ]
  },
  {
   "cell_type": "code",
   "execution_count": 120,
   "id": "0f7d0fba-8032-4396-852a-92a0f08e6b26",
   "metadata": {},
   "outputs": [
    {
     "data": {
      "text/html": [
       "<div>\n",
       "<style scoped>\n",
       "    .dataframe tbody tr th:only-of-type {\n",
       "        vertical-align: middle;\n",
       "    }\n",
       "\n",
       "    .dataframe tbody tr th {\n",
       "        vertical-align: top;\n",
       "    }\n",
       "\n",
       "    .dataframe thead th {\n",
       "        text-align: right;\n",
       "    }\n",
       "</style>\n",
       "<table border=\"1\" class=\"dataframe\">\n",
       "  <thead>\n",
       "    <tr style=\"text-align: right;\">\n",
       "      <th></th>\n",
       "      <th>Sex_I</th>\n",
       "      <th>Sex_M</th>\n",
       "    </tr>\n",
       "  </thead>\n",
       "  <tbody>\n",
       "    <tr>\n",
       "      <th>0</th>\n",
       "      <td>0.0</td>\n",
       "      <td>0.0</td>\n",
       "    </tr>\n",
       "    <tr>\n",
       "      <th>1</th>\n",
       "      <td>0.0</td>\n",
       "      <td>1.0</td>\n",
       "    </tr>\n",
       "    <tr>\n",
       "      <th>2</th>\n",
       "      <td>1.0</td>\n",
       "      <td>0.0</td>\n",
       "    </tr>\n",
       "    <tr>\n",
       "      <th>3</th>\n",
       "      <td>0.0</td>\n",
       "      <td>0.0</td>\n",
       "    </tr>\n",
       "    <tr>\n",
       "      <th>4</th>\n",
       "      <td>1.0</td>\n",
       "      <td>0.0</td>\n",
       "    </tr>\n",
       "  </tbody>\n",
       "</table>\n",
       "</div>"
      ],
      "text/plain": [
       "   Sex_I  Sex_M\n",
       "0    0.0    0.0\n",
       "1    0.0    1.0\n",
       "2    1.0    0.0\n",
       "3    0.0    0.0\n",
       "4    1.0    0.0"
      ]
     },
     "execution_count": 120,
     "metadata": {},
     "output_type": "execute_result"
    }
   ],
   "source": [
    "dataC.filter(like=\"Sex\").head()"
   ]
  },
  {
   "cell_type": "markdown",
   "id": "933d281b-cc32-4c20-9b68-a655a29c2570",
   "metadata": {},
   "source": [
    "questa soluzione elimina una colonna ed esegue una correlazione migliore"
   ]
  },
  {
   "cell_type": "markdown",
   "id": "0231ac96-6238-4cc1-bc0f-55a09b4f8898",
   "metadata": {
    "id": "EEoQowYMkkRn"
   },
   "source": [
    "si procede ad isolare la colonna Age e a dividere i dati in training e validation set con il metodo **hold-out**."
   ]
  },
  {
   "cell_type": "code",
   "execution_count": 121,
   "id": "56dea3c6-4009-4228-8a26-d0b7fdff1a49",
   "metadata": {
    "id": "SMd7p6XQlg_v"
   },
   "outputs": [],
   "source": [
    "from sklearn.model_selection import train_test_split\n",
    "x = dataC.drop(columns=\"Age\")\n",
    "y = dataC[\"Age\"]\n",
    "\n",
    "x_train, x_val, y_train, y_val = train_test_split(x, y, test_size=_TEST_SIZE, random_state=_RANDOM_STATE)"
   ]
  },
  {
   "cell_type": "markdown",
   "id": "4041e449-117a-41bd-80f0-f1064d5234fe",
   "metadata": {
    "slideshow": {
     "slide_type": "slide"
    }
   },
   "source": [
    "## Analisi coefficienti modelli\n",
    "\n",
    "\n",
    " \n",
    "uso la funzione print_eval vista a lezione per calcolare e stampare le metriche d'errore:\n",
    "  - l'_errore relativo_, che indica intuitivamente la percentuale di errore del modello\n",
    "  - l'_errore quadratico medio_, usato nella discesa del gradiente ma più difficilmente interpretabile\n",
    "  - il _coefficiente R²_, che esprime l'accuratezza con un indice tra 0 e 1\n",
    "  - _Root Mean Squared Percentage Error_ (RMSPE), usato nella competizione Kaggle come misura di riferimento\n",
    "$$ \\textrm{RMSPE} = \\sqrt{\\frac{1}{n} \\sum_{i=1}^{n} \\left(\\frac{y_i - \\hat{y}_i}{y_i}\\right)^2} $$\n",
    "- Definiamo una funzione `rmspe` per calcolare tale metrica dati i valori attesi e le predizioni"
   ]
  },
  {
   "cell_type": "code",
   "execution_count": 122,
   "id": "7464a02e-9d75-40da-b8bc-74b456dc014f",
   "metadata": {},
   "outputs": [],
   "source": [
    "# MSE e R^2 sono incluse in scikit-learn\n",
    "from sklearn.metrics import mean_squared_error, r2_score\n",
    "\n",
    "# definisco l'errore relativo\n",
    "def relative_error(y_true, y_pred):\n",
    "    return np.mean(np.abs((y_true - y_pred) / y_true))\n",
    "\n",
    "def rmspe(y_real, y_pred):\n",
    "    return np.sqrt(np.mean((y_pred /y_real - 1) ** 2))\n",
    "\n",
    "def print_eval(X, y, model):\n",
    "    y_pred = model.predict(X)\n",
    "    print(f\" errRelat: {relative_error(y, y_pred):12.4f}\")\n",
    "    print(f\"      MSE: {mean_squared_error(y, y_pred):12.4f}\")\n",
    "    print(f\"R-2 Score: {r2_score(y, y_pred):12.4f}\")\n",
    "    print(f\"    RMSPE: {rmspe(y, y_pred):12.4f}\")"
   ]
  },
  {
   "cell_type": "code",
   "execution_count": 123,
   "id": "4a66d192-c398-4c36-9bec-e44266575063",
   "metadata": {},
   "outputs": [],
   "source": [
    "save_score = {}"
   ]
  },
  {
   "cell_type": "markdown",
   "id": "2df11f27-a613-4800-9432-ad321827adeb",
   "metadata": {},
   "source": [
    "## Modelli\n",
    "eseguo qualche prima prova esporativa per verificare i coefficienti"
   ]
  },
  {
   "cell_type": "code",
   "execution_count": 124,
   "id": "9431be8a-e794-48d9-821a-0db38a24733b",
   "metadata": {},
   "outputs": [
    {
     "name": "stdout",
     "output_type": "stream",
     "text": [
      " errRelat:       0.1522\n",
      "      MSE:       4.6792\n",
      "R-2 Score:       0.5448\n",
      "    RMSPE:       0.1947\n"
     ]
    }
   ],
   "source": [
    "from sklearn.pipeline import Pipeline\n",
    "from sklearn.linear_model import Ridge\n",
    "from sklearn.preprocessing import PolynomialFeatures, StandardScaler\n",
    "from sklearn.linear_model import LinearRegression\n",
    "model_a = LinearRegression()\n",
    "model_a.fit(x_train, y_train)\n",
    "print_eval(x_val, y_val, model_a)"
   ]
  },
  {
   "cell_type": "code",
   "execution_count": 125,
   "id": "03575040-a521-4bb6-8c4b-662efb552c9d",
   "metadata": {},
   "outputs": [
    {
     "name": "stdout",
     "output_type": "stream",
     "text": [
      " errRelat:       0.1525\n",
      "      MSE:       4.6868\n",
      "R-2 Score:       0.5441\n",
      "    RMSPE:       0.1954\n"
     ]
    }
   ],
   "source": [
    "model_b = Ridge(alpha=1)\n",
    "model_b.fit(x_train, y_train)\n",
    "print_eval(x_val, y_val, model_b)"
   ]
  },
  {
   "cell_type": "markdown",
   "id": "7dadc84e-2056-4fd3-b034-9122e40d4a17",
   "metadata": {},
   "source": [
    "- Visualizziamo i coefficienti dei modelli:"
   ]
  },
  {
   "cell_type": "code",
   "execution_count": 126,
   "id": "8f10ff11-7aba-442a-a733-4d5d68f67cf7",
   "metadata": {},
   "outputs": [
    {
     "data": {
      "text/html": [
       "<div>\n",
       "<style scoped>\n",
       "    .dataframe tbody tr th:only-of-type {\n",
       "        vertical-align: middle;\n",
       "    }\n",
       "\n",
       "    .dataframe tbody tr th {\n",
       "        vertical-align: top;\n",
       "    }\n",
       "\n",
       "    .dataframe thead th {\n",
       "        text-align: right;\n",
       "    }\n",
       "</style>\n",
       "<table border=\"1\" class=\"dataframe\">\n",
       "  <thead>\n",
       "    <tr style=\"text-align: right;\">\n",
       "      <th></th>\n",
       "      <th>linear</th>\n",
       "      <th>ridge</th>\n",
       "    </tr>\n",
       "  </thead>\n",
       "  <tbody>\n",
       "    <tr>\n",
       "      <th>Length</th>\n",
       "      <td>-0.404835</td>\n",
       "      <td>0.326053</td>\n",
       "    </tr>\n",
       "    <tr>\n",
       "      <th>Diameter</th>\n",
       "      <td>4.375285</td>\n",
       "      <td>3.834234</td>\n",
       "    </tr>\n",
       "    <tr>\n",
       "      <th>Height</th>\n",
       "      <td>10.135355</td>\n",
       "      <td>8.056977</td>\n",
       "    </tr>\n",
       "    <tr>\n",
       "      <th>Weight</th>\n",
       "      <td>0.292027</td>\n",
       "      <td>0.294323</td>\n",
       "    </tr>\n",
       "    <tr>\n",
       "      <th>Shucked Weight</th>\n",
       "      <td>-0.665378</td>\n",
       "      <td>-0.671231</td>\n",
       "    </tr>\n",
       "    <tr>\n",
       "      <th>Viscera Weight</th>\n",
       "      <td>-0.376899</td>\n",
       "      <td>-0.367982</td>\n",
       "    </tr>\n",
       "    <tr>\n",
       "      <th>Shell Weight</th>\n",
       "      <td>0.276472</td>\n",
       "      <td>0.296250</td>\n",
       "    </tr>\n",
       "    <tr>\n",
       "      <th>Sex_I</th>\n",
       "      <td>-0.009257</td>\n",
       "      <td>-0.011413</td>\n",
       "    </tr>\n",
       "    <tr>\n",
       "      <th>Sex_M</th>\n",
       "      <td>0.129125</td>\n",
       "      <td>0.132144</td>\n",
       "    </tr>\n",
       "  </tbody>\n",
       "</table>\n",
       "</div>"
      ],
      "text/plain": [
       "                   linear     ridge\n",
       "Length          -0.404835  0.326053\n",
       "Diameter         4.375285  3.834234\n",
       "Height          10.135355  8.056977\n",
       "Weight           0.292027  0.294323\n",
       "Shucked Weight  -0.665378 -0.671231\n",
       "Viscera Weight  -0.376899 -0.367982\n",
       "Shell Weight     0.276472  0.296250\n",
       "Sex_I           -0.009257 -0.011413\n",
       "Sex_M            0.129125  0.132144"
      ]
     },
     "execution_count": 126,
     "metadata": {},
     "output_type": "execute_result"
    }
   ],
   "source": [
    "pd.DataFrame({\n",
    "    \"linear\": model_a.coef_,\n",
    "    \"ridge\": model_b.coef_\n",
    "}, index=x.columns)"
   ]
  },
  {
   "cell_type": "raw",
   "id": "50b04a2d-e741-4ac2-9c41-7604e03db25a",
   "metadata": {},
   "source": [
    "da una prima analisi vediamo che l'altezza del granchio  determina notevolmento il risultato finale. Avevamo già individuato questo in fase di verifica della correlazione dei dati dove l'altezza e il dato che meglio variava al crescere del granchio."
   ]
  },
  {
   "cell_type": "markdown",
   "id": "d398b79a-b3a0-4e56-95cc-de75143ad5ce",
   "metadata": {},
   "source": [
    "Da questo momento al nostro dataframe applicheremo sempre un filtro StandardScaler per standarizzare i dati essendo relativi a scale diverse"
   ]
  },
  {
   "cell_type": "markdown",
   "id": "5a85943f-e004-4a6e-8d75-8976137372be",
   "metadata": {},
   "source": [
    "## Regressione Lasso\n",
    "Testiamo ora la Regressione Lasso dove le variabili meno importanti vengono eliminate.\n",
    "Creiamo una pipeline e facciamo partire la grid search che testa il modello in 5-cross fold validation secondo il set di iperparametri che gli chiediamo di valutare.\r\n"
   ]
  },
  {
   "cell_type": "code",
   "execution_count": 127,
   "id": "dc2b2a89-d88d-4971-a922-3455a0679926",
   "metadata": {},
   "outputs": [
    {
     "data": {
      "text/html": [
       "<div>\n",
       "<style scoped>\n",
       "    .dataframe tbody tr th:only-of-type {\n",
       "        vertical-align: middle;\n",
       "    }\n",
       "\n",
       "    .dataframe tbody tr th {\n",
       "        vertical-align: top;\n",
       "    }\n",
       "\n",
       "    .dataframe thead th {\n",
       "        text-align: right;\n",
       "    }\n",
       "</style>\n",
       "<table border=\"1\" class=\"dataframe\">\n",
       "  <thead>\n",
       "    <tr style=\"text-align: right;\">\n",
       "      <th></th>\n",
       "      <th>rank_test_score</th>\n",
       "      <th>mean_test_score</th>\n",
       "      <th>std_test_score</th>\n",
       "      <th>params</th>\n",
       "    </tr>\n",
       "  </thead>\n",
       "  <tbody>\n",
       "    <tr>\n",
       "      <th>0</th>\n",
       "      <td>1</td>\n",
       "      <td>0.483900</td>\n",
       "      <td>0.011219</td>\n",
       "      <td>{'regr__alpha': 0.1}</td>\n",
       "    </tr>\n",
       "    <tr>\n",
       "      <th>1</th>\n",
       "      <td>2</td>\n",
       "      <td>0.298546</td>\n",
       "      <td>0.005931</td>\n",
       "      <td>{'regr__alpha': 1}</td>\n",
       "    </tr>\n",
       "    <tr>\n",
       "      <th>2</th>\n",
       "      <td>3</td>\n",
       "      <td>-0.000365</td>\n",
       "      <td>0.000552</td>\n",
       "      <td>{'regr__alpha': 10}</td>\n",
       "    </tr>\n",
       "  </tbody>\n",
       "</table>\n",
       "</div>"
      ],
      "text/plain": [
       "   rank_test_score  mean_test_score  std_test_score                params\n",
       "0                1         0.483900        0.011219  {'regr__alpha': 0.1}\n",
       "1                2         0.298546        0.005931    {'regr__alpha': 1}\n",
       "2                3        -0.000365        0.000552   {'regr__alpha': 10}"
      ]
     },
     "execution_count": 127,
     "metadata": {},
     "output_type": "execute_result"
    }
   ],
   "source": [
    "from sklearn.model_selection import GridSearchCV\n",
    "from sklearn.linear_model import Lasso\n",
    "modelLas = Pipeline([\n",
    "    (\"scale\", StandardScaler()),\n",
    "    (\"regr\", Lasso())\n",
    "])\n",
    "grid = {\n",
    "    \"regr__alpha\":  [0.1, 1, 10]\n",
    "}\n",
    "gs = GridSearchCV(modelLas, grid, cv=5)\n",
    "gs.fit(x_train, y_train)\n",
    "sel = [\"rank_test_score\",\"mean_test_score\",\"std_test_score\",\"params\"]\n",
    "pd.DataFrame(gs.cv_results_)[sel]"
   ]
  },
  {
   "cell_type": "markdown",
   "id": "d5190d38-c18a-4046-974f-50e31f55cc39",
   "metadata": {},
   "source": [
    "Scegliamo quindi il parametro più piccolo perché vediamo che l'accuratezza crolla con una regolarizzazione più forte e addestriamo un modello allo scopo di individuare le feature più rilevanti."
   ]
  },
  {
   "cell_type": "code",
   "execution_count": 128,
   "id": "c4c939b7-727f-445d-bbd0-fc970673f11f",
   "metadata": {},
   "outputs": [],
   "source": [
    "modelLas = Pipeline([\n",
    "    (\"scale\",  StandardScaler(with_mean=False)),\n",
    "    (\"linreg\", Lasso(alpha=0.1))\n",
    "])\n",
    "modelLas.fit(x_train, y_train);"
   ]
  },
  {
   "cell_type": "code",
   "execution_count": 129,
   "id": "fa6c24d9-43f2-4efd-8e1f-4337141fe2de",
   "metadata": {},
   "outputs": [
    {
     "data": {
      "text/plain": [
       "Length            0.000000\n",
       "Diameter          0.333318\n",
       "Height            0.974386\n",
       "Weight            0.000000\n",
       "Shucked Weight   -1.403476\n",
       "Viscera Weight   -0.000000\n",
       "Shell Weight      1.978978\n",
       "Sex_I            -0.000000\n",
       "Sex_M             0.000000\n",
       "dtype: float64"
      ]
     },
     "execution_count": 129,
     "metadata": {},
     "output_type": "execute_result"
    }
   ],
   "source": [
    "pd.Series(modelLas.named_steps[\"linreg\"].coef_, x.columns)"
   ]
  },
  {
   "cell_type": "code",
   "execution_count": 130,
   "id": "1eb9f7ef-4849-4558-a3fd-e70bf11f2fea",
   "metadata": {},
   "outputs": [
    {
     "name": "stdout",
     "output_type": "stream",
     "text": [
      " errRelat:       0.1590\n",
      "      MSE:       5.1621\n",
      "R-2 Score:       0.4979\n",
      "    RMSPE:       0.2058\n"
     ]
    }
   ],
   "source": [
    "print_eval(x_val, y_val, modelLas)"
   ]
  },
  {
   "cell_type": "markdown",
   "id": "90cdeaa4-78a7-4bee-9578-970be37c3bb4",
   "metadata": {},
   "source": [
    "l'errore è maggiore di quello ottenuto nei precedenti modelli fatti a puro scopo esplorativo.\n",
    "Quindi anche se non tutte le feature sono ugualmente rilevanti è difficile selezionarne un gruppo ristretto e avere comunque una precisione accettabile."
   ]
  },
  {
   "cell_type": "code",
   "execution_count": 131,
   "id": "58006e0e-aeec-4d92-84e7-fd09c0be4596",
   "metadata": {},
   "outputs": [],
   "source": [
    "save_score['Lasso'] = modelLas.score(x_val, y_val)"
   ]
  },
  {
   "cell_type": "markdown",
   "id": "717bc1f9-1e63-4671-91d5-957840e816f8",
   "metadata": {},
   "source": [
    "## Regressione Ridge"
   ]
  },
  {
   "cell_type": "markdown",
   "id": "7e6bda12-0e18-4b30-8497-bf3d896181c6",
   "metadata": {},
   "source": [
    "Testiamo ora il modello di regressione Ridge, modello di regressione lineare applicando però una regolarizzazione per evitare che i coefficienti crescano troppo. Sotto abbiamo visto che usando PolynomialFeatures di grado 2 il modello migliora."
   ]
  },
  {
   "cell_type": "code",
   "execution_count": 132,
   "id": "38dc3e42-4b00-44dd-b06d-dc1763f1d323",
   "metadata": {},
   "outputs": [
    {
     "data": {
      "text/html": [
       "<div>\n",
       "<style scoped>\n",
       "    .dataframe tbody tr th:only-of-type {\n",
       "        vertical-align: middle;\n",
       "    }\n",
       "\n",
       "    .dataframe tbody tr th {\n",
       "        vertical-align: top;\n",
       "    }\n",
       "\n",
       "    .dataframe thead th {\n",
       "        text-align: right;\n",
       "    }\n",
       "</style>\n",
       "<table border=\"1\" class=\"dataframe\">\n",
       "  <thead>\n",
       "    <tr style=\"text-align: right;\">\n",
       "      <th></th>\n",
       "      <th>rank_test_score</th>\n",
       "      <th>mean_test_score</th>\n",
       "      <th>std_test_score</th>\n",
       "      <th>params</th>\n",
       "    </tr>\n",
       "  </thead>\n",
       "  <tbody>\n",
       "    <tr>\n",
       "      <th>1</th>\n",
       "      <td>1</td>\n",
       "      <td>0.547419</td>\n",
       "      <td>0.020306</td>\n",
       "      <td>{'linreg__alpha': 1}</td>\n",
       "    </tr>\n",
       "    <tr>\n",
       "      <th>0</th>\n",
       "      <td>2</td>\n",
       "      <td>0.544986</td>\n",
       "      <td>0.022746</td>\n",
       "      <td>{'linreg__alpha': 0.1}</td>\n",
       "    </tr>\n",
       "    <tr>\n",
       "      <th>2</th>\n",
       "      <td>3</td>\n",
       "      <td>0.542613</td>\n",
       "      <td>0.015023</td>\n",
       "      <td>{'linreg__alpha': 10}</td>\n",
       "    </tr>\n",
       "    <tr>\n",
       "      <th>3</th>\n",
       "      <td>4</td>\n",
       "      <td>0.524314</td>\n",
       "      <td>0.012504</td>\n",
       "      <td>{'linreg__alpha': 50}</td>\n",
       "    </tr>\n",
       "  </tbody>\n",
       "</table>\n",
       "</div>"
      ],
      "text/plain": [
       "   rank_test_score  mean_test_score  std_test_score                  params\n",
       "1                1         0.547419        0.020306    {'linreg__alpha': 1}\n",
       "0                2         0.544986        0.022746  {'linreg__alpha': 0.1}\n",
       "2                3         0.542613        0.015023   {'linreg__alpha': 10}\n",
       "3                4         0.524314        0.012504   {'linreg__alpha': 50}"
      ]
     },
     "execution_count": 132,
     "metadata": {},
     "output_type": "execute_result"
    }
   ],
   "source": [
    "from sklearn.linear_model import Ridge\n",
    "modelRid = Pipeline([\n",
    "    (\"poly\",  PolynomialFeatures(2)),\n",
    "    (\"scale\",  StandardScaler()),\n",
    "    (\"linreg\", Ridge())\n",
    "])\n",
    "grid = {\n",
    "    \"linreg__alpha\": [0.1, 1, 10, 50]\n",
    "    }\n",
    "gs = GridSearchCV(modelRid, param_grid=grid, cv=5)\n",
    "gs.fit(x_train, y_train)\n",
    "pd.DataFrame(gs.cv_results_).sort_values(\"mean_test_score\", ascending=False)[sel]"
   ]
  },
  {
   "cell_type": "markdown",
   "id": "da5a901e-bc08-4ab9-a771-788338903738",
   "metadata": {},
   "source": [
    "Vediamo come il valore **alpha** che rappresenta il peso della regolarizzazione non modifica particolarmente i risultati ottenuti questo ci fa propendere verso l'idea che con la semplice regressione lineare si possa comunque raggiungere un risultato soddisfacente."
   ]
  },
  {
   "cell_type": "code",
   "execution_count": 133,
   "id": "5c9162f5-0110-406c-bc44-15668ed99f72",
   "metadata": {},
   "outputs": [
    {
     "data": {
      "text/plain": [
       "0.5806039593600789"
      ]
     },
     "execution_count": 133,
     "metadata": {},
     "output_type": "execute_result"
    }
   ],
   "source": [
    "modelRid.fit(x_train, y_train)\n",
    "modelRid.score(x_val, y_val)"
   ]
  },
  {
   "cell_type": "code",
   "execution_count": 134,
   "id": "63ee1097-0f45-42fd-bc2f-d5ec66a54f7c",
   "metadata": {},
   "outputs": [],
   "source": [
    "save_score['Ridge'] = modelRid.score(x_val, y_val)"
   ]
  },
  {
   "cell_type": "markdown",
   "id": "6894de6f-dfcf-4c09-8973-f6ccbe078302",
   "metadata": {},
   "source": [
    "## Regressione Lineare"
   ]
  },
  {
   "cell_type": "code",
   "execution_count": 135,
   "id": "d18d13a8-fdaf-4107-b75d-80519b81c9c6",
   "metadata": {},
   "outputs": [
    {
     "data": {
      "text/plain": [
       "0.5201901645005128"
      ]
     },
     "execution_count": 135,
     "metadata": {},
     "output_type": "execute_result"
    }
   ],
   "source": [
    "from sklearn.model_selection import KFold\n",
    "from sklearn.model_selection import cross_val_score\n",
    "\n",
    "linear_model = Pipeline([\n",
    "    (\"scale\",  StandardScaler()),\n",
    "    (\"linreg\", LinearRegression())\n",
    "])\n",
    "\n",
    "kf = KFold(5, shuffle=True, random_state=_RANDOM_STATE)\n",
    "scores = cross_val_score(linear_model,x_train , y_train, cv=kf)\n",
    "scores.mean()"
   ]
  },
  {
   "cell_type": "markdown",
   "id": "3a741b12-4ae3-4098-9de9-1b4434d1dfaf",
   "metadata": {},
   "source": [
    "Vediamo come l'accuratezza raggiunta sia dopo più di quella della Regressione Ridge segno che la regolarizzazione non influisce in modo significativo sul risultato come previsto."
   ]
  },
  {
   "cell_type": "code",
   "execution_count": 136,
   "id": "81180db0-c20b-4246-852b-5287e4dfb68a",
   "metadata": {},
   "outputs": [
    {
     "data": {
      "text/plain": [
       "0.5448365423268899"
      ]
     },
     "execution_count": 136,
     "metadata": {},
     "output_type": "execute_result"
    }
   ],
   "source": [
    "linear_model.fit(x_train, y_train)\n",
    "linear_model.score(x_val, y_val)"
   ]
  },
  {
   "cell_type": "code",
   "execution_count": 137,
   "id": "f843f109-fd4d-47d1-bf27-ee4899b2e574",
   "metadata": {},
   "outputs": [],
   "source": [
    "save_score['Linear'] = linear_model.score(x_val, y_val)"
   ]
  },
  {
   "cell_type": "markdown",
   "id": "e6b313a8-65f9-475b-8608-505b637a31a5",
   "metadata": {},
   "source": [
    "## Regressione Polinomiale"
   ]
  },
  {
   "cell_type": "markdown",
   "id": "075d2ed7-ba49-4a91-b37b-e9ef43fdc849",
   "metadata": {},
   "source": [
    "Il modello non è lineare vediamo se aggiungendo un certo grado con PolynomialFeatures l'accuratezza migliora"
   ]
  },
  {
   "cell_type": "code",
   "execution_count": 138,
   "id": "243abc0e-5d28-43cc-abf5-71a528fcf710",
   "metadata": {},
   "outputs": [
    {
     "data": {
      "text/html": [
       "<div>\n",
       "<style scoped>\n",
       "    .dataframe tbody tr th:only-of-type {\n",
       "        vertical-align: middle;\n",
       "    }\n",
       "\n",
       "    .dataframe tbody tr th {\n",
       "        vertical-align: top;\n",
       "    }\n",
       "\n",
       "    .dataframe thead th {\n",
       "        text-align: right;\n",
       "    }\n",
       "</style>\n",
       "<table border=\"1\" class=\"dataframe\">\n",
       "  <thead>\n",
       "    <tr style=\"text-align: right;\">\n",
       "      <th></th>\n",
       "      <th>rank_test_score</th>\n",
       "      <th>mean_test_score</th>\n",
       "      <th>std_test_score</th>\n",
       "      <th>params</th>\n",
       "    </tr>\n",
       "  </thead>\n",
       "  <tbody>\n",
       "    <tr>\n",
       "      <th>1</th>\n",
       "      <td>1</td>\n",
       "      <td>0.536081</td>\n",
       "      <td>0.028925</td>\n",
       "      <td>{'poly__degree': 2}</td>\n",
       "    </tr>\n",
       "    <tr>\n",
       "      <th>0</th>\n",
       "      <td>2</td>\n",
       "      <td>0.518450</td>\n",
       "      <td>0.013881</td>\n",
       "      <td>{'poly__degree': 1}</td>\n",
       "    </tr>\n",
       "    <tr>\n",
       "      <th>2</th>\n",
       "      <td>3</td>\n",
       "      <td>-0.596980</td>\n",
       "      <td>1.879727</td>\n",
       "      <td>{'poly__degree': 3}</td>\n",
       "    </tr>\n",
       "  </tbody>\n",
       "</table>\n",
       "</div>"
      ],
      "text/plain": [
       "   rank_test_score  mean_test_score  std_test_score               params\n",
       "1                1         0.536081        0.028925  {'poly__degree': 2}\n",
       "0                2         0.518450        0.013881  {'poly__degree': 1}\n",
       "2                3        -0.596980        1.879727  {'poly__degree': 3}"
      ]
     },
     "execution_count": 138,
     "metadata": {},
     "output_type": "execute_result"
    }
   ],
   "source": [
    "from sklearn.linear_model import Ridge\n",
    "modLinearPol2 = Pipeline([\n",
    "    (\"poly\",  PolynomialFeatures()),\n",
    "    (\"scale\",  StandardScaler()),\n",
    "    (\"linreg\", LinearRegression())\n",
    "])\n",
    "grid = {\n",
    "    \"poly__degree\": [1,2, 3]\n",
    "    }\n",
    "gs = GridSearchCV(modLinearPol2, param_grid=grid, cv=5)\n",
    "gs.fit(x_train, y_train)\n",
    "pd.DataFrame(gs.cv_results_).sort_values(\"mean_test_score\", ascending=False)[sel]"
   ]
  },
  {
   "cell_type": "markdown",
   "id": "1633ebb5-91c6-4578-bfed-7bfcff1660b6",
   "metadata": {},
   "source": [
    "Vediamo che il secondo grado è il migliore questo si poteva capire anche dall'analisi iniziale dove avevamo visto che diverse feature crescevano fino ad una certa età per poi addirittura scendere. Tuttavia il risultato ottenuto non è ancora soddisfacente"
   ]
  },
  {
   "cell_type": "code",
   "execution_count": 139,
   "id": "37c3a03e-5507-4cd6-8a36-ba3a92282ed2",
   "metadata": {},
   "outputs": [
    {
     "data": {
      "text/plain": [
       "0.578280524612426"
      ]
     },
     "execution_count": 139,
     "metadata": {},
     "output_type": "execute_result"
    }
   ],
   "source": [
    "gs.score(x_val, y_val)"
   ]
  },
  {
   "cell_type": "code",
   "execution_count": 140,
   "id": "2f0d1f60-83e5-4479-954c-6cd8b6a1f749",
   "metadata": {},
   "outputs": [],
   "source": [
    "save_score['LinearPoly2'] = gs.score(x_val, y_val)"
   ]
  },
  {
   "cell_type": "markdown",
   "id": "f67f999c-4edf-4dbc-ad11-e249c44a7e1a",
   "metadata": {},
   "source": [
    "## Regressione con alberi\n",
    "Gli alberi prendono decisioni basate su ciascuna variabile,\n",
    "questo nel nostro caso dovrebbe migliorare la predizione."
   ]
  },
  {
   "cell_type": "code",
   "execution_count": 141,
   "id": "86a20a74-2d7e-41c1-9ee6-0ea0dc1e07c3",
   "metadata": {
    "scrolled": true
   },
   "outputs": [
    {
     "data": {
      "text/html": [
       "<style>#sk-container-id-6 {color: black;background-color: white;}#sk-container-id-6 pre{padding: 0;}#sk-container-id-6 div.sk-toggleable {background-color: white;}#sk-container-id-6 label.sk-toggleable__label {cursor: pointer;display: block;width: 100%;margin-bottom: 0;padding: 0.3em;box-sizing: border-box;text-align: center;}#sk-container-id-6 label.sk-toggleable__label-arrow:before {content: \"▸\";float: left;margin-right: 0.25em;color: #696969;}#sk-container-id-6 label.sk-toggleable__label-arrow:hover:before {color: black;}#sk-container-id-6 div.sk-estimator:hover label.sk-toggleable__label-arrow:before {color: black;}#sk-container-id-6 div.sk-toggleable__content {max-height: 0;max-width: 0;overflow: hidden;text-align: left;background-color: #f0f8ff;}#sk-container-id-6 div.sk-toggleable__content pre {margin: 0.2em;color: black;border-radius: 0.25em;background-color: #f0f8ff;}#sk-container-id-6 input.sk-toggleable__control:checked~div.sk-toggleable__content {max-height: 200px;max-width: 100%;overflow: auto;}#sk-container-id-6 input.sk-toggleable__control:checked~label.sk-toggleable__label-arrow:before {content: \"▾\";}#sk-container-id-6 div.sk-estimator input.sk-toggleable__control:checked~label.sk-toggleable__label {background-color: #d4ebff;}#sk-container-id-6 div.sk-label input.sk-toggleable__control:checked~label.sk-toggleable__label {background-color: #d4ebff;}#sk-container-id-6 input.sk-hidden--visually {border: 0;clip: rect(1px 1px 1px 1px);clip: rect(1px, 1px, 1px, 1px);height: 1px;margin: -1px;overflow: hidden;padding: 0;position: absolute;width: 1px;}#sk-container-id-6 div.sk-estimator {font-family: monospace;background-color: #f0f8ff;border: 1px dotted black;border-radius: 0.25em;box-sizing: border-box;margin-bottom: 0.5em;}#sk-container-id-6 div.sk-estimator:hover {background-color: #d4ebff;}#sk-container-id-6 div.sk-parallel-item::after {content: \"\";width: 100%;border-bottom: 1px solid gray;flex-grow: 1;}#sk-container-id-6 div.sk-label:hover label.sk-toggleable__label {background-color: #d4ebff;}#sk-container-id-6 div.sk-serial::before {content: \"\";position: absolute;border-left: 1px solid gray;box-sizing: border-box;top: 0;bottom: 0;left: 50%;z-index: 0;}#sk-container-id-6 div.sk-serial {display: flex;flex-direction: column;align-items: center;background-color: white;padding-right: 0.2em;padding-left: 0.2em;position: relative;}#sk-container-id-6 div.sk-item {position: relative;z-index: 1;}#sk-container-id-6 div.sk-parallel {display: flex;align-items: stretch;justify-content: center;background-color: white;position: relative;}#sk-container-id-6 div.sk-item::before, #sk-container-id-6 div.sk-parallel-item::before {content: \"\";position: absolute;border-left: 1px solid gray;box-sizing: border-box;top: 0;bottom: 0;left: 50%;z-index: -1;}#sk-container-id-6 div.sk-parallel-item {display: flex;flex-direction: column;z-index: 1;position: relative;background-color: white;}#sk-container-id-6 div.sk-parallel-item:first-child::after {align-self: flex-end;width: 50%;}#sk-container-id-6 div.sk-parallel-item:last-child::after {align-self: flex-start;width: 50%;}#sk-container-id-6 div.sk-parallel-item:only-child::after {width: 0;}#sk-container-id-6 div.sk-dashed-wrapped {border: 1px dashed gray;margin: 0 0.4em 0.5em 0.4em;box-sizing: border-box;padding-bottom: 0.4em;background-color: white;}#sk-container-id-6 div.sk-label label {font-family: monospace;font-weight: bold;display: inline-block;line-height: 1.2em;}#sk-container-id-6 div.sk-label-container {text-align: center;}#sk-container-id-6 div.sk-container {/* jupyter's `normalize.less` sets `[hidden] { display: none; }` but bootstrap.min.css set `[hidden] { display: none !important; }` so we also need the `!important` here to be able to override the default hidden behavior on the sphinx rendered scikit-learn.org. See: https://github.com/scikit-learn/scikit-learn/issues/21755 */display: inline-block !important;position: relative;}#sk-container-id-6 div.sk-text-repr-fallback {display: none;}</style><div id=\"sk-container-id-6\" class=\"sk-top-container\"><div class=\"sk-text-repr-fallback\"><pre>DecisionTreeRegressor(max_depth=2, random_state=18)</pre><b>In a Jupyter environment, please rerun this cell to show the HTML representation or trust the notebook. <br />On GitHub, the HTML representation is unable to render, please try loading this page with nbviewer.org.</b></div><div class=\"sk-container\" hidden><div class=\"sk-item\"><div class=\"sk-estimator sk-toggleable\"><input class=\"sk-toggleable__control sk-hidden--visually\" id=\"sk-estimator-id-8\" type=\"checkbox\" checked><label for=\"sk-estimator-id-8\" class=\"sk-toggleable__label sk-toggleable__label-arrow\">DecisionTreeRegressor</label><div class=\"sk-toggleable__content\"><pre>DecisionTreeRegressor(max_depth=2, random_state=18)</pre></div></div></div></div></div>"
      ],
      "text/plain": [
       "DecisionTreeRegressor(max_depth=2, random_state=18)"
      ]
     },
     "execution_count": 141,
     "metadata": {},
     "output_type": "execute_result"
    }
   ],
   "source": [
    "from sklearn.tree import DecisionTreeRegressor\n",
    "from sklearn.tree import export_text\n",
    "modelDecision = DecisionTreeRegressor(max_depth=2,random_state=_RANDOM_STATE)\n",
    "modelDecision.fit(x_train, y_train)"
   ]
  },
  {
   "cell_type": "code",
   "execution_count": 142,
   "id": "f4f460ba-37c9-40ae-8b2a-6e8d81318c90",
   "metadata": {},
   "outputs": [],
   "source": [
    "column_names = x_train.columns"
   ]
  },
  {
   "cell_type": "code",
   "execution_count": 143,
   "id": "b969fe6c-9453-4c2f-a207-1ba128495fe1",
   "metadata": {},
   "outputs": [
    {
     "data": {
      "text/plain": [
       "Index(['Length', 'Diameter', 'Height', 'Weight', 'Shucked Weight',\n",
       "       'Viscera Weight', 'Shell Weight', 'Sex_I', 'Sex_M'],\n",
       "      dtype='object')"
      ]
     },
     "execution_count": 143,
     "metadata": {},
     "output_type": "execute_result"
    }
   ],
   "source": [
    "column_names"
   ]
  },
  {
   "cell_type": "code",
   "execution_count": 144,
   "id": "7c70da68-64dd-4283-89ff-4bdd8e68aab5",
   "metadata": {},
   "outputs": [
    {
     "name": "stdout",
     "output_type": "stream",
     "text": [
      "|--- Shell Weight <= 4.36\n",
      "|   |--- Shell Weight <= 1.32\n",
      "|   |   |--- value: [5.33]\n",
      "|   |--- Shell Weight >  1.32\n",
      "|   |   |--- value: [7.93]\n",
      "|--- Shell Weight >  4.36\n",
      "|   |--- Shell Weight <= 11.04\n",
      "|   |   |--- value: [10.58]\n",
      "|   |--- Shell Weight >  11.04\n",
      "|   |   |--- value: [12.86]\n",
      "\n"
     ]
    }
   ],
   "source": [
    "print(export_text(modelDecision, feature_names=list(column_names)))"
   ]
  },
  {
   "cell_type": "code",
   "execution_count": 145,
   "id": "ffdfaeb2-6bdd-40f3-829b-ee350854df07",
   "metadata": {},
   "outputs": [
    {
     "name": "stdout",
     "output_type": "stream",
     "text": [
      " errRelat:       0.1824\n",
      "      MSE:       6.5255\n",
      "R-2 Score:       0.3652\n",
      "    RMSPE:       0.2299\n"
     ]
    }
   ],
   "source": [
    "print_eval(x_val, y_val, modelDecision)"
   ]
  },
  {
   "cell_type": "code",
   "execution_count": 146,
   "id": "809064b0-4d81-4d8e-894c-746d759f5500",
   "metadata": {},
   "outputs": [],
   "source": [
    "grid = {\n",
    "    \"max_depth\": range(2, 6),\n",
    "    \"min_samples_split\": np.linspace(0.0001, 0.001, 20, dtype=float),\n",
    "    \"min_samples_leaf\": range(2,5)\n",
    "}"
   ]
  },
  {
   "cell_type": "code",
   "execution_count": 147,
   "id": "011b2d78-2529-4af8-865b-3e36f53aba4d",
   "metadata": {},
   "outputs": [
    {
     "data": {
      "text/plain": [
       "{'max_depth': 5, 'min_samples_leaf': 2, 'min_samples_split': 0.0001}"
      ]
     },
     "execution_count": 147,
     "metadata": {},
     "output_type": "execute_result"
    }
   ],
   "source": [
    "decgs = GridSearchCV(modelDecision, grid, cv=kf)\n",
    "decgs.fit(x_train, y_train);\n",
    "decgs.best_params_\n"
   ]
  },
  {
   "cell_type": "code",
   "execution_count": 148,
   "id": "af7c20a1-33ca-4ae4-9fc4-25533be8e335",
   "metadata": {},
   "outputs": [
    {
     "data": {
      "text/html": [
       "<div>\n",
       "<style scoped>\n",
       "    .dataframe tbody tr th:only-of-type {\n",
       "        vertical-align: middle;\n",
       "    }\n",
       "\n",
       "    .dataframe tbody tr th {\n",
       "        vertical-align: top;\n",
       "    }\n",
       "\n",
       "    .dataframe thead th {\n",
       "        text-align: right;\n",
       "    }\n",
       "</style>\n",
       "<table border=\"1\" class=\"dataframe\">\n",
       "  <thead>\n",
       "    <tr style=\"text-align: right;\">\n",
       "      <th></th>\n",
       "      <th>rank_test_score</th>\n",
       "      <th>mean_test_score</th>\n",
       "      <th>std_test_score</th>\n",
       "      <th>params</th>\n",
       "    </tr>\n",
       "  </thead>\n",
       "  <tbody>\n",
       "    <tr>\n",
       "      <th>198</th>\n",
       "      <td>1</td>\n",
       "      <td>0.439839</td>\n",
       "      <td>0.035633</td>\n",
       "      <td>{'max_depth': 5, 'min_samples_leaf': 2, 'min_s...</td>\n",
       "    </tr>\n",
       "    <tr>\n",
       "      <th>189</th>\n",
       "      <td>1</td>\n",
       "      <td>0.439839</td>\n",
       "      <td>0.035633</td>\n",
       "      <td>{'max_depth': 5, 'min_samples_leaf': 2, 'min_s...</td>\n",
       "    </tr>\n",
       "    <tr>\n",
       "      <th>197</th>\n",
       "      <td>1</td>\n",
       "      <td>0.439839</td>\n",
       "      <td>0.035633</td>\n",
       "      <td>{'max_depth': 5, 'min_samples_leaf': 2, 'min_s...</td>\n",
       "    </tr>\n",
       "    <tr>\n",
       "      <th>196</th>\n",
       "      <td>1</td>\n",
       "      <td>0.439839</td>\n",
       "      <td>0.035633</td>\n",
       "      <td>{'max_depth': 5, 'min_samples_leaf': 2, 'min_s...</td>\n",
       "    </tr>\n",
       "    <tr>\n",
       "      <th>195</th>\n",
       "      <td>1</td>\n",
       "      <td>0.439839</td>\n",
       "      <td>0.035633</td>\n",
       "      <td>{'max_depth': 5, 'min_samples_leaf': 2, 'min_s...</td>\n",
       "    </tr>\n",
       "    <tr>\n",
       "      <th>...</th>\n",
       "      <td>...</td>\n",
       "      <td>...</td>\n",
       "      <td>...</td>\n",
       "      <td>...</td>\n",
       "    </tr>\n",
       "    <tr>\n",
       "      <th>36</th>\n",
       "      <td>181</td>\n",
       "      <td>0.351446</td>\n",
       "      <td>0.025402</td>\n",
       "      <td>{'max_depth': 2, 'min_samples_leaf': 3, 'min_s...</td>\n",
       "    </tr>\n",
       "    <tr>\n",
       "      <th>35</th>\n",
       "      <td>181</td>\n",
       "      <td>0.351446</td>\n",
       "      <td>0.025402</td>\n",
       "      <td>{'max_depth': 2, 'min_samples_leaf': 3, 'min_s...</td>\n",
       "    </tr>\n",
       "    <tr>\n",
       "      <th>34</th>\n",
       "      <td>181</td>\n",
       "      <td>0.351446</td>\n",
       "      <td>0.025402</td>\n",
       "      <td>{'max_depth': 2, 'min_samples_leaf': 3, 'min_s...</td>\n",
       "    </tr>\n",
       "    <tr>\n",
       "      <th>33</th>\n",
       "      <td>181</td>\n",
       "      <td>0.351446</td>\n",
       "      <td>0.025402</td>\n",
       "      <td>{'max_depth': 2, 'min_samples_leaf': 3, 'min_s...</td>\n",
       "    </tr>\n",
       "    <tr>\n",
       "      <th>0</th>\n",
       "      <td>181</td>\n",
       "      <td>0.351446</td>\n",
       "      <td>0.025402</td>\n",
       "      <td>{'max_depth': 2, 'min_samples_leaf': 2, 'min_s...</td>\n",
       "    </tr>\n",
       "  </tbody>\n",
       "</table>\n",
       "<p>240 rows × 4 columns</p>\n",
       "</div>"
      ],
      "text/plain": [
       "     rank_test_score  mean_test_score  std_test_score  \\\n",
       "198                1         0.439839        0.035633   \n",
       "189                1         0.439839        0.035633   \n",
       "197                1         0.439839        0.035633   \n",
       "196                1         0.439839        0.035633   \n",
       "195                1         0.439839        0.035633   \n",
       "..               ...              ...             ...   \n",
       "36               181         0.351446        0.025402   \n",
       "35               181         0.351446        0.025402   \n",
       "34               181         0.351446        0.025402   \n",
       "33               181         0.351446        0.025402   \n",
       "0                181         0.351446        0.025402   \n",
       "\n",
       "                                                params  \n",
       "198  {'max_depth': 5, 'min_samples_leaf': 2, 'min_s...  \n",
       "189  {'max_depth': 5, 'min_samples_leaf': 2, 'min_s...  \n",
       "197  {'max_depth': 5, 'min_samples_leaf': 2, 'min_s...  \n",
       "196  {'max_depth': 5, 'min_samples_leaf': 2, 'min_s...  \n",
       "195  {'max_depth': 5, 'min_samples_leaf': 2, 'min_s...  \n",
       "..                                                 ...  \n",
       "36   {'max_depth': 2, 'min_samples_leaf': 3, 'min_s...  \n",
       "35   {'max_depth': 2, 'min_samples_leaf': 3, 'min_s...  \n",
       "34   {'max_depth': 2, 'min_samples_leaf': 3, 'min_s...  \n",
       "33   {'max_depth': 2, 'min_samples_leaf': 3, 'min_s...  \n",
       "0    {'max_depth': 2, 'min_samples_leaf': 2, 'min_s...  \n",
       "\n",
       "[240 rows x 4 columns]"
      ]
     },
     "execution_count": 148,
     "metadata": {},
     "output_type": "execute_result"
    }
   ],
   "source": [
    "pd.DataFrame(decgs.cv_results_).sort_values(\"mean_test_score\", ascending=False)[sel]"
   ]
  },
  {
   "cell_type": "code",
   "execution_count": 149,
   "id": "eecd3cc7-ef8d-4ad7-8b32-f1b8093f2136",
   "metadata": {},
   "outputs": [
    {
     "data": {
      "text/plain": [
       "0.4708695827152648"
      ]
     },
     "execution_count": 149,
     "metadata": {},
     "output_type": "execute_result"
    }
   ],
   "source": [
    "decgs.score(x_val, y_val)"
   ]
  },
  {
   "cell_type": "code",
   "execution_count": 150,
   "id": "ceecc2c8-4350-4a25-9e25-a3b744b2f858",
   "metadata": {},
   "outputs": [],
   "source": [
    "save_score['DecisionTree'] = decgs.score(x_val, y_val)"
   ]
  },
  {
   "cell_type": "markdown",
   "id": "8a1b07b1-cce1-4769-a6f9-972e5c261b8e",
   "metadata": {},
   "source": [
    "## Random Forest\n",
    "Addestro più alberi in un sottoinsieme delle feature, ci aspettiamo risultati migliori"
   ]
  },
  {
   "cell_type": "code",
   "execution_count": 151,
   "id": "2bb932d2-105b-4ab8-8fd2-80b329736174",
   "metadata": {},
   "outputs": [],
   "source": [
    "from sklearn.ensemble import RandomForestRegressor"
   ]
  },
  {
   "cell_type": "code",
   "execution_count": 152,
   "id": "de073df1-9952-4933-a590-e924e627653f",
   "metadata": {},
   "outputs": [
    {
     "name": "stdout",
     "output_type": "stream",
     "text": [
      "CPU times: total: 750 ms\n",
      "Wall time: 400 ms\n"
     ]
    },
    {
     "data": {
      "text/html": [
       "<style>#sk-container-id-7 {color: black;background-color: white;}#sk-container-id-7 pre{padding: 0;}#sk-container-id-7 div.sk-toggleable {background-color: white;}#sk-container-id-7 label.sk-toggleable__label {cursor: pointer;display: block;width: 100%;margin-bottom: 0;padding: 0.3em;box-sizing: border-box;text-align: center;}#sk-container-id-7 label.sk-toggleable__label-arrow:before {content: \"▸\";float: left;margin-right: 0.25em;color: #696969;}#sk-container-id-7 label.sk-toggleable__label-arrow:hover:before {color: black;}#sk-container-id-7 div.sk-estimator:hover label.sk-toggleable__label-arrow:before {color: black;}#sk-container-id-7 div.sk-toggleable__content {max-height: 0;max-width: 0;overflow: hidden;text-align: left;background-color: #f0f8ff;}#sk-container-id-7 div.sk-toggleable__content pre {margin: 0.2em;color: black;border-radius: 0.25em;background-color: #f0f8ff;}#sk-container-id-7 input.sk-toggleable__control:checked~div.sk-toggleable__content {max-height: 200px;max-width: 100%;overflow: auto;}#sk-container-id-7 input.sk-toggleable__control:checked~label.sk-toggleable__label-arrow:before {content: \"▾\";}#sk-container-id-7 div.sk-estimator input.sk-toggleable__control:checked~label.sk-toggleable__label {background-color: #d4ebff;}#sk-container-id-7 div.sk-label input.sk-toggleable__control:checked~label.sk-toggleable__label {background-color: #d4ebff;}#sk-container-id-7 input.sk-hidden--visually {border: 0;clip: rect(1px 1px 1px 1px);clip: rect(1px, 1px, 1px, 1px);height: 1px;margin: -1px;overflow: hidden;padding: 0;position: absolute;width: 1px;}#sk-container-id-7 div.sk-estimator {font-family: monospace;background-color: #f0f8ff;border: 1px dotted black;border-radius: 0.25em;box-sizing: border-box;margin-bottom: 0.5em;}#sk-container-id-7 div.sk-estimator:hover {background-color: #d4ebff;}#sk-container-id-7 div.sk-parallel-item::after {content: \"\";width: 100%;border-bottom: 1px solid gray;flex-grow: 1;}#sk-container-id-7 div.sk-label:hover label.sk-toggleable__label {background-color: #d4ebff;}#sk-container-id-7 div.sk-serial::before {content: \"\";position: absolute;border-left: 1px solid gray;box-sizing: border-box;top: 0;bottom: 0;left: 50%;z-index: 0;}#sk-container-id-7 div.sk-serial {display: flex;flex-direction: column;align-items: center;background-color: white;padding-right: 0.2em;padding-left: 0.2em;position: relative;}#sk-container-id-7 div.sk-item {position: relative;z-index: 1;}#sk-container-id-7 div.sk-parallel {display: flex;align-items: stretch;justify-content: center;background-color: white;position: relative;}#sk-container-id-7 div.sk-item::before, #sk-container-id-7 div.sk-parallel-item::before {content: \"\";position: absolute;border-left: 1px solid gray;box-sizing: border-box;top: 0;bottom: 0;left: 50%;z-index: -1;}#sk-container-id-7 div.sk-parallel-item {display: flex;flex-direction: column;z-index: 1;position: relative;background-color: white;}#sk-container-id-7 div.sk-parallel-item:first-child::after {align-self: flex-end;width: 50%;}#sk-container-id-7 div.sk-parallel-item:last-child::after {align-self: flex-start;width: 50%;}#sk-container-id-7 div.sk-parallel-item:only-child::after {width: 0;}#sk-container-id-7 div.sk-dashed-wrapped {border: 1px dashed gray;margin: 0 0.4em 0.5em 0.4em;box-sizing: border-box;padding-bottom: 0.4em;background-color: white;}#sk-container-id-7 div.sk-label label {font-family: monospace;font-weight: bold;display: inline-block;line-height: 1.2em;}#sk-container-id-7 div.sk-label-container {text-align: center;}#sk-container-id-7 div.sk-container {/* jupyter's `normalize.less` sets `[hidden] { display: none; }` but bootstrap.min.css set `[hidden] { display: none !important; }` so we also need the `!important` here to be able to override the default hidden behavior on the sphinx rendered scikit-learn.org. See: https://github.com/scikit-learn/scikit-learn/issues/21755 */display: inline-block !important;position: relative;}#sk-container-id-7 div.sk-text-repr-fallback {display: none;}</style><div id=\"sk-container-id-7\" class=\"sk-top-container\"><div class=\"sk-text-repr-fallback\"><pre>RandomForestRegressor(max_features=&#x27;sqrt&#x27;, max_samples=0.2, n_estimators=200,\n",
       "                      n_jobs=-1)</pre><b>In a Jupyter environment, please rerun this cell to show the HTML representation or trust the notebook. <br />On GitHub, the HTML representation is unable to render, please try loading this page with nbviewer.org.</b></div><div class=\"sk-container\" hidden><div class=\"sk-item\"><div class=\"sk-estimator sk-toggleable\"><input class=\"sk-toggleable__control sk-hidden--visually\" id=\"sk-estimator-id-9\" type=\"checkbox\" checked><label for=\"sk-estimator-id-9\" class=\"sk-toggleable__label sk-toggleable__label-arrow\">RandomForestRegressor</label><div class=\"sk-toggleable__content\"><pre>RandomForestRegressor(max_features=&#x27;sqrt&#x27;, max_samples=0.2, n_estimators=200,\n",
       "                      n_jobs=-1)</pre></div></div></div></div></div>"
      ],
      "text/plain": [
       "RandomForestRegressor(max_features='sqrt', max_samples=0.2, n_estimators=200,\n",
       "                      n_jobs=-1)"
      ]
     },
     "execution_count": 152,
     "metadata": {},
     "output_type": "execute_result"
    }
   ],
   "source": [
    "%%time\n",
    "rfm = RandomForestRegressor(max_samples=0.2, max_features=\"sqrt\", n_estimators=200, max_depth=None, n_jobs=-1)\n",
    "rfm.fit(x_train, y_train)"
   ]
  },
  {
   "cell_type": "code",
   "execution_count": 153,
   "id": "4ae4b773-b7cb-4752-94a8-edc9eb0fd2d5",
   "metadata": {},
   "outputs": [
    {
     "name": "stdout",
     "output_type": "stream",
     "text": [
      " errRelat:       0.1460\n",
      "      MSE:       4.5239\n",
      "R-2 Score:       0.5599\n",
      "    RMSPE:       0.1861\n"
     ]
    }
   ],
   "source": [
    "print_eval(x_val, y_val, rfm)"
   ]
  },
  {
   "cell_type": "code",
   "execution_count": 154,
   "id": "0f2fa9d0-44fd-4872-afa8-ecdb5230fac1",
   "metadata": {},
   "outputs": [
    {
     "data": {
      "text/plain": [
       "0.5599417229284906"
      ]
     },
     "execution_count": 154,
     "metadata": {},
     "output_type": "execute_result"
    }
   ],
   "source": [
    "rfm.score(x_val, y_val)"
   ]
  },
  {
   "cell_type": "code",
   "execution_count": 155,
   "id": "6110b4e9-ce52-4503-9840-eb112a14ae7f",
   "metadata": {},
   "outputs": [
    {
     "data": {
      "text/plain": [
       "Shell Weight      0.270490\n",
       "Weight            0.142988\n",
       "Height            0.129235\n",
       "Shucked Weight    0.128786\n",
       "Viscera Weight    0.111080\n",
       "Diameter          0.110745\n",
       "Length            0.084779\n",
       "Sex_M             0.011655\n",
       "Sex_I             0.010241\n",
       "dtype: float64"
      ]
     },
     "execution_count": 155,
     "metadata": {},
     "output_type": "execute_result"
    }
   ],
   "source": [
    "pd.Series(rfm.feature_importances_, index=list(column_names)).sort_values(ascending=False)"
   ]
  },
  {
   "cell_type": "markdown",
   "id": "7a3db769-0841-4566-88e3-166813c4b7c2",
   "metadata": {},
   "source": [
    "la feature più importante è il peso della conchiglia"
   ]
  },
  {
   "cell_type": "markdown",
   "id": "736c0aa6-fcb0-43af-bdcb-34816eea854f",
   "metadata": {},
   "source": [
    "Si procede ad una ricerca degli iperparametri per migliorare l'indipendenza dai dati di addestramento; in particolare grazie all'iperparametro max_features che limita il numero di dati usati per la divisione di un nodo ad un sottoinsieme casuale delle colonne del training set."
   ]
  },
  {
   "cell_type": "code",
   "execution_count": 156,
   "id": "1e06fec7-17b4-4d7f-94de-9e1ab6d96308",
   "metadata": {},
   "outputs": [
    {
     "data": {
      "text/plain": [
       "2590"
      ]
     },
     "execution_count": 156,
     "metadata": {},
     "output_type": "execute_result"
    }
   ],
   "source": [
    "len(x_train)"
   ]
  },
  {
   "cell_type": "code",
   "execution_count": 157,
   "id": "7a005d93-1620-4916-b5e4-22a4b97543c2",
   "metadata": {},
   "outputs": [
    {
     "data": {
      "text/html": [
       "<style>#sk-container-id-8 {color: black;background-color: white;}#sk-container-id-8 pre{padding: 0;}#sk-container-id-8 div.sk-toggleable {background-color: white;}#sk-container-id-8 label.sk-toggleable__label {cursor: pointer;display: block;width: 100%;margin-bottom: 0;padding: 0.3em;box-sizing: border-box;text-align: center;}#sk-container-id-8 label.sk-toggleable__label-arrow:before {content: \"▸\";float: left;margin-right: 0.25em;color: #696969;}#sk-container-id-8 label.sk-toggleable__label-arrow:hover:before {color: black;}#sk-container-id-8 div.sk-estimator:hover label.sk-toggleable__label-arrow:before {color: black;}#sk-container-id-8 div.sk-toggleable__content {max-height: 0;max-width: 0;overflow: hidden;text-align: left;background-color: #f0f8ff;}#sk-container-id-8 div.sk-toggleable__content pre {margin: 0.2em;color: black;border-radius: 0.25em;background-color: #f0f8ff;}#sk-container-id-8 input.sk-toggleable__control:checked~div.sk-toggleable__content {max-height: 200px;max-width: 100%;overflow: auto;}#sk-container-id-8 input.sk-toggleable__control:checked~label.sk-toggleable__label-arrow:before {content: \"▾\";}#sk-container-id-8 div.sk-estimator input.sk-toggleable__control:checked~label.sk-toggleable__label {background-color: #d4ebff;}#sk-container-id-8 div.sk-label input.sk-toggleable__control:checked~label.sk-toggleable__label {background-color: #d4ebff;}#sk-container-id-8 input.sk-hidden--visually {border: 0;clip: rect(1px 1px 1px 1px);clip: rect(1px, 1px, 1px, 1px);height: 1px;margin: -1px;overflow: hidden;padding: 0;position: absolute;width: 1px;}#sk-container-id-8 div.sk-estimator {font-family: monospace;background-color: #f0f8ff;border: 1px dotted black;border-radius: 0.25em;box-sizing: border-box;margin-bottom: 0.5em;}#sk-container-id-8 div.sk-estimator:hover {background-color: #d4ebff;}#sk-container-id-8 div.sk-parallel-item::after {content: \"\";width: 100%;border-bottom: 1px solid gray;flex-grow: 1;}#sk-container-id-8 div.sk-label:hover label.sk-toggleable__label {background-color: #d4ebff;}#sk-container-id-8 div.sk-serial::before {content: \"\";position: absolute;border-left: 1px solid gray;box-sizing: border-box;top: 0;bottom: 0;left: 50%;z-index: 0;}#sk-container-id-8 div.sk-serial {display: flex;flex-direction: column;align-items: center;background-color: white;padding-right: 0.2em;padding-left: 0.2em;position: relative;}#sk-container-id-8 div.sk-item {position: relative;z-index: 1;}#sk-container-id-8 div.sk-parallel {display: flex;align-items: stretch;justify-content: center;background-color: white;position: relative;}#sk-container-id-8 div.sk-item::before, #sk-container-id-8 div.sk-parallel-item::before {content: \"\";position: absolute;border-left: 1px solid gray;box-sizing: border-box;top: 0;bottom: 0;left: 50%;z-index: -1;}#sk-container-id-8 div.sk-parallel-item {display: flex;flex-direction: column;z-index: 1;position: relative;background-color: white;}#sk-container-id-8 div.sk-parallel-item:first-child::after {align-self: flex-end;width: 50%;}#sk-container-id-8 div.sk-parallel-item:last-child::after {align-self: flex-start;width: 50%;}#sk-container-id-8 div.sk-parallel-item:only-child::after {width: 0;}#sk-container-id-8 div.sk-dashed-wrapped {border: 1px dashed gray;margin: 0 0.4em 0.5em 0.4em;box-sizing: border-box;padding-bottom: 0.4em;background-color: white;}#sk-container-id-8 div.sk-label label {font-family: monospace;font-weight: bold;display: inline-block;line-height: 1.2em;}#sk-container-id-8 div.sk-label-container {text-align: center;}#sk-container-id-8 div.sk-container {/* jupyter's `normalize.less` sets `[hidden] { display: none; }` but bootstrap.min.css set `[hidden] { display: none !important; }` so we also need the `!important` here to be able to override the default hidden behavior on the sphinx rendered scikit-learn.org. See: https://github.com/scikit-learn/scikit-learn/issues/21755 */display: inline-block !important;position: relative;}#sk-container-id-8 div.sk-text-repr-fallback {display: none;}</style><div id=\"sk-container-id-8\" class=\"sk-top-container\"><div class=\"sk-text-repr-fallback\"><pre>RandomizedSearchCV(cv=KFold(n_splits=5, random_state=18, shuffle=True),\n",
       "                   estimator=RandomForestRegressor(max_features=&#x27;sqrt&#x27;,\n",
       "                                                   max_samples=0.2,\n",
       "                                                   n_estimators=200,\n",
       "                                                   n_jobs=-1),\n",
       "                   n_jobs=-1,\n",
       "                   param_distributions={&#x27;max_depth&#x27;: range(8, 15, 3),\n",
       "                                        &#x27;max_features&#x27;: range(1, 10),\n",
       "                                        &#x27;min_samples_leaf&#x27;: [1, 3, 5],\n",
       "                                        &#x27;min_samples_split&#x27;: [5, 9, 12],\n",
       "                                        &#x27;n_estimators&#x27;: [50]},\n",
       "                   random_state=18)</pre><b>In a Jupyter environment, please rerun this cell to show the HTML representation or trust the notebook. <br />On GitHub, the HTML representation is unable to render, please try loading this page with nbviewer.org.</b></div><div class=\"sk-container\" hidden><div class=\"sk-item sk-dashed-wrapped\"><div class=\"sk-label-container\"><div class=\"sk-label sk-toggleable\"><input class=\"sk-toggleable__control sk-hidden--visually\" id=\"sk-estimator-id-10\" type=\"checkbox\" ><label for=\"sk-estimator-id-10\" class=\"sk-toggleable__label sk-toggleable__label-arrow\">RandomizedSearchCV</label><div class=\"sk-toggleable__content\"><pre>RandomizedSearchCV(cv=KFold(n_splits=5, random_state=18, shuffle=True),\n",
       "                   estimator=RandomForestRegressor(max_features=&#x27;sqrt&#x27;,\n",
       "                                                   max_samples=0.2,\n",
       "                                                   n_estimators=200,\n",
       "                                                   n_jobs=-1),\n",
       "                   n_jobs=-1,\n",
       "                   param_distributions={&#x27;max_depth&#x27;: range(8, 15, 3),\n",
       "                                        &#x27;max_features&#x27;: range(1, 10),\n",
       "                                        &#x27;min_samples_leaf&#x27;: [1, 3, 5],\n",
       "                                        &#x27;min_samples_split&#x27;: [5, 9, 12],\n",
       "                                        &#x27;n_estimators&#x27;: [50]},\n",
       "                   random_state=18)</pre></div></div></div><div class=\"sk-parallel\"><div class=\"sk-parallel-item\"><div class=\"sk-item\"><div class=\"sk-label-container\"><div class=\"sk-label sk-toggleable\"><input class=\"sk-toggleable__control sk-hidden--visually\" id=\"sk-estimator-id-11\" type=\"checkbox\" ><label for=\"sk-estimator-id-11\" class=\"sk-toggleable__label sk-toggleable__label-arrow\">estimator: RandomForestRegressor</label><div class=\"sk-toggleable__content\"><pre>RandomForestRegressor(max_features=&#x27;sqrt&#x27;, max_samples=0.2, n_estimators=200,\n",
       "                      n_jobs=-1)</pre></div></div></div><div class=\"sk-serial\"><div class=\"sk-item\"><div class=\"sk-estimator sk-toggleable\"><input class=\"sk-toggleable__control sk-hidden--visually\" id=\"sk-estimator-id-12\" type=\"checkbox\" ><label for=\"sk-estimator-id-12\" class=\"sk-toggleable__label sk-toggleable__label-arrow\">RandomForestRegressor</label><div class=\"sk-toggleable__content\"><pre>RandomForestRegressor(max_features=&#x27;sqrt&#x27;, max_samples=0.2, n_estimators=200,\n",
       "                      n_jobs=-1)</pre></div></div></div></div></div></div></div></div></div></div>"
      ],
      "text/plain": [
       "RandomizedSearchCV(cv=KFold(n_splits=5, random_state=18, shuffle=True),\n",
       "                   estimator=RandomForestRegressor(max_features='sqrt',\n",
       "                                                   max_samples=0.2,\n",
       "                                                   n_estimators=200,\n",
       "                                                   n_jobs=-1),\n",
       "                   n_jobs=-1,\n",
       "                   param_distributions={'max_depth': range(8, 15, 3),\n",
       "                                        'max_features': range(1, 10),\n",
       "                                        'min_samples_leaf': [1, 3, 5],\n",
       "                                        'min_samples_split': [5, 9, 12],\n",
       "                                        'n_estimators': [50]},\n",
       "                   random_state=18)"
      ]
     },
     "execution_count": 157,
     "metadata": {},
     "output_type": "execute_result"
    }
   ],
   "source": [
    "from sklearn.model_selection import RandomizedSearchCV\n",
    "rf_grid = {\n",
    "    \"max_depth\": range(8, 15, 3),\n",
    "    \"min_samples_split\": [5,9,12],\n",
    "    \"min_samples_leaf\": [1,3,5],\n",
    "    \"n_estimators\": [50],\n",
    "    \"max_features\": range(1, 10)\n",
    "}\n",
    "rfgs = RandomizedSearchCV(rfm, rf_grid, n_iter=10, n_jobs=-1, cv=kf, random_state=_RANDOM_STATE)\n",
    "rfgs.fit(x_train, y_train)\n",
    "#rfgs = GridSearchCV(rfm, rf_grid, n_jobs=-1, cv=kf)\n",
    "#rfgs.fit(x_train, y_train)"
   ]
  },
  {
   "cell_type": "code",
   "execution_count": 158,
   "id": "f716a236-61fb-411c-be99-e1684fdd6b7f",
   "metadata": {},
   "outputs": [
    {
     "data": {
      "text/plain": [
       "0.5686832295601012"
      ]
     },
     "execution_count": 158,
     "metadata": {},
     "output_type": "execute_result"
    }
   ],
   "source": [
    "rfgs.score(x_val, y_val)"
   ]
  },
  {
   "cell_type": "code",
   "execution_count": 159,
   "id": "376d19d4-15ad-40ec-8dfa-9e00990ba61d",
   "metadata": {},
   "outputs": [],
   "source": [
    "save_score['RandomForest'] = rfgs.score(x_val, y_val)"
   ]
  },
  {
   "cell_type": "code",
   "execution_count": 160,
   "id": "8a589458-2d9f-4286-9fb0-cf47d6ee9b9d",
   "metadata": {},
   "outputs": [
    {
     "data": {
      "text/html": [
       "<div>\n",
       "<style scoped>\n",
       "    .dataframe tbody tr th:only-of-type {\n",
       "        vertical-align: middle;\n",
       "    }\n",
       "\n",
       "    .dataframe tbody tr th {\n",
       "        vertical-align: top;\n",
       "    }\n",
       "\n",
       "    .dataframe thead th {\n",
       "        text-align: right;\n",
       "    }\n",
       "</style>\n",
       "<table border=\"1\" class=\"dataframe\">\n",
       "  <thead>\n",
       "    <tr style=\"text-align: right;\">\n",
       "      <th></th>\n",
       "      <th>rank_test_score</th>\n",
       "      <th>mean_test_score</th>\n",
       "      <th>std_test_score</th>\n",
       "      <th>params</th>\n",
       "    </tr>\n",
       "  </thead>\n",
       "  <tbody>\n",
       "    <tr>\n",
       "      <th>5</th>\n",
       "      <td>1</td>\n",
       "      <td>0.523225</td>\n",
       "      <td>0.031141</td>\n",
       "      <td>{'n_estimators': 50, 'min_samples_split': 12, ...</td>\n",
       "    </tr>\n",
       "    <tr>\n",
       "      <th>8</th>\n",
       "      <td>2</td>\n",
       "      <td>0.522069</td>\n",
       "      <td>0.028485</td>\n",
       "      <td>{'n_estimators': 50, 'min_samples_split': 9, '...</td>\n",
       "    </tr>\n",
       "    <tr>\n",
       "      <th>3</th>\n",
       "      <td>3</td>\n",
       "      <td>0.521760</td>\n",
       "      <td>0.030085</td>\n",
       "      <td>{'n_estimators': 50, 'min_samples_split': 9, '...</td>\n",
       "    </tr>\n",
       "    <tr>\n",
       "      <th>9</th>\n",
       "      <td>4</td>\n",
       "      <td>0.521473</td>\n",
       "      <td>0.027449</td>\n",
       "      <td>{'n_estimators': 50, 'min_samples_split': 12, ...</td>\n",
       "    </tr>\n",
       "    <tr>\n",
       "      <th>2</th>\n",
       "      <td>5</td>\n",
       "      <td>0.520564</td>\n",
       "      <td>0.033424</td>\n",
       "      <td>{'n_estimators': 50, 'min_samples_split': 5, '...</td>\n",
       "    </tr>\n",
       "    <tr>\n",
       "      <th>7</th>\n",
       "      <td>6</td>\n",
       "      <td>0.520336</td>\n",
       "      <td>0.025636</td>\n",
       "      <td>{'n_estimators': 50, 'min_samples_split': 12, ...</td>\n",
       "    </tr>\n",
       "    <tr>\n",
       "      <th>0</th>\n",
       "      <td>7</td>\n",
       "      <td>0.518234</td>\n",
       "      <td>0.029254</td>\n",
       "      <td>{'n_estimators': 50, 'min_samples_split': 12, ...</td>\n",
       "    </tr>\n",
       "    <tr>\n",
       "      <th>1</th>\n",
       "      <td>8</td>\n",
       "      <td>0.516708</td>\n",
       "      <td>0.021466</td>\n",
       "      <td>{'n_estimators': 50, 'min_samples_split': 5, '...</td>\n",
       "    </tr>\n",
       "    <tr>\n",
       "      <th>6</th>\n",
       "      <td>9</td>\n",
       "      <td>0.510192</td>\n",
       "      <td>0.029869</td>\n",
       "      <td>{'n_estimators': 50, 'min_samples_split': 12, ...</td>\n",
       "    </tr>\n",
       "    <tr>\n",
       "      <th>4</th>\n",
       "      <td>10</td>\n",
       "      <td>0.496192</td>\n",
       "      <td>0.024699</td>\n",
       "      <td>{'n_estimators': 50, 'min_samples_split': 9, '...</td>\n",
       "    </tr>\n",
       "  </tbody>\n",
       "</table>\n",
       "</div>"
      ],
      "text/plain": [
       "   rank_test_score  mean_test_score  std_test_score  \\\n",
       "5                1         0.523225        0.031141   \n",
       "8                2         0.522069        0.028485   \n",
       "3                3         0.521760        0.030085   \n",
       "9                4         0.521473        0.027449   \n",
       "2                5         0.520564        0.033424   \n",
       "7                6         0.520336        0.025636   \n",
       "0                7         0.518234        0.029254   \n",
       "1                8         0.516708        0.021466   \n",
       "6                9         0.510192        0.029869   \n",
       "4               10         0.496192        0.024699   \n",
       "\n",
       "                                              params  \n",
       "5  {'n_estimators': 50, 'min_samples_split': 12, ...  \n",
       "8  {'n_estimators': 50, 'min_samples_split': 9, '...  \n",
       "3  {'n_estimators': 50, 'min_samples_split': 9, '...  \n",
       "9  {'n_estimators': 50, 'min_samples_split': 12, ...  \n",
       "2  {'n_estimators': 50, 'min_samples_split': 5, '...  \n",
       "7  {'n_estimators': 50, 'min_samples_split': 12, ...  \n",
       "0  {'n_estimators': 50, 'min_samples_split': 12, ...  \n",
       "1  {'n_estimators': 50, 'min_samples_split': 5, '...  \n",
       "6  {'n_estimators': 50, 'min_samples_split': 12, ...  \n",
       "4  {'n_estimators': 50, 'min_samples_split': 9, '...  "
      ]
     },
     "execution_count": 160,
     "metadata": {},
     "output_type": "execute_result"
    }
   ],
   "source": [
    "pd.DataFrame(rfgs.cv_results_).sort_values(\"mean_test_score\", ascending=False)[sel]"
   ]
  },
  {
   "cell_type": "markdown",
   "id": "6b009da5-b699-4710-9079-be8791322935",
   "metadata": {},
   "source": [
    "## LightGBM: \n",
    "Gradient Boosted Machine"
   ]
  },
  {
   "cell_type": "code",
   "execution_count": 161,
   "id": "e4ff3293-0982-4aa8-a3fb-cd3e35149cce",
   "metadata": {},
   "outputs": [],
   "source": [
    "from lightgbm import LGBMRegressor"
   ]
  },
  {
   "cell_type": "code",
   "execution_count": 162,
   "id": "7119979e-c882-42d8-a4ba-37db467e467c",
   "metadata": {},
   "outputs": [
    {
     "name": "stdout",
     "output_type": "stream",
     "text": [
      "[LightGBM] [Warning] Found whitespace in feature_names, replace with underlines\n",
      "[LightGBM] [Info] Auto-choosing col-wise multi-threading, the overhead of testing was 0.000616 seconds.\n",
      "You can set `force_col_wise=true` to remove the overhead.\n",
      "[LightGBM] [Info] Total Bins 1286\n",
      "[LightGBM] [Info] Number of data points in the train set: 2590, number of used features: 9\n",
      "[LightGBM] [Info] Start training from score 9.911583\n",
      "CPU times: total: 172 ms\n",
      "Wall time: 198 ms\n"
     ]
    },
    {
     "data": {
      "text/html": [
       "<style>#sk-container-id-9 {color: black;background-color: white;}#sk-container-id-9 pre{padding: 0;}#sk-container-id-9 div.sk-toggleable {background-color: white;}#sk-container-id-9 label.sk-toggleable__label {cursor: pointer;display: block;width: 100%;margin-bottom: 0;padding: 0.3em;box-sizing: border-box;text-align: center;}#sk-container-id-9 label.sk-toggleable__label-arrow:before {content: \"▸\";float: left;margin-right: 0.25em;color: #696969;}#sk-container-id-9 label.sk-toggleable__label-arrow:hover:before {color: black;}#sk-container-id-9 div.sk-estimator:hover label.sk-toggleable__label-arrow:before {color: black;}#sk-container-id-9 div.sk-toggleable__content {max-height: 0;max-width: 0;overflow: hidden;text-align: left;background-color: #f0f8ff;}#sk-container-id-9 div.sk-toggleable__content pre {margin: 0.2em;color: black;border-radius: 0.25em;background-color: #f0f8ff;}#sk-container-id-9 input.sk-toggleable__control:checked~div.sk-toggleable__content {max-height: 200px;max-width: 100%;overflow: auto;}#sk-container-id-9 input.sk-toggleable__control:checked~label.sk-toggleable__label-arrow:before {content: \"▾\";}#sk-container-id-9 div.sk-estimator input.sk-toggleable__control:checked~label.sk-toggleable__label {background-color: #d4ebff;}#sk-container-id-9 div.sk-label input.sk-toggleable__control:checked~label.sk-toggleable__label {background-color: #d4ebff;}#sk-container-id-9 input.sk-hidden--visually {border: 0;clip: rect(1px 1px 1px 1px);clip: rect(1px, 1px, 1px, 1px);height: 1px;margin: -1px;overflow: hidden;padding: 0;position: absolute;width: 1px;}#sk-container-id-9 div.sk-estimator {font-family: monospace;background-color: #f0f8ff;border: 1px dotted black;border-radius: 0.25em;box-sizing: border-box;margin-bottom: 0.5em;}#sk-container-id-9 div.sk-estimator:hover {background-color: #d4ebff;}#sk-container-id-9 div.sk-parallel-item::after {content: \"\";width: 100%;border-bottom: 1px solid gray;flex-grow: 1;}#sk-container-id-9 div.sk-label:hover label.sk-toggleable__label {background-color: #d4ebff;}#sk-container-id-9 div.sk-serial::before {content: \"\";position: absolute;border-left: 1px solid gray;box-sizing: border-box;top: 0;bottom: 0;left: 50%;z-index: 0;}#sk-container-id-9 div.sk-serial {display: flex;flex-direction: column;align-items: center;background-color: white;padding-right: 0.2em;padding-left: 0.2em;position: relative;}#sk-container-id-9 div.sk-item {position: relative;z-index: 1;}#sk-container-id-9 div.sk-parallel {display: flex;align-items: stretch;justify-content: center;background-color: white;position: relative;}#sk-container-id-9 div.sk-item::before, #sk-container-id-9 div.sk-parallel-item::before {content: \"\";position: absolute;border-left: 1px solid gray;box-sizing: border-box;top: 0;bottom: 0;left: 50%;z-index: -1;}#sk-container-id-9 div.sk-parallel-item {display: flex;flex-direction: column;z-index: 1;position: relative;background-color: white;}#sk-container-id-9 div.sk-parallel-item:first-child::after {align-self: flex-end;width: 50%;}#sk-container-id-9 div.sk-parallel-item:last-child::after {align-self: flex-start;width: 50%;}#sk-container-id-9 div.sk-parallel-item:only-child::after {width: 0;}#sk-container-id-9 div.sk-dashed-wrapped {border: 1px dashed gray;margin: 0 0.4em 0.5em 0.4em;box-sizing: border-box;padding-bottom: 0.4em;background-color: white;}#sk-container-id-9 div.sk-label label {font-family: monospace;font-weight: bold;display: inline-block;line-height: 1.2em;}#sk-container-id-9 div.sk-label-container {text-align: center;}#sk-container-id-9 div.sk-container {/* jupyter's `normalize.less` sets `[hidden] { display: none; }` but bootstrap.min.css set `[hidden] { display: none !important; }` so we also need the `!important` here to be able to override the default hidden behavior on the sphinx rendered scikit-learn.org. See: https://github.com/scikit-learn/scikit-learn/issues/21755 */display: inline-block !important;position: relative;}#sk-container-id-9 div.sk-text-repr-fallback {display: none;}</style><div id=\"sk-container-id-9\" class=\"sk-top-container\"><div class=\"sk-text-repr-fallback\"><pre>LGBMRegressor()</pre><b>In a Jupyter environment, please rerun this cell to show the HTML representation or trust the notebook. <br />On GitHub, the HTML representation is unable to render, please try loading this page with nbviewer.org.</b></div><div class=\"sk-container\" hidden><div class=\"sk-item\"><div class=\"sk-estimator sk-toggleable\"><input class=\"sk-toggleable__control sk-hidden--visually\" id=\"sk-estimator-id-13\" type=\"checkbox\" checked><label for=\"sk-estimator-id-13\" class=\"sk-toggleable__label sk-toggleable__label-arrow\">LGBMRegressor</label><div class=\"sk-toggleable__content\"><pre>LGBMRegressor()</pre></div></div></div></div></div>"
      ],
      "text/plain": [
       "LGBMRegressor()"
      ]
     },
     "execution_count": 162,
     "metadata": {},
     "output_type": "execute_result"
    }
   ],
   "source": [
    "%%time\n",
    "lgbm = LGBMRegressor()\n",
    "lgbm.fit(x_train, y_train)"
   ]
  },
  {
   "cell_type": "code",
   "execution_count": 163,
   "id": "2b0bd12c-4db4-416a-a7ea-59ec1cde9598",
   "metadata": {},
   "outputs": [
    {
     "name": "stdout",
     "output_type": "stream",
     "text": [
      " errRelat:       0.1464\n",
      "      MSE:       4.4839\n",
      "R-2 Score:       0.5638\n",
      "    RMSPE:       0.1898\n"
     ]
    }
   ],
   "source": [
    "print_eval(x_val, y_val, lgbm)"
   ]
  },
  {
   "cell_type": "code",
   "execution_count": 164,
   "id": "f8d351cf-d4c3-46f3-90c9-44e7fc294791",
   "metadata": {},
   "outputs": [
    {
     "data": {
      "text/plain": [
       "0.5638355431539999"
      ]
     },
     "execution_count": 164,
     "metadata": {},
     "output_type": "execute_result"
    }
   ],
   "source": [
    "lgbm.score(x_val, y_val)"
   ]
  },
  {
   "cell_type": "code",
   "execution_count": 165,
   "id": "c948a79f-a774-4ded-aa3d-d224528d87b0",
   "metadata": {},
   "outputs": [],
   "source": [
    "save_score['LightGBM'] = lgbm.score(x_val, y_val)"
   ]
  },
  {
   "cell_type": "markdown",
   "id": "ed828fdf-f39e-41e4-a0f6-116ce3053da4",
   "metadata": {},
   "source": [
    "## XGBoost\n",
    "\n",
    "- La libreria `xgboost` fornisce un'implementazione dell'omonimo algoritmo (_eXtreme Gradient Boosting_)"
   ]
  },
  {
   "cell_type": "code",
   "execution_count": 166,
   "id": "7ee6683c-3a18-42c3-8283-fafaf56d5472",
   "metadata": {},
   "outputs": [
    {
     "name": "stdout",
     "output_type": "stream",
     "text": [
      "1.1.0\n"
     ]
    }
   ],
   "source": [
    "import xgboost\n",
    "print(xgboost.__version__)"
   ]
  },
  {
   "cell_type": "code",
   "execution_count": 167,
   "id": "4affa00e-dcce-41ca-9939-f4425eaf9964",
   "metadata": {},
   "outputs": [],
   "source": [
    "from xgboost import XGBRegressor"
   ]
  },
  {
   "cell_type": "code",
   "execution_count": 168,
   "id": "236f5124-36b3-4ab0-bd47-707279536547",
   "metadata": {},
   "outputs": [
    {
     "name": "stdout",
     "output_type": "stream",
     "text": [
      "CPU times: total: 281 ms\n",
      "Wall time: 172 ms\n"
     ]
    },
    {
     "data": {
      "text/html": [
       "<style>#sk-container-id-10 {color: black;background-color: white;}#sk-container-id-10 pre{padding: 0;}#sk-container-id-10 div.sk-toggleable {background-color: white;}#sk-container-id-10 label.sk-toggleable__label {cursor: pointer;display: block;width: 100%;margin-bottom: 0;padding: 0.3em;box-sizing: border-box;text-align: center;}#sk-container-id-10 label.sk-toggleable__label-arrow:before {content: \"▸\";float: left;margin-right: 0.25em;color: #696969;}#sk-container-id-10 label.sk-toggleable__label-arrow:hover:before {color: black;}#sk-container-id-10 div.sk-estimator:hover label.sk-toggleable__label-arrow:before {color: black;}#sk-container-id-10 div.sk-toggleable__content {max-height: 0;max-width: 0;overflow: hidden;text-align: left;background-color: #f0f8ff;}#sk-container-id-10 div.sk-toggleable__content pre {margin: 0.2em;color: black;border-radius: 0.25em;background-color: #f0f8ff;}#sk-container-id-10 input.sk-toggleable__control:checked~div.sk-toggleable__content {max-height: 200px;max-width: 100%;overflow: auto;}#sk-container-id-10 input.sk-toggleable__control:checked~label.sk-toggleable__label-arrow:before {content: \"▾\";}#sk-container-id-10 div.sk-estimator input.sk-toggleable__control:checked~label.sk-toggleable__label {background-color: #d4ebff;}#sk-container-id-10 div.sk-label input.sk-toggleable__control:checked~label.sk-toggleable__label {background-color: #d4ebff;}#sk-container-id-10 input.sk-hidden--visually {border: 0;clip: rect(1px 1px 1px 1px);clip: rect(1px, 1px, 1px, 1px);height: 1px;margin: -1px;overflow: hidden;padding: 0;position: absolute;width: 1px;}#sk-container-id-10 div.sk-estimator {font-family: monospace;background-color: #f0f8ff;border: 1px dotted black;border-radius: 0.25em;box-sizing: border-box;margin-bottom: 0.5em;}#sk-container-id-10 div.sk-estimator:hover {background-color: #d4ebff;}#sk-container-id-10 div.sk-parallel-item::after {content: \"\";width: 100%;border-bottom: 1px solid gray;flex-grow: 1;}#sk-container-id-10 div.sk-label:hover label.sk-toggleable__label {background-color: #d4ebff;}#sk-container-id-10 div.sk-serial::before {content: \"\";position: absolute;border-left: 1px solid gray;box-sizing: border-box;top: 0;bottom: 0;left: 50%;z-index: 0;}#sk-container-id-10 div.sk-serial {display: flex;flex-direction: column;align-items: center;background-color: white;padding-right: 0.2em;padding-left: 0.2em;position: relative;}#sk-container-id-10 div.sk-item {position: relative;z-index: 1;}#sk-container-id-10 div.sk-parallel {display: flex;align-items: stretch;justify-content: center;background-color: white;position: relative;}#sk-container-id-10 div.sk-item::before, #sk-container-id-10 div.sk-parallel-item::before {content: \"\";position: absolute;border-left: 1px solid gray;box-sizing: border-box;top: 0;bottom: 0;left: 50%;z-index: -1;}#sk-container-id-10 div.sk-parallel-item {display: flex;flex-direction: column;z-index: 1;position: relative;background-color: white;}#sk-container-id-10 div.sk-parallel-item:first-child::after {align-self: flex-end;width: 50%;}#sk-container-id-10 div.sk-parallel-item:last-child::after {align-self: flex-start;width: 50%;}#sk-container-id-10 div.sk-parallel-item:only-child::after {width: 0;}#sk-container-id-10 div.sk-dashed-wrapped {border: 1px dashed gray;margin: 0 0.4em 0.5em 0.4em;box-sizing: border-box;padding-bottom: 0.4em;background-color: white;}#sk-container-id-10 div.sk-label label {font-family: monospace;font-weight: bold;display: inline-block;line-height: 1.2em;}#sk-container-id-10 div.sk-label-container {text-align: center;}#sk-container-id-10 div.sk-container {/* jupyter's `normalize.less` sets `[hidden] { display: none; }` but bootstrap.min.css set `[hidden] { display: none !important; }` so we also need the `!important` here to be able to override the default hidden behavior on the sphinx rendered scikit-learn.org. See: https://github.com/scikit-learn/scikit-learn/issues/21755 */display: inline-block !important;position: relative;}#sk-container-id-10 div.sk-text-repr-fallback {display: none;}</style><div id=\"sk-container-id-10\" class=\"sk-top-container\"><div class=\"sk-text-repr-fallback\"><pre>XGBRegressor(base_score=0.5, booster=&#x27;gbtree&#x27;, colsample_bylevel=1,\n",
       "             colsample_bynode=1, colsample_bytree=1.0, gamma=0, gpu_id=-1,\n",
       "             importance_type=&#x27;gain&#x27;, interaction_constraints=&#x27;&#x27;,\n",
       "             learning_rate=0.2, max_delta_step=0, max_depth=3,\n",
       "             min_child_weight=1, missing=nan, monotone_constraints=&#x27;()&#x27;,\n",
       "             n_estimators=100, n_jobs=0, num_parallel_tree=1, random_state=0,\n",
       "             reg_alpha=0.1, reg_lambda=2.0, scale_pos_weight=1, subsample=1.0,\n",
       "             tree_method=&#x27;exact&#x27;, validate_parameters=1, verbosity=None)</pre><b>In a Jupyter environment, please rerun this cell to show the HTML representation or trust the notebook. <br />On GitHub, the HTML representation is unable to render, please try loading this page with nbviewer.org.</b></div><div class=\"sk-container\" hidden><div class=\"sk-item\"><div class=\"sk-estimator sk-toggleable\"><input class=\"sk-toggleable__control sk-hidden--visually\" id=\"sk-estimator-id-14\" type=\"checkbox\" checked><label for=\"sk-estimator-id-14\" class=\"sk-toggleable__label sk-toggleable__label-arrow\">XGBRegressor</label><div class=\"sk-toggleable__content\"><pre>XGBRegressor(base_score=0.5, booster=&#x27;gbtree&#x27;, colsample_bylevel=1,\n",
       "             colsample_bynode=1, colsample_bytree=1.0, gamma=0, gpu_id=-1,\n",
       "             importance_type=&#x27;gain&#x27;, interaction_constraints=&#x27;&#x27;,\n",
       "             learning_rate=0.2, max_delta_step=0, max_depth=3,\n",
       "             min_child_weight=1, missing=nan, monotone_constraints=&#x27;()&#x27;,\n",
       "             n_estimators=100, n_jobs=0, num_parallel_tree=1, random_state=0,\n",
       "             reg_alpha=0.1, reg_lambda=2.0, scale_pos_weight=1, subsample=1.0,\n",
       "             tree_method=&#x27;exact&#x27;, validate_parameters=1, verbosity=None)</pre></div></div></div></div></div>"
      ],
      "text/plain": [
       "XGBRegressor(base_score=0.5, booster='gbtree', colsample_bylevel=1,\n",
       "             colsample_bynode=1, colsample_bytree=1.0, gamma=0, gpu_id=-1,\n",
       "             importance_type='gain', interaction_constraints='',\n",
       "             learning_rate=0.2, max_delta_step=0, max_depth=3,\n",
       "             min_child_weight=1, missing=nan, monotone_constraints='()',\n",
       "             n_estimators=100, n_jobs=0, num_parallel_tree=1, random_state=0,\n",
       "             reg_alpha=0.1, reg_lambda=2.0, scale_pos_weight=1, subsample=1.0,\n",
       "             tree_method='exact', validate_parameters=1, verbosity=None)"
      ]
     },
     "execution_count": 168,
     "metadata": {},
     "output_type": "execute_result"
    }
   ],
   "source": [
    "%%time\n",
    "xgbm = XGBRegressor(objective='reg:squarederror', subsample=1.0, reg_lambda=2.0, reg_alpha=0.1, n_estimators=100, max_depth=3, learning_rate=0.2, colsample_bytree=1.0)\n",
    "xgbm.fit(x_train, y_train)"
   ]
  },
  {
   "cell_type": "code",
   "execution_count": 169,
   "id": "cbb08eb5-6363-45e8-a500-07d048d5a5f6",
   "metadata": {},
   "outputs": [
    {
     "name": "stdout",
     "output_type": "stream",
     "text": [
      " errRelat:       0.1446\n",
      "      MSE:       4.5240\n",
      "R-2 Score:       0.5599\n",
      "    RMSPE:       0.1865\n"
     ]
    }
   ],
   "source": [
    "print_eval(x_val, y_val, xgbm)"
   ]
  },
  {
   "cell_type": "code",
   "execution_count": 170,
   "id": "bcbf3f97-ec8d-42e5-857e-bd94f3eee928",
   "metadata": {},
   "outputs": [
    {
     "data": {
      "text/plain": [
       "0.5599389385978997"
      ]
     },
     "execution_count": 170,
     "metadata": {},
     "output_type": "execute_result"
    }
   ],
   "source": [
    "xgbm.score(x_val, y_val)"
   ]
  },
  {
   "cell_type": "code",
   "execution_count": 171,
   "id": "de5f7ac7-41ff-4281-acf1-2c37e5dc9861",
   "metadata": {},
   "outputs": [],
   "source": [
    "save_score['XGBoost'] = xgbm.score(x_val, y_val)"
   ]
  },
  {
   "cell_type": "code",
   "execution_count": 172,
   "id": "69ea1332-13e6-41b9-9437-9e9dbea3390b",
   "metadata": {},
   "outputs": [],
   "source": [
    "#xgbm = XGBRegressor(objective='reg:squarederror', n_estimators=200)\n",
    "\n",
    "#param_dist = {\n",
    "#    'n_estimators': [100, 200, 300],\n",
    "#    'learning_rate': [0.01, 0.1, 0.2],\n",
    "#    'max_depth': [3, 5, 7],\n",
    "#    'subsample': [0.7, 0.8, 0.9, 1.0],\n",
    "#    'colsample_bytree': [0.7, 0.8, 0.9, 1.0],\n",
    "#    'reg_alpha': [0.0, 0.1, 0.5, 1.0],\n",
    "#    'reg_lambda': [0.5, 1.0, 1.5, 2.0]\n",
    "#}\n",
    "\n",
    "#random_search = RandomizedSearchCV(estimator=xgbm, param_distributions=param_dist, n_iter=100, cv=5, scoring='neg_mean_squared_error', verbose=1, n_jobs=-1, random_state=42)\n",
    "#random_search.fit(x_train, y_train)\n",
    "#best_params = random_search.best_params_\n",
    "#print(\"Migliori parametri trovati:\", best_params)\n",
    "#best_model = random_search.best_estimator_\n",
    "#best_model.score(x_val, y_val)\n"
   ]
  },
  {
   "cell_type": "markdown",
   "id": "37f4df80-d9bf-40b5-97b9-f1008de83c16",
   "metadata": {},
   "source": [
    "# conclusioni"
   ]
  },
  {
   "cell_type": "markdown",
   "id": "94cef968-5dcf-4ca9-b7a1-cf31d87add12",
   "metadata": {},
   "source": [
    "La predizione dell'età di un granchio non è un risultato facile.\n",
    "Le feature non hanno una correlazione ottimale rispetto all'età ed è difficile trovare relazioni che rendano estremamente accurata la predizione."
   ]
  },
  {
   "cell_type": "code",
   "execution_count": 173,
   "id": "edb24689-552f-4695-894b-029dae3e813e",
   "metadata": {},
   "outputs": [
    {
     "data": {
      "text/html": [
       "<div>\n",
       "<style scoped>\n",
       "    .dataframe tbody tr th:only-of-type {\n",
       "        vertical-align: middle;\n",
       "    }\n",
       "\n",
       "    .dataframe tbody tr th {\n",
       "        vertical-align: top;\n",
       "    }\n",
       "\n",
       "    .dataframe thead th {\n",
       "        text-align: right;\n",
       "    }\n",
       "</style>\n",
       "<table border=\"1\" class=\"dataframe\">\n",
       "  <thead>\n",
       "    <tr style=\"text-align: right;\">\n",
       "      <th></th>\n",
       "      <th>Accuracy</th>\n",
       "    </tr>\n",
       "    <tr>\n",
       "      <th>Model</th>\n",
       "      <th></th>\n",
       "    </tr>\n",
       "  </thead>\n",
       "  <tbody>\n",
       "    <tr>\n",
       "      <th>Ridge</th>\n",
       "      <td>0.580604</td>\n",
       "    </tr>\n",
       "    <tr>\n",
       "      <th>LinearPoly2</th>\n",
       "      <td>0.578281</td>\n",
       "    </tr>\n",
       "    <tr>\n",
       "      <th>RandomForest</th>\n",
       "      <td>0.568683</td>\n",
       "    </tr>\n",
       "    <tr>\n",
       "      <th>LightGBM</th>\n",
       "      <td>0.563836</td>\n",
       "    </tr>\n",
       "    <tr>\n",
       "      <th>XGBoost</th>\n",
       "      <td>0.559939</td>\n",
       "    </tr>\n",
       "    <tr>\n",
       "      <th>Linear</th>\n",
       "      <td>0.544837</td>\n",
       "    </tr>\n",
       "    <tr>\n",
       "      <th>Lasso</th>\n",
       "      <td>0.497869</td>\n",
       "    </tr>\n",
       "    <tr>\n",
       "      <th>DecisionTree</th>\n",
       "      <td>0.470870</td>\n",
       "    </tr>\n",
       "  </tbody>\n",
       "</table>\n",
       "</div>"
      ],
      "text/plain": [
       "              Accuracy\n",
       "Model                 \n",
       "Ridge         0.580604\n",
       "LinearPoly2   0.578281\n",
       "RandomForest  0.568683\n",
       "LightGBM      0.563836\n",
       "XGBoost       0.559939\n",
       "Linear        0.544837\n",
       "Lasso         0.497869\n",
       "DecisionTree  0.470870"
      ]
     },
     "execution_count": 173,
     "metadata": {},
     "output_type": "execute_result"
    }
   ],
   "source": [
    "scores = pd.DataFrame(save_score.items(), columns=['Model', 'Accuracy']).set_index('Model')\n",
    "scores.sort_values(by='Accuracy', ascending=False)"
   ]
  },
  {
   "cell_type": "markdown",
   "id": "009cedaf-1a19-40a1-a5dc-95a8a4958c37",
   "metadata": {},
   "source": [
    "La migliore accuratezza si ottiene con una regressione Lineare Ridge di grado 2. La regolarizzazione Ridge riduce il rischio di overfitting rispetto ad una semplice regressione polinomiale.<br/>\n",
    "Il modello è moderatemente non lineare, si è visto questo anche in fase iniziale di analisi dei dati dove risultava già evidente che la crescita delle varie feature del granchio era legata all'età, ma solo fino ad un certo periodo per poi fermarsi. Purtroppo le feature hanno valori molto diversi all'interno della stessa età, questa distribuzione non permette di avere predizioni particolarmente precise. I modelli di predizione più complessi non sono risultati utili per migliorare la previsione, un modello lineare polinomiale con regolarizzazione è il migliore che ho trovato per valutare le relazioni presenti."
   ]
  },
  {
   "cell_type": "code",
   "execution_count": null,
   "id": "01d2cc21-32e0-4f76-98cb-495b37e08900",
   "metadata": {},
   "outputs": [],
   "source": []
  }
 ],
 "metadata": {
  "kernelspec": {
   "display_name": "Python 3 (ipykernel)",
   "language": "python",
   "name": "python3"
  },
  "language_info": {
   "codemirror_mode": {
    "name": "ipython",
    "version": 3
   },
   "file_extension": ".py",
   "mimetype": "text/x-python",
   "name": "python",
   "nbconvert_exporter": "python",
   "pygments_lexer": "ipython3",
   "version": "3.11.7"
  }
 },
 "nbformat": 4,
 "nbformat_minor": 5
}
