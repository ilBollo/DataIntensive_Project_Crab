{
 "cells": [
  {
   "cell_type": "markdown",
   "id": "1426ee43-f6d7-4eeb-984b-0072a13816a4",
   "metadata": {},
   "source": [
    "# Prevedere l'età del granchio in base ai suoi attributi fisici\n",
    "\n",
    "Progetto di Programmazione di Applicazioni Data Intensive - 2023/2024\n",
    "\n",
    "**Realizzato da:** Simone Bollini  simone.bollini@studio.unibo.it mat. 0000"
   ]
  },
  {
   "cell_type": "code",
   "execution_count": 2,
   "id": "83dc3c38-2939-4f3e-8599-3b5abd03e7a2",
   "metadata": {},
   "outputs": [],
   "source": [
    "import numpy as np\n",
    "import pandas as pd\n",
    "import matplotlib.pyplot as plt\n",
    "\n",
    "%matplotlib inline"
   ]
  },
  {
   "cell_type": "markdown",
   "id": "d44766fb-67e5-4643-a109-5b997f08d411",
   "metadata": {
    "slideshow": {
     "slide_type": "slide"
    }
   },
   "source": [
    "## Prevedere l'età del granchio\n",
    "\n",
    "- Il set di dati viene utilizzato per stimare l'età del granchio in base agli attributi fisici.\r\n",
    "Il granchio è molto gustoso e molti paesi del mondo importano ogni anno enormi quantità di granchi per il consumo.\r\n",
    "I principali vantaggi dell'agricoltura del granchio sono che il costo del lavoro è molto basso, il costo di produzione è relativamente più basso e crescono molto velocemente. L'attività commerciale di allevamento di granchi sta sviluppando lo stile di vita della popolazione delle aree costiere.\r\n",
    "Con un'adeguata cura e gestione possiamo guadagnare di più dalle attività di allevamento di granchi rispetto all'agricoltura di gamberetti.\r\n",
    "Per un allevatore di granchi commerciale conoscere l'età giusta del granchio li aiuta a decidere se e quando raccogliere i granchi.\r\n",
    "Oltre una certa età, c'è una crescita trascurabile delle caratteristiche fisiche del granchio e, quindi, è importante cronometrare la raccolta per ridurre i costi e aumentare i profitti.fitti."
   ]
  },
  {
   "cell_type": "markdown",
   "id": "6ec17e5b-982b-494e-8b4f-b924bad552e4",
   "metadata": {
    "slideshow": {
     "slide_type": "slide"
    }
   },
   "source": [
    "## Estrazione dati\n",
    "\n",
    "Il dataset puo essere scaricato da [Kaggle](https://https://www.kaggle.com/datasets/sidhus/crab-age-prediction) "
   ]
  },
  {
   "cell_type": "code",
   "execution_count": null,
   "id": "c42c1d91-6c2e-4c99-aae2-a6dae94a0ddd",
   "metadata": {},
   "outputs": [],
   "source": []
  }
 ],
 "metadata": {
  "kernelspec": {
   "display_name": "Python 3 (ipykernel)",
   "language": "python",
   "name": "python3"
  },
  "language_info": {
   "codemirror_mode": {
    "name": "ipython",
    "version": 3
   },
   "file_extension": ".py",
   "mimetype": "text/x-python",
   "name": "python",
   "nbconvert_exporter": "python",
   "pygments_lexer": "ipython3",
   "version": "3.11.7"
  }
 },
 "nbformat": 4,
 "nbformat_minor": 5
}
