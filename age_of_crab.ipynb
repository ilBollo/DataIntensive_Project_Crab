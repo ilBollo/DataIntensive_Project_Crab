{
 "cells": [
  {
   "cell_type": "markdown",
   "id": "1426ee43-f6d7-4eeb-984b-0072a13816a4",
   "metadata": {},
   "source": [
    "# Prevedere l'età del granchio in base ai suoi attributi fisici\n",
    "\n",
    "Progetto di Programmazione di Applicazioni Data Intensive - 2023/2024\n",
    "\n",
    "**Realizzato da:** Simone Bollini  simone.bollini@studio.unibo.it mat. 0000"
   ]
  },
  {
   "cell_type": "code",
   "execution_count": 2,
   "id": "83dc3c38-2939-4f3e-8599-3b5abd03e7a2",
   "metadata": {},
   "outputs": [],
   "source": [
    "import numpy as np\n",
    "import pandas as pd\n",
    "import matplotlib.pyplot as plt\n",
    "\n",
    "%matplotlib inline"
   ]
  },
  {
   "cell_type": "markdown",
   "id": "d44766fb-67e5-4643-a109-5b997f08d411",
   "metadata": {
    "slideshow": {
     "slide_type": "slide"
    }
   },
   "source": [
    "## Prevedere l'età del granchio\n",
    "\n",
    "- Il set di dati viene utilizzato per stimare l'età del granchio in base agli attributi fisici.\r\n",
    "Il granchio è molto gustoso e molti paesi del mondo importano ogni anno enormi quantità di granchi per il consumo.\r\n",
    "I principali vantaggi dell'agricoltura del granchio sono che il costo del lavoro è molto basso, il costo di produzione è relativamente più basso e crescono molto velocemente. L'attività commerciale di allevamento di granchi sta sviluppando lo stile di vita della popolazione delle aree costiere.\r\n",
    "Con un'adeguata cura e gestione possiamo guadagnare di più dalle attività di allevamento di granchi rispetto all'agricoltura di gamberetti.\r\n",
    "Per un allevatore di granchi commerciale conoscere l'età giusta del granchio li aiuta a decidere se e quando raccogliere i granchi.\r\n",
    "Oltre una certa età, c'è una crescita trascurabile delle caratteristiche fisiche del granchio e, quindi, è importante cronometrare la raccolta per ridurre i costi e aumentare i profitti.fitti."
   ]
  },
  {
   "cell_type": "markdown",
   "id": "6ec17e5b-982b-494e-8b4f-b924bad552e4",
   "metadata": {
    "slideshow": {
     "slide_type": "slide"
    }
   },
   "source": [
    "## Estrazione dati\n",
    "\n",
    "Il dataset puo essere scaricato da [Kaggle](https://www.kaggle.com/datasets/sidhus/crab-age-prediction/data) "
   ]
  },
  {
   "cell_type": "code",
   "execution_count": 1,
   "id": "c42c1d91-6c2e-4c99-aae2-a6dae94a0ddd",
   "metadata": {},
   "outputs": [],
   "source": [
    "import pandas as pd\n",
    "import numpy as np\n",
    "import matplotlib.pyplot as plt\n",
    "import sklearn"
   ]
  },
  {
   "cell_type": "code",
   "execution_count": 15,
   "id": "bdd33ef0-e6e3-41f3-b9d7-180897ebc9a5",
   "metadata": {},
   "outputs": [],
   "source": [
    "import os.path\n",
    "from urllib.request import urlretrieve\n",
    "if not os.path.exists(\"crab.zip\"):\n",
    "    urlretrieve(\"https://github.com/ilBollo/DataIntensive_Project_Crab/raw/master/crab.zip\", \"crab.zip\")\n"
   ]
  },
  {
   "cell_type": "code",
   "execution_count": 16,
   "id": "80f60b9e-65f3-48ad-95ec-6868c3d712c7",
   "metadata": {
    "scrolled": true
   },
   "outputs": [
    {
     "data": {
      "text/html": [
       "<div>\n",
       "<style scoped>\n",
       "    .dataframe tbody tr th:only-of-type {\n",
       "        vertical-align: middle;\n",
       "    }\n",
       "\n",
       "    .dataframe tbody tr th {\n",
       "        vertical-align: top;\n",
       "    }\n",
       "\n",
       "    .dataframe thead th {\n",
       "        text-align: right;\n",
       "    }\n",
       "</style>\n",
       "<table border=\"1\" class=\"dataframe\">\n",
       "  <thead>\n",
       "    <tr style=\"text-align: right;\">\n",
       "      <th></th>\n",
       "      <th>Sex</th>\n",
       "      <th>Length</th>\n",
       "      <th>Diameter</th>\n",
       "      <th>Height</th>\n",
       "      <th>Weight</th>\n",
       "      <th>Shucked Weight</th>\n",
       "      <th>Viscera Weight</th>\n",
       "      <th>Shell Weight</th>\n",
       "      <th>Age</th>\n",
       "    </tr>\n",
       "  </thead>\n",
       "  <tbody>\n",
       "    <tr>\n",
       "      <th>0</th>\n",
       "      <td>F</td>\n",
       "      <td>1.4375</td>\n",
       "      <td>1.1750</td>\n",
       "      <td>0.4125</td>\n",
       "      <td>24.635715</td>\n",
       "      <td>12.332033</td>\n",
       "      <td>5.584852</td>\n",
       "      <td>6.747181</td>\n",
       "      <td>9</td>\n",
       "    </tr>\n",
       "    <tr>\n",
       "      <th>1</th>\n",
       "      <td>M</td>\n",
       "      <td>0.8875</td>\n",
       "      <td>0.6500</td>\n",
       "      <td>0.2125</td>\n",
       "      <td>5.400580</td>\n",
       "      <td>2.296310</td>\n",
       "      <td>1.374951</td>\n",
       "      <td>1.559222</td>\n",
       "      <td>6</td>\n",
       "    </tr>\n",
       "    <tr>\n",
       "      <th>2</th>\n",
       "      <td>I</td>\n",
       "      <td>1.0375</td>\n",
       "      <td>0.7750</td>\n",
       "      <td>0.2500</td>\n",
       "      <td>7.952035</td>\n",
       "      <td>3.231843</td>\n",
       "      <td>1.601747</td>\n",
       "      <td>2.764076</td>\n",
       "      <td>6</td>\n",
       "    </tr>\n",
       "    <tr>\n",
       "      <th>3</th>\n",
       "      <td>F</td>\n",
       "      <td>1.1750</td>\n",
       "      <td>0.8875</td>\n",
       "      <td>0.2500</td>\n",
       "      <td>13.480187</td>\n",
       "      <td>4.748541</td>\n",
       "      <td>2.282135</td>\n",
       "      <td>5.244657</td>\n",
       "      <td>10</td>\n",
       "    </tr>\n",
       "    <tr>\n",
       "      <th>4</th>\n",
       "      <td>I</td>\n",
       "      <td>0.8875</td>\n",
       "      <td>0.6625</td>\n",
       "      <td>0.2125</td>\n",
       "      <td>6.903103</td>\n",
       "      <td>3.458639</td>\n",
       "      <td>1.488349</td>\n",
       "      <td>1.700970</td>\n",
       "      <td>6</td>\n",
       "    </tr>\n",
       "  </tbody>\n",
       "</table>\n",
       "</div>"
      ],
      "text/plain": [
       "  Sex  Length  Diameter  Height     Weight  Shucked Weight  Viscera Weight  \\\n",
       "0   F  1.4375    1.1750  0.4125  24.635715       12.332033        5.584852   \n",
       "1   M  0.8875    0.6500  0.2125   5.400580        2.296310        1.374951   \n",
       "2   I  1.0375    0.7750  0.2500   7.952035        3.231843        1.601747   \n",
       "3   F  1.1750    0.8875  0.2500  13.480187        4.748541        2.282135   \n",
       "4   I  0.8875    0.6625  0.2125   6.903103        3.458639        1.488349   \n",
       "\n",
       "   Shell Weight  Age  \n",
       "0      6.747181    9  \n",
       "1      1.559222    6  \n",
       "2      2.764076    6  \n",
       "3      5.244657   10  \n",
       "4      1.700970    6  "
      ]
     },
     "execution_count": 16,
     "metadata": {},
     "output_type": "execute_result"
    }
   ],
   "source": [
    "data = pd.read_csv(\"crab.zip\", sep=\",\", compression=\"zip\")\n",
    "data.head()"
   ]
  },
  {
   "cell_type": "markdown",
   "id": "147166da-bb2c-43bb-a74a-c29841a81ce1",
   "metadata": {},
   "source": [
    "### Significato delle colonne\n",
    "Le feature presenti nel dataset sono: \n",
    "- `Sex`: genere del granchio. Possibili valori: Female, Male o Indeterminate\n",
    "- `Length`: Lunghezza del granchio (in piedi; 1 piede = 30,48 cm)\n",
    "- `Diameter`: Diametro del granchio (in piedi; 1 piede = 30,48 cm)\n",
    "- `Height`: Altezza del granchio (in piedi; 1 piede = 30,48 cm)\n",
    "- `Weight`: Peso del granchio (in once; 1 sterlina = 16 once)\n",
    "- `Shucked Weight`: Peso senza guscio (in once; 1 libbra = 16 once)\n",
    "- `Viscera Weight`: è il peso che avvolge gli organi addominali nel profondo del corpo (in once; 1 libbra = 16 once)\n",
    "- `Shell Weight`: Peso della conchiglia (in once; 1 sterlina = 16 once)\n",
    "- `Age`: Età del granchio (in mesi)\n",
    "\n",
    "La variabile che tenteremo di predirre è l'età del granchio."
   ]
  },
  {
   "cell_type": "code",
   "execution_count": 20,
   "id": "9685f000-4497-4f19-b39d-a810b76d6392",
   "metadata": {},
   "outputs": [
    {
     "name": "stdout",
     "output_type": "stream",
     "text": [
      "<class 'pandas.core.frame.DataFrame'>\n",
      "RangeIndex: 3893 entries, 0 to 3892\n",
      "Data columns (total 9 columns):\n",
      " #   Column          Non-Null Count  Dtype  \n",
      "---  ------          --------------  -----  \n",
      " 0   Sex             3893 non-null   object \n",
      " 1   Length          3893 non-null   float64\n",
      " 2   Diameter        3893 non-null   float64\n",
      " 3   Height          3893 non-null   float64\n",
      " 4   Weight          3893 non-null   float64\n",
      " 5   Shucked Weight  3893 non-null   float64\n",
      " 6   Viscera Weight  3893 non-null   float64\n",
      " 7   Shell Weight    3893 non-null   float64\n",
      " 8   Age             3893 non-null   int64  \n",
      "dtypes: float64(7), int64(1), object(1)\n",
      "memory usage: 273.9+ KB\n"
     ]
    }
   ],
   "source": [
    "data.info()"
   ]
  },
  {
   "cell_type": "markdown",
   "id": "ba4b5d24-5592-4661-b1e3-97e20ad63094",
   "metadata": {},
   "source": [
    "la colonna sex contiene solo i valori \"F\", \"M\" e \"I\" per questo motivo occupa troppo spazio come object la ricarichiamo come tipo category per ottimizzare il consumo di memoria"
   ]
  },
  {
   "cell_type": "code",
   "execution_count": 22,
   "id": "1f8084a0-5851-4a29-8e88-9c5f7241dccd",
   "metadata": {},
   "outputs": [],
   "source": [
    "data = pd.read_csv(\"crab.zip\", sep=\",\", compression=\"zip\", dtype={\"Sex\":\"category\"})"
   ]
  },
  {
   "cell_type": "code",
   "execution_count": 23,
   "id": "474c53c4-3119-45e3-9a0f-04831e3ba13d",
   "metadata": {},
   "outputs": [
    {
     "name": "stdout",
     "output_type": "stream",
     "text": [
      "<class 'pandas.core.frame.DataFrame'>\n",
      "RangeIndex: 3893 entries, 0 to 3892\n",
      "Data columns (total 9 columns):\n",
      " #   Column          Non-Null Count  Dtype   \n",
      "---  ------          --------------  -----   \n",
      " 0   Sex             3893 non-null   category\n",
      " 1   Length          3893 non-null   float64 \n",
      " 2   Diameter        3893 non-null   float64 \n",
      " 3   Height          3893 non-null   float64 \n",
      " 4   Weight          3893 non-null   float64 \n",
      " 5   Shucked Weight  3893 non-null   float64 \n",
      " 6   Viscera Weight  3893 non-null   float64 \n",
      " 7   Shell Weight    3893 non-null   float64 \n",
      " 8   Age             3893 non-null   int64   \n",
      "dtypes: category(1), float64(7), int64(1)\n",
      "memory usage: 247.4 KB\n"
     ]
    }
   ],
   "source": [
    "data.info()"
   ]
  },
  {
   "cell_type": "markdown",
   "id": "16ff1bd1-cd7b-47e0-8383-b5ced92d0da4",
   "metadata": {},
   "source": [
    "anche se il dataset non è molto grande solo questa piccola correzione ha ridotto l'uso di memoria quasi del 10%"
   ]
  },
  {
   "cell_type": "markdown",
   "id": "3f47e757-f9e7-48cd-9418-8a1a1be83835",
   "metadata": {},
   "source": [
    "## Analisi generale dei dati"
   ]
  },
  {
   "cell_type": "markdown",
   "id": "40854e52-5e5c-4069-8419-3846844757d8",
   "metadata": {},
   "source": [
    "Visualizziamo alcune statistiche per prendere coscienza dei dati che dovremo analizzare e delle caratteristiche del dominio applicativo.\r\n",
    "\r\n",
    "Vediamo come prima cosa quanto variano i dati in nostro possesso:"
   ]
  },
  {
   "cell_type": "code",
   "execution_count": 26,
   "id": "368c5309-2bf9-49e2-9d68-3160d08ee61e",
   "metadata": {},
   "outputs": [
    {
     "name": "stdout",
     "output_type": "stream",
     "text": [
      "Length: \t134\n",
      "Diameter: \t111\n",
      "Height: \t51\n",
      "Weight: \t2343\n",
      "Shucked Weight: \t1482\n",
      "Viscera Weight: \t867\n",
      "Shell Weight: \t907\n",
      "Age: \t28\n"
     ]
    }
   ],
   "source": [
    "for col in [x for x in data.columns if x != 'Sex']:\n",
    "    print(col + \": \\t\" + str(data[col].nunique()))"
   ]
  },
  {
   "cell_type": "code",
   "execution_count": 34,
   "id": "1f38f302-7197-4660-bedb-0669342c3e44",
   "metadata": {},
   "outputs": [],
   "source": [
    "def plot_bar(feature, n, title):\n",
    "    # Controllare il numero di valori unici nella colonna\n",
    "    unique_values_count = data[feature].nunique()\n",
    "    \n",
    "    # Se il numero di valori unici è minore di n, impostare n al numero massimo di valori unici\n",
    "    n = min(n, unique_values_count)\n",
    "    \n",
    "    # Tracciare il grafico a barre\n",
    "    data[feature].value_counts().head(n).plot.bar(figsize=(15, 4))\n",
    "    plt.gca().set_title(title)\n",
    "    plt.xlabel(feature)\n",
    "    plt.ylabel('Frequency')\n",
    "    plt.show()"
   ]
  },
  {
   "cell_type": "code",
   "execution_count": 35,
   "id": "284f3de9-1c19-4ec2-b330-ba153c10055e",
   "metadata": {},
   "outputs": [
    {
     "data": {
      "image/png": "[encoded data removed]",
      "text/plain": [
       "<Figure size 1500x400 with 1 Axes>"
      ]
     },
     "metadata": {},
     "output_type": "display_data"
    }
   ],
   "source": [
    "plot_bar(\"Weight\", 20, \"Pesi più frequenti\")"
   ]
  },
  {
   "cell_type": "code",
   "execution_count": null,
   "id": "09244e33-be53-4c8c-ae51-507ac5e0a1db",
   "metadata": {},
   "outputs": [],
   "source": []
  }
 ],
 "metadata": {
  "kernelspec": {
   "display_name": "Python 3 (ipykernel)",
   "language": "python",
   "name": "python3"
  },
  "language_info": {
   "codemirror_mode": {
    "name": "ipython",
    "version": 3
   },
   "file_extension": ".py",
   "mimetype": "text/x-python",
   "name": "python",
   "nbconvert_exporter": "python",
   "pygments_lexer": "ipython3",
   "version": "3.11.7"
  }
 },
 "nbformat": 4,
 "nbformat_minor": 5
}
