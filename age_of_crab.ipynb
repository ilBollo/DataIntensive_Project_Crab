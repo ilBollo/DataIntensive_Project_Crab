{
 "cells": [
  {
   "cell_type": "markdown",
   "id": "1426ee43-f6d7-4eeb-984b-0072a13816a4",
   "metadata": {},
   "source": [
    "# Prevedere l'età del granchio in base ai suoi attributi fisici\n",
    "\n",
    "Progetto di Programmazione di Applicazioni Data Intensive - 2023/2024\n",
    "\n",
    "**Realizzato da:** Simone Bollini  simone.bollini@studio.unibo.it mat. 0000"
   ]
  },
  {
   "cell_type": "code",
   "execution_count": 448,
   "id": "83dc3c38-2939-4f3e-8599-3b5abd03e7a2",
   "metadata": {},
   "outputs": [],
   "source": [
    "import numpy as np\n",
    "import pandas as pd\n",
    "import matplotlib.pyplot as plt\n",
    "import sklearn\n",
    "%matplotlib inline"
   ]
  },
  {
   "cell_type": "code",
   "execution_count": 449,
   "id": "802d4825-3509-465b-a3d4-a22bf75ffc5a",
   "metadata": {},
   "outputs": [],
   "source": [
    "# sono eseguiti quì tutti gli import necessari da scikit-learn\n",
    "from sklearn.linear_model import LinearRegression\n",
    "from sklearn.preprocessing import PolynomialFeatures, StandardScaler\n",
    "from sklearn.pipeline import Pipeline\n",
    "from sklearn.linear_model import Ridge"
   ]
  },
  {
   "cell_type": "code",
   "execution_count": 450,
   "id": "a01dff97-147e-437d-8cc4-fa852cd28463",
   "metadata": {},
   "outputs": [],
   "source": [
    "_RANDOM_STATE = 18\n",
    "_TEST_SIZE = 1/3\n",
    "_N_SPLITS = 5"
   ]
  },
  {
   "cell_type": "markdown",
   "id": "d44766fb-67e5-4643-a109-5b997f08d411",
   "metadata": {
    "jp-MarkdownHeadingCollapsed": true,
    "slideshow": {
     "slide_type": "slide"
    }
   },
   "source": [
    "## Prevedere l'età del granchio\n",
    "\n",
    "- Il set di dati viene utilizzato per stimare l'età del granchio in base agli attributi fisici. hi.\r\n",
    "Oltre una certa età, c'è una crescita trascurabile delle caratteristiche fisiche del granchio e, quindi, è importante cronometrare la raccolta per ridurre i costi e aumentare i pro.itti."
   ]
  },
  {
   "cell_type": "markdown",
   "id": "6ec17e5b-982b-494e-8b4f-b924bad552e4",
   "metadata": {
    "slideshow": {
     "slide_type": "slide"
    }
   },
   "source": [
    "## Estrazione dati\n",
    "\n",
    "Il dataset puo essere scaricato da [Kaggle](https://www.kaggle.com/datasets/sidhus/crab-age-prediction/data) "
   ]
  },
  {
   "cell_type": "code",
   "execution_count": 451,
   "id": "bdd33ef0-e6e3-41f3-b9d7-180897ebc9a5",
   "metadata": {},
   "outputs": [],
   "source": [
    "import os.path\n",
    "from urllib.request import urlretrieve\n",
    "if not os.path.exists(\"crab.zip\"):\n",
    "    urlretrieve(\"https://github.com/ilBollo/DataIntensive_Project_Crab/raw/master/crab.zip\", \"crab.zip\")\n"
   ]
  },
  {
   "cell_type": "code",
   "execution_count": 452,
   "id": "80f60b9e-65f3-48ad-95ec-6868c3d712c7",
   "metadata": {
    "scrolled": true
   },
   "outputs": [
    {
     "data": {
      "text/html": [
       "<div>\n",
       "<style scoped>\n",
       "    .dataframe tbody tr th:only-of-type {\n",
       "        vertical-align: middle;\n",
       "    }\n",
       "\n",
       "    .dataframe tbody tr th {\n",
       "        vertical-align: top;\n",
       "    }\n",
       "\n",
       "    .dataframe thead th {\n",
       "        text-align: right;\n",
       "    }\n",
       "</style>\n",
       "<table border=\"1\" class=\"dataframe\">\n",
       "  <thead>\n",
       "    <tr style=\"text-align: right;\">\n",
       "      <th></th>\n",
       "      <th>Sex</th>\n",
       "      <th>Length</th>\n",
       "      <th>Diameter</th>\n",
       "      <th>Height</th>\n",
       "      <th>Weight</th>\n",
       "      <th>Shucked Weight</th>\n",
       "      <th>Viscera Weight</th>\n",
       "      <th>Shell Weight</th>\n",
       "      <th>Age</th>\n",
       "    </tr>\n",
       "  </thead>\n",
       "  <tbody>\n",
       "    <tr>\n",
       "      <th>0</th>\n",
       "      <td>F</td>\n",
       "      <td>1.4375</td>\n",
       "      <td>1.1750</td>\n",
       "      <td>0.4125</td>\n",
       "      <td>24.635715</td>\n",
       "      <td>12.332033</td>\n",
       "      <td>5.584852</td>\n",
       "      <td>6.747181</td>\n",
       "      <td>9</td>\n",
       "    </tr>\n",
       "    <tr>\n",
       "      <th>1</th>\n",
       "      <td>M</td>\n",
       "      <td>0.8875</td>\n",
       "      <td>0.6500</td>\n",
       "      <td>0.2125</td>\n",
       "      <td>5.400580</td>\n",
       "      <td>2.296310</td>\n",
       "      <td>1.374951</td>\n",
       "      <td>1.559222</td>\n",
       "      <td>6</td>\n",
       "    </tr>\n",
       "    <tr>\n",
       "      <th>2</th>\n",
       "      <td>I</td>\n",
       "      <td>1.0375</td>\n",
       "      <td>0.7750</td>\n",
       "      <td>0.2500</td>\n",
       "      <td>7.952035</td>\n",
       "      <td>3.231843</td>\n",
       "      <td>1.601747</td>\n",
       "      <td>2.764076</td>\n",
       "      <td>6</td>\n",
       "    </tr>\n",
       "    <tr>\n",
       "      <th>3</th>\n",
       "      <td>F</td>\n",
       "      <td>1.1750</td>\n",
       "      <td>0.8875</td>\n",
       "      <td>0.2500</td>\n",
       "      <td>13.480187</td>\n",
       "      <td>4.748541</td>\n",
       "      <td>2.282135</td>\n",
       "      <td>5.244657</td>\n",
       "      <td>10</td>\n",
       "    </tr>\n",
       "    <tr>\n",
       "      <th>4</th>\n",
       "      <td>I</td>\n",
       "      <td>0.8875</td>\n",
       "      <td>0.6625</td>\n",
       "      <td>0.2125</td>\n",
       "      <td>6.903103</td>\n",
       "      <td>3.458639</td>\n",
       "      <td>1.488349</td>\n",
       "      <td>1.700970</td>\n",
       "      <td>6</td>\n",
       "    </tr>\n",
       "  </tbody>\n",
       "</table>\n",
       "</div>"
      ],
      "text/plain": [
       "  Sex  Length  Diameter  Height     Weight  Shucked Weight  Viscera Weight  \\\n",
       "0   F  1.4375    1.1750  0.4125  24.635715       12.332033        5.584852   \n",
       "1   M  0.8875    0.6500  0.2125   5.400580        2.296310        1.374951   \n",
       "2   I  1.0375    0.7750  0.2500   7.952035        3.231843        1.601747   \n",
       "3   F  1.1750    0.8875  0.2500  13.480187        4.748541        2.282135   \n",
       "4   I  0.8875    0.6625  0.2125   6.903103        3.458639        1.488349   \n",
       "\n",
       "   Shell Weight  Age  \n",
       "0      6.747181    9  \n",
       "1      1.559222    6  \n",
       "2      2.764076    6  \n",
       "3      5.244657   10  \n",
       "4      1.700970    6  "
      ]
     },
     "execution_count": 452,
     "metadata": {},
     "output_type": "execute_result"
    }
   ],
   "source": [
    "data = pd.read_csv(\"crab.zip\", sep=\",\", compression=\"zip\")\n",
    "data.head()"
   ]
  },
  {
   "cell_type": "markdown",
   "id": "147166da-bb2c-43bb-a74a-c29841a81ce1",
   "metadata": {},
   "source": [
    "### Significato delle colonne\n",
    "Le feature presenti nel dataset sono: \n",
    "- `Sex`: genere del granchio. Possibili valori: Female, Male o Indeterminate\n",
    "- `Length`: Lunghezza del granchio (in piedi; 1 piede = 30,48 cm)\n",
    "- `Diameter`: Diametro del granchio (in piedi)\n",
    "- `Height`: Altezza del granchio (in piedi)\n",
    "- `Weight`: Peso del granchio (in once; 1 oncia = 28,35 g)\n",
    "- `Shucked Weight`: Peso senza guscio (in once)\n",
    "- `Viscera Weight`: è il peso che avvolge gli organi addominali nel profondo del corpo (in once)\n",
    "- `Shell Weight`: Peso della conchiglia (in once)\n",
    "- `Age`: Età del granchio (in mesi)\n",
    "\n",
    "La variabile che tenteremo di predirre è l'età del granchio."
   ]
  },
  {
   "cell_type": "code",
   "execution_count": 308,
   "id": "9685f000-4497-4f19-b39d-a810b76d6392",
   "metadata": {},
   "outputs": [
    {
     "name": "stdout",
     "output_type": "stream",
     "text": [
      "<class 'pandas.core.frame.DataFrame'>\n",
      "RangeIndex: 3893 entries, 0 to 3892\n",
      "Data columns (total 9 columns):\n",
      " #   Column          Non-Null Count  Dtype  \n",
      "---  ------          --------------  -----  \n",
      " 0   Sex             3893 non-null   object \n",
      " 1   Length          3893 non-null   float64\n",
      " 2   Diameter        3893 non-null   float64\n",
      " 3   Height          3893 non-null   float64\n",
      " 4   Weight          3893 non-null   float64\n",
      " 5   Shucked Weight  3893 non-null   float64\n",
      " 6   Viscera Weight  3893 non-null   float64\n",
      " 7   Shell Weight    3893 non-null   float64\n",
      " 8   Age             3893 non-null   int64  \n",
      "dtypes: float64(7), int64(1), object(1)\n",
      "memory usage: 273.9+ KB\n"
     ]
    }
   ],
   "source": [
    "data.info()"
   ]
  },
  {
   "cell_type": "markdown",
   "id": "ba4b5d24-5592-4661-b1e3-97e20ad63094",
   "metadata": {},
   "source": [
    "la colonna sex contiene solo i valori \"F\", \"M\" e \"I\" per questo motivo occupa troppo spazio come object ricarichiamo la colonna con tipo category per ottimizzare il consumo di memoria"
   ]
  },
  {
   "cell_type": "code",
   "execution_count": 453,
   "id": "1f8084a0-5851-4a29-8e88-9c5f7241dccd",
   "metadata": {},
   "outputs": [],
   "source": [
    "data = pd.read_csv(\"crab.zip\", sep=\",\", compression=\"zip\", dtype={\"Sex\":\"category\"})"
   ]
  },
  {
   "cell_type": "code",
   "execution_count": 454,
   "id": "474c53c4-3119-45e3-9a0f-04831e3ba13d",
   "metadata": {},
   "outputs": [
    {
     "name": "stdout",
     "output_type": "stream",
     "text": [
      "<class 'pandas.core.frame.DataFrame'>\n",
      "RangeIndex: 3893 entries, 0 to 3892\n",
      "Data columns (total 9 columns):\n",
      " #   Column          Non-Null Count  Dtype   \n",
      "---  ------          --------------  -----   \n",
      " 0   Sex             3893 non-null   category\n",
      " 1   Length          3893 non-null   float64 \n",
      " 2   Diameter        3893 non-null   float64 \n",
      " 3   Height          3893 non-null   float64 \n",
      " 4   Weight          3893 non-null   float64 \n",
      " 5   Shucked Weight  3893 non-null   float64 \n",
      " 6   Viscera Weight  3893 non-null   float64 \n",
      " 7   Shell Weight    3893 non-null   float64 \n",
      " 8   Age             3893 non-null   int64   \n",
      "dtypes: category(1), float64(7), int64(1)\n",
      "memory usage: 247.4 KB\n"
     ]
    }
   ],
   "source": [
    "data.info()"
   ]
  },
  {
   "cell_type": "markdown",
   "id": "16ff1bd1-cd7b-47e0-8383-b5ced92d0da4",
   "metadata": {},
   "source": [
    "anche se il dataset non è molto grande solo questa piccola correzione ha ridotto l'uso di memoria quasi del 10%"
   ]
  },
  {
   "cell_type": "markdown",
   "id": "89f49fd5-fd91-4923-b836-2a88ec0000e8",
   "metadata": {},
   "source": [
    "Creiamo due variabili per utilizzare le feature divise per tipo"
   ]
  },
  {
   "cell_type": "code",
   "execution_count": 455,
   "id": "83c077b7-b573-432e-98d8-c85146c25809",
   "metadata": {},
   "outputs": [],
   "source": [
    "numeric_vars = [\"Length\",\t\"Diameter\",\t\"Height\",\t\"Weight\",\t\"Shucked Weight\",\t\"Viscera Weight\",\t\"Shell Weight\"]\n",
    "categorical_vars = [\"Sex\"]"
   ]
  },
  {
   "cell_type": "markdown",
   "id": "3f47e757-f9e7-48cd-9418-8a1a1be83835",
   "metadata": {},
   "source": [
    "## Analisi generale dei dati"
   ]
  },
  {
   "cell_type": "markdown",
   "id": "40854e52-5e5c-4069-8419-3846844757d8",
   "metadata": {},
   "source": [
    "Visualizziamo alcune statistiche per comprendere le caratteristiche del dataset.o:"
   ]
  },
  {
   "cell_type": "markdown",
   "id": "55246fb6-3999-40d8-9a0c-8807d4e3f3f9",
   "metadata": {},
   "source": [
    "Vediamo come prima cosa quanto variano i dati in nostro possesso:"
   ]
  },
  {
   "cell_type": "code",
   "execution_count": 312,
   "id": "368c5309-2bf9-49e2-9d68-3160d08ee61e",
   "metadata": {},
   "outputs": [
    {
     "name": "stdout",
     "output_type": "stream",
     "text": [
      "Length: \t134\n",
      "Diameter: \t111\n",
      "Height: \t51\n",
      "Weight: \t2343\n",
      "Shucked Weight: \t1482\n",
      "Viscera Weight: \t867\n",
      "Shell Weight: \t907\n",
      "Age: \t28\n"
     ]
    }
   ],
   "source": [
    "for col in [x for x in data.columns if x != 'Sex']:\n",
    "    print(col + \": \\t\" + str(data[col].nunique()))"
   ]
  },
  {
   "cell_type": "markdown",
   "id": "f5dd93a1-ea36-49ec-b238-a733e9e52376",
   "metadata": {},
   "source": [
    "Eseguiamo un'analisi di base dei dati, in particolare visualizziamo la distribuzione dell'età dei granchi nel set. "
   ]
  },
  {
   "cell_type": "code",
   "execution_count": 314,
   "id": "cbdf890d-73c7-435a-aa10-566ad94d06b2",
   "metadata": {},
   "outputs": [
    {
     "data": {
      "text/plain": [
       "Age\n",
       "1       1\n",
       "2       1\n",
       "3      13\n",
       "4      53\n",
       "5     107\n",
       "6     241\n",
       "7     357\n",
       "8     520\n",
       "9     640\n",
       "10    598\n",
       "11    459\n",
       "12    248\n",
       "13    195\n",
       "14    122\n",
       "15     96\n",
       "16     62\n",
       "17     54\n",
       "18     38\n",
       "19     31\n",
       "20     23\n",
       "21     14\n",
       "22      6\n",
       "23      7\n",
       "24      2\n",
       "25      1\n",
       "26      1\n",
       "27      2\n",
       "29      1\n",
       "Name: count, dtype: int64"
      ]
     },
     "execution_count": 314,
     "metadata": {},
     "output_type": "execute_result"
    }
   ],
   "source": [
    "data[\"Age\"].value_counts().sort_index()"
   ]
  },
  {
   "cell_type": "code",
   "execution_count": 457,
   "id": "93ac0d9d-87dd-4fea-835c-bd449f671963",
   "metadata": {},
   "outputs": [
    {
     "data": {
      "text/plain": [
       "{'whiskers': [<matplotlib.lines.Line2D at 0x1b2b7d31dd0>,\n",
       "  <matplotlib.lines.Line2D at 0x1b2b7d32890>],\n",
       " 'caps': [<matplotlib.lines.Line2D at 0x1b2b7d332d0>,\n",
       "  <matplotlib.lines.Line2D at 0x1b2b7d33c10>],\n",
       " 'boxes': [<matplotlib.lines.Line2D at 0x1b2b7d316d0>],\n",
       " 'medians': [<matplotlib.lines.Line2D at 0x1b2b7d3c510>],\n",
       " 'fliers': [<matplotlib.lines.Line2D at 0x1b2b7d3d5d0>],\n",
       " 'means': [<matplotlib.lines.Line2D at 0x1b2b7d3cd50>]}"
      ]
     },
     "execution_count": 457,
     "metadata": {},
     "output_type": "execute_result"
    },
    {
     "data": {
      "image/png": "[encoded data removed]",
      "text/plain": [
       "<Figure size 640x480 with 1 Axes>"
      ]
     },
     "metadata": {},
     "output_type": "display_data"
    }
   ],
   "source": [
    "plt.subplot(3,3,i,title=\"Age\").boxplot(data[\"Age\"],showmeans=True)"
   ]
  },
  {
   "cell_type": "markdown",
   "id": "5f294783-21d7-4494-9466-d0ffa740b46a",
   "metadata": {},
   "source": [
    "la distribuzione dei non è omogenea soprattutto per granchi sotto i 3 mesi e sopra i 23 mesi i dati sono pochi. Questo mostra un età media di vita dei granchi compresa tra i 5 e 15 anno.\n",
    "Andiamo ora ad analizzare  nel dettaglio la distribuzione delle altre feature."
   ]
  },
  {
   "cell_type": "code",
   "execution_count": 456,
   "id": "f4337eae-882d-4b60-8c9b-bded67b16a5e",
   "metadata": {},
   "outputs": [
    {
     "data": {
      "text/html": [
       "<div>\n",
       "<style scoped>\n",
       "    .dataframe tbody tr th:only-of-type {\n",
       "        vertical-align: middle;\n",
       "    }\n",
       "\n",
       "    .dataframe tbody tr th {\n",
       "        vertical-align: top;\n",
       "    }\n",
       "\n",
       "    .dataframe thead th {\n",
       "        text-align: right;\n",
       "    }\n",
       "</style>\n",
       "<table border=\"1\" class=\"dataframe\">\n",
       "  <thead>\n",
       "    <tr style=\"text-align: right;\">\n",
       "      <th></th>\n",
       "      <th>Length</th>\n",
       "      <th>Diameter</th>\n",
       "      <th>Height</th>\n",
       "      <th>Weight</th>\n",
       "      <th>Shucked Weight</th>\n",
       "      <th>Viscera Weight</th>\n",
       "      <th>Shell Weight</th>\n",
       "      <th>Age</th>\n",
       "    </tr>\n",
       "  </thead>\n",
       "  <tbody>\n",
       "    <tr>\n",
       "      <th>count</th>\n",
       "      <td>3893.000000</td>\n",
       "      <td>3893.000000</td>\n",
       "      <td>3893.000000</td>\n",
       "      <td>3893.000000</td>\n",
       "      <td>3893.000000</td>\n",
       "      <td>3893.000000</td>\n",
       "      <td>3893.000000</td>\n",
       "      <td>3893.000000</td>\n",
       "    </tr>\n",
       "    <tr>\n",
       "      <th>mean</th>\n",
       "      <td>1.311306</td>\n",
       "      <td>1.020893</td>\n",
       "      <td>0.349374</td>\n",
       "      <td>23.567275</td>\n",
       "      <td>10.207342</td>\n",
       "      <td>5.136546</td>\n",
       "      <td>6.795844</td>\n",
       "      <td>9.954791</td>\n",
       "    </tr>\n",
       "    <tr>\n",
       "      <th>std</th>\n",
       "      <td>0.300431</td>\n",
       "      <td>0.248233</td>\n",
       "      <td>0.104976</td>\n",
       "      <td>13.891201</td>\n",
       "      <td>6.275275</td>\n",
       "      <td>3.104133</td>\n",
       "      <td>3.943392</td>\n",
       "      <td>3.220967</td>\n",
       "    </tr>\n",
       "    <tr>\n",
       "      <th>min</th>\n",
       "      <td>0.187500</td>\n",
       "      <td>0.137500</td>\n",
       "      <td>0.000000</td>\n",
       "      <td>0.056699</td>\n",
       "      <td>0.028349</td>\n",
       "      <td>0.014175</td>\n",
       "      <td>0.042524</td>\n",
       "      <td>1.000000</td>\n",
       "    </tr>\n",
       "    <tr>\n",
       "      <th>25%</th>\n",
       "      <td>1.125000</td>\n",
       "      <td>0.875000</td>\n",
       "      <td>0.287500</td>\n",
       "      <td>12.672227</td>\n",
       "      <td>5.343881</td>\n",
       "      <td>2.664853</td>\n",
       "      <td>3.713785</td>\n",
       "      <td>8.000000</td>\n",
       "    </tr>\n",
       "    <tr>\n",
       "      <th>50%</th>\n",
       "      <td>1.362500</td>\n",
       "      <td>1.062500</td>\n",
       "      <td>0.362500</td>\n",
       "      <td>22.792998</td>\n",
       "      <td>9.539607</td>\n",
       "      <td>4.861939</td>\n",
       "      <td>6.662133</td>\n",
       "      <td>10.000000</td>\n",
       "    </tr>\n",
       "    <tr>\n",
       "      <th>75%</th>\n",
       "      <td>1.537500</td>\n",
       "      <td>1.200000</td>\n",
       "      <td>0.412500</td>\n",
       "      <td>32.786197</td>\n",
       "      <td>14.273973</td>\n",
       "      <td>7.200773</td>\n",
       "      <td>9.355335</td>\n",
       "      <td>11.000000</td>\n",
       "    </tr>\n",
       "    <tr>\n",
       "      <th>max</th>\n",
       "      <td>2.037500</td>\n",
       "      <td>1.625000</td>\n",
       "      <td>2.825000</td>\n",
       "      <td>80.101512</td>\n",
       "      <td>42.184056</td>\n",
       "      <td>21.545620</td>\n",
       "      <td>28.491248</td>\n",
       "      <td>29.000000</td>\n",
       "    </tr>\n",
       "  </tbody>\n",
       "</table>\n",
       "</div>"
      ],
      "text/plain": [
       "            Length     Diameter       Height       Weight  Shucked Weight  \\\n",
       "count  3893.000000  3893.000000  3893.000000  3893.000000     3893.000000   \n",
       "mean      1.311306     1.020893     0.349374    23.567275       10.207342   \n",
       "std       0.300431     0.248233     0.104976    13.891201        6.275275   \n",
       "min       0.187500     0.137500     0.000000     0.056699        0.028349   \n",
       "25%       1.125000     0.875000     0.287500    12.672227        5.343881   \n",
       "50%       1.362500     1.062500     0.362500    22.792998        9.539607   \n",
       "75%       1.537500     1.200000     0.412500    32.786197       14.273973   \n",
       "max       2.037500     1.625000     2.825000    80.101512       42.184056   \n",
       "\n",
       "       Viscera Weight  Shell Weight          Age  \n",
       "count     3893.000000   3893.000000  3893.000000  \n",
       "mean         5.136546      6.795844     9.954791  \n",
       "std          3.104133      3.943392     3.220967  \n",
       "min          0.014175      0.042524     1.000000  \n",
       "25%          2.664853      3.713785     8.000000  \n",
       "50%          4.861939      6.662133    10.000000  \n",
       "75%          7.200773      9.355335    11.000000  \n",
       "max         21.545620     28.491248    29.000000  "
      ]
     },
     "execution_count": 456,
     "metadata": {},
     "output_type": "execute_result"
    }
   ],
   "source": [
    "data.describe()"
   ]
  },
  {
   "cell_type": "code",
   "execution_count": 316,
   "id": "6d487dd0-abc7-4a38-94df-31a64724c576",
   "metadata": {},
   "outputs": [
    {
     "data": {
      "image/png": "[encoded data removed]",
      "text/plain": [
       "<Figure size 2000x1200 with 7 Axes>"
      ]
     },
     "metadata": {},
     "output_type": "display_data"
    }
   ],
   "source": [
    "plt.figure(figsize=(20, 12))\n",
    "for i, col in enumerate(float_vars,start=1):\n",
    "    plt.subplot(3,3,i,title=col).boxplot(data[col],showmeans=True);"
   ]
  },
  {
   "cell_type": "markdown",
   "id": "45120a60-1dfc-4527-bc05-c0767ed39e97",
   "metadata": {},
   "source": [
    "Dai grafici si nota che per tutte le feature sono presenti dati molto distanti dalla mediana"
   ]
  },
  {
   "cell_type": "markdown",
   "id": "e605775e-b3f5-47f2-b42e-83cf6d5b19c6",
   "metadata": {
    "id": "_hlTCw9xDDw7"
   },
   "source": [
    "### correlazione tra i dati\n",
    "Si procede a verificare come i dati numerici siano legati all'età dei granchi"
   ]
  },
  {
   "cell_type": "code",
   "execution_count": 317,
   "id": "5956ca18-a1d5-4c46-b1ee-e8bf0e6f4972",
   "metadata": {
    "colab": {
     "base_uri": "https://localhost:8080/",
     "height": 487
    },
    "id": "GEx7Li2vM3OH",
    "outputId": "53b1fab1-367b-4fc6-b8c8-61ede9f1cd53"
   },
   "outputs": [
    {
     "data": {
      "image/png": "[encoded data removed]",
      "text/plain": [
       "<Figure size 1500x500 with 7 Axes>"
      ]
     },
     "metadata": {},
     "output_type": "display_data"
    }
   ],
   "source": [
    "def age_on_numerical_subplot(data,x, y, columns, xlabels):\n",
    "    n = len(columns)\n",
    "    plt.figure(figsize=(15,5))\n",
    "    for i in range(0,n):\n",
    "      plt.subplot(x, y, i+1)\n",
    "      plt.scatter(data[columns[i]], data[\"Age\"] )\n",
    "      plt.xlabel(xlabels[i])\n",
    "      plt.ylabel(\"Age\")\n",
    "\n",
    "age_on_numerical_subplot(data, 1, len(float_vars),\n",
    "                          float_vars,\n",
    "                          float_vars)"
   ]
  },
  {
   "cell_type": "markdown",
   "id": "381f189a-a26f-47a7-b2ba-6622e15ddd7f",
   "metadata": {},
   "source": [
    "come ci si aspetta al crescere delle dimensioni cresce l'età del granchio **ma questo accade con una certa regolarità fino al 10 mese**, alcuni valori successivamente **decrescono**. Inoltre vediamo per soprattutto per 'Height' ci sono dei valori che si discostano completamente da quelli in una crescita regolare andremo quindi ad eliminarli."
   ]
  },
  {
   "cell_type": "markdown",
   "id": "13faf45f-b71e-42b4-8e1a-bf8176f15cde",
   "metadata": {
    "id": "FWDW4j7sDMur"
   },
   "source": [
    "### dati nominali\n",
    "Si procede con l'analisi dei dati di tipo nominale"
   ]
  },
  {
   "cell_type": "code",
   "execution_count": 458,
   "id": "fa66fc36-8be3-465f-82fa-f1e5ae44a6a2",
   "metadata": {},
   "outputs": [
    {
     "data": {
      "text/plain": [
       "Sex\n",
       "F    1225\n",
       "I    1233\n",
       "M    1435\n",
       "Name: count, dtype: int64"
      ]
     },
     "execution_count": 458,
     "metadata": {},
     "output_type": "execute_result"
    }
   ],
   "source": [
    "data[\"Sex\"].value_counts().sort_index()"
   ]
  },
  {
   "cell_type": "markdown",
   "id": "952658b9-f8f6-4f83-9b85-c7af5faec30a",
   "metadata": {},
   "source": [
    "Sono presenti quasi un terzo di granchi senza il sesso determinato questo rende più difficile la predizione"
   ]
  },
  {
   "cell_type": "markdown",
   "id": "c296a82f-f1a7-4d94-b750-688b120f7415",
   "metadata": {
    "id": "2SNipH8e5XZs"
   },
   "source": [
    "# Preprocessamento\n",
    "Eliminiamo i valori estremi  di height\n",
    "\n"
   ]
  },
  {
   "cell_type": "code",
   "execution_count": 459,
   "id": "902117ea-8b4a-44f3-8a24-f6696f7e3357",
   "metadata": {},
   "outputs": [
    {
     "data": {
      "text/plain": [
       "2"
      ]
     },
     "execution_count": 459,
     "metadata": {},
     "output_type": "execute_result"
    }
   ],
   "source": [
    "(data[\"Height\"] > 0.7).sum()"
   ]
  },
  {
   "cell_type": "code",
   "execution_count": 460,
   "id": "47bad2f4-6663-44a7-8a83-053235a4c303",
   "metadata": {},
   "outputs": [],
   "source": [
    "data_r1 = data[data[\"Height\"] <= 0.7]"
   ]
  },
  {
   "cell_type": "code",
   "execution_count": 461,
   "id": "552a9ba7-ca80-4142-84cd-b743997768ac",
   "metadata": {},
   "outputs": [
    {
     "data": {
      "image/png": "[encoded data removed]",
      "text/plain": [
       "<Figure size 1500x500 with 7 Axes>"
      ]
     },
     "metadata": {},
     "output_type": "display_data"
    }
   ],
   "source": [
    "age_on_numerical_subplot(data_r1, 1, len(float_vars),\n",
    "                          float_vars,\n",
    "                          float_vars)"
   ]
  },
  {
   "cell_type": "code",
   "execution_count": 348,
   "id": "f7de6d83-4803-4118-8983-c69db7164c22",
   "metadata": {
    "scrolled": true
   },
   "outputs": [
    {
     "data": {
      "text/plain": [
       "(3891, 9)"
      ]
     },
     "execution_count": 348,
     "metadata": {},
     "output_type": "execute_result"
    }
   ],
   "source": [
    "data_r1.shape"
   ]
  },
  {
   "cell_type": "markdown",
   "id": "9ed917f8-aee8-44c9-8937-ccfe958df72b",
   "metadata": {},
   "source": [
    "Gestione variabile 'Sex'"
   ]
  },
  {
   "cell_type": "code",
   "execution_count": 349,
   "id": "aa6ef5f6-177e-44af-8ebf-1b6eb6927a69",
   "metadata": {},
   "outputs": [
    {
     "data": {
      "text/plain": [
       "['F', 'M', 'I']\n",
       "Categories (3, object): ['F', 'I', 'M']"
      ]
     },
     "execution_count": 349,
     "metadata": {},
     "output_type": "execute_result"
    }
   ],
   "source": [
    "data[\"Sex\"].unique()"
   ]
  },
  {
   "cell_type": "markdown",
   "id": "3907a4d1-ddd7-4d29-a2ad-571e39085bac",
   "metadata": {},
   "source": [
    "La variabile categoriaca \"Sex\" la convertiamo in formato numerico con codifica binaria \"One-Hot\""
   ]
  },
  {
   "cell_type": "code",
   "execution_count": 462,
   "id": "1e07ff31-2cca-4df2-8708-05ecd8009538",
   "metadata": {},
   "outputs": [],
   "source": [
    "from sklearn.preprocessing import OneHotEncoder"
   ]
  },
  {
   "cell_type": "code",
   "execution_count": 463,
   "id": "df044c57-554e-4112-bb43-2615d97a95f9",
   "metadata": {},
   "outputs": [],
   "source": [
    "encoder = OneHotEncoder(drop=\"first\", sparse_output=False)\n",
    "encorder_r = pd.DataFrame(\n",
    "   encoder.fit_transform(data_r1[[\"Sex\"]]),\n",
    "   columns=encoder.get_feature_names_out([\"Sex\"])\n",
    ")"
   ]
  },
  {
   "cell_type": "code",
   "execution_count": 464,
   "id": "655fe4e7-8785-40e9-a786-e16bd7ca85c3",
   "metadata": {},
   "outputs": [],
   "source": [
    "data_r2 = pd.concat([data_r1.drop(columns=[\"Sex\"]), encorder_r], axis=1)"
   ]
  },
  {
   "cell_type": "code",
   "execution_count": 465,
   "id": "36b28004-d701-4556-9d6f-0ac53559d993",
   "metadata": {},
   "outputs": [
    {
     "data": {
      "text/html": [
       "<div>\n",
       "<style scoped>\n",
       "    .dataframe tbody tr th:only-of-type {\n",
       "        vertical-align: middle;\n",
       "    }\n",
       "\n",
       "    .dataframe tbody tr th {\n",
       "        vertical-align: top;\n",
       "    }\n",
       "\n",
       "    .dataframe thead th {\n",
       "        text-align: right;\n",
       "    }\n",
       "</style>\n",
       "<table border=\"1\" class=\"dataframe\">\n",
       "  <thead>\n",
       "    <tr style=\"text-align: right;\">\n",
       "      <th></th>\n",
       "      <th>Length</th>\n",
       "      <th>Diameter</th>\n",
       "      <th>Height</th>\n",
       "      <th>Weight</th>\n",
       "      <th>Shucked Weight</th>\n",
       "      <th>Viscera Weight</th>\n",
       "      <th>Shell Weight</th>\n",
       "      <th>Age</th>\n",
       "      <th>Sex_I</th>\n",
       "      <th>Sex_M</th>\n",
       "    </tr>\n",
       "  </thead>\n",
       "  <tbody>\n",
       "    <tr>\n",
       "      <th>3891</th>\n",
       "      <td>1.0625</td>\n",
       "      <td>0.7750</td>\n",
       "      <td>0.2625</td>\n",
       "      <td>10.347568</td>\n",
       "      <td>4.507570</td>\n",
       "      <td>2.338834</td>\n",
       "      <td>2.976698</td>\n",
       "      <td>6.0</td>\n",
       "      <td>NaN</td>\n",
       "      <td>NaN</td>\n",
       "    </tr>\n",
       "    <tr>\n",
       "      <th>3892</th>\n",
       "      <td>0.7875</td>\n",
       "      <td>0.6125</td>\n",
       "      <td>0.2125</td>\n",
       "      <td>4.068153</td>\n",
       "      <td>1.502523</td>\n",
       "      <td>1.346601</td>\n",
       "      <td>1.417475</td>\n",
       "      <td>8.0</td>\n",
       "      <td>NaN</td>\n",
       "      <td>NaN</td>\n",
       "    </tr>\n",
       "    <tr>\n",
       "      <th>748</th>\n",
       "      <td>NaN</td>\n",
       "      <td>NaN</td>\n",
       "      <td>NaN</td>\n",
       "      <td>NaN</td>\n",
       "      <td>NaN</td>\n",
       "      <td>NaN</td>\n",
       "      <td>NaN</td>\n",
       "      <td>NaN</td>\n",
       "      <td>1.0</td>\n",
       "      <td>0.0</td>\n",
       "    </tr>\n",
       "    <tr>\n",
       "      <th>2256</th>\n",
       "      <td>NaN</td>\n",
       "      <td>NaN</td>\n",
       "      <td>NaN</td>\n",
       "      <td>NaN</td>\n",
       "      <td>NaN</td>\n",
       "      <td>NaN</td>\n",
       "      <td>NaN</td>\n",
       "      <td>NaN</td>\n",
       "      <td>1.0</td>\n",
       "      <td>0.0</td>\n",
       "    </tr>\n",
       "  </tbody>\n",
       "</table>\n",
       "</div>"
      ],
      "text/plain": [
       "      Length  Diameter  Height     Weight  Shucked Weight  Viscera Weight  \\\n",
       "3891  1.0625    0.7750  0.2625  10.347568        4.507570        2.338834   \n",
       "3892  0.7875    0.6125  0.2125   4.068153        1.502523        1.346601   \n",
       "748      NaN       NaN     NaN        NaN             NaN             NaN   \n",
       "2256     NaN       NaN     NaN        NaN             NaN             NaN   \n",
       "\n",
       "      Shell Weight  Age  Sex_I  Sex_M  \n",
       "3891      2.976698  6.0    NaN    NaN  \n",
       "3892      1.417475  8.0    NaN    NaN  \n",
       "748            NaN  NaN    1.0    0.0  \n",
       "2256           NaN  NaN    1.0    0.0  "
      ]
     },
     "execution_count": 465,
     "metadata": {},
     "output_type": "execute_result"
    }
   ],
   "source": [
    "data_r2[data_r2.isna().any(axis=1)]"
   ]
  },
  {
   "cell_type": "code",
   "execution_count": 466,
   "id": "4c7d2eca-785e-4b28-b9bd-f5b990d78244",
   "metadata": {},
   "outputs": [],
   "source": [
    "data_r2.dropna(inplace=True)"
   ]
  },
  {
   "cell_type": "code",
   "execution_count": 378,
   "id": "0f7d0fba-8032-4396-852a-92a0f08e6b26",
   "metadata": {},
   "outputs": [
    {
     "data": {
      "text/html": [
       "<div>\n",
       "<style scoped>\n",
       "    .dataframe tbody tr th:only-of-type {\n",
       "        vertical-align: middle;\n",
       "    }\n",
       "\n",
       "    .dataframe tbody tr th {\n",
       "        vertical-align: top;\n",
       "    }\n",
       "\n",
       "    .dataframe thead th {\n",
       "        text-align: right;\n",
       "    }\n",
       "</style>\n",
       "<table border=\"1\" class=\"dataframe\">\n",
       "  <thead>\n",
       "    <tr style=\"text-align: right;\">\n",
       "      <th></th>\n",
       "      <th>Sex_F</th>\n",
       "      <th>Sex_I</th>\n",
       "      <th>Sex_M</th>\n",
       "    </tr>\n",
       "  </thead>\n",
       "  <tbody>\n",
       "    <tr>\n",
       "      <th>0</th>\n",
       "      <td>1.0</td>\n",
       "      <td>0.0</td>\n",
       "      <td>0.0</td>\n",
       "    </tr>\n",
       "    <tr>\n",
       "      <th>1</th>\n",
       "      <td>0.0</td>\n",
       "      <td>0.0</td>\n",
       "      <td>1.0</td>\n",
       "    </tr>\n",
       "    <tr>\n",
       "      <th>2</th>\n",
       "      <td>0.0</td>\n",
       "      <td>1.0</td>\n",
       "      <td>0.0</td>\n",
       "    </tr>\n",
       "    <tr>\n",
       "      <th>3</th>\n",
       "      <td>1.0</td>\n",
       "      <td>0.0</td>\n",
       "      <td>0.0</td>\n",
       "    </tr>\n",
       "    <tr>\n",
       "      <th>4</th>\n",
       "      <td>0.0</td>\n",
       "      <td>1.0</td>\n",
       "      <td>0.0</td>\n",
       "    </tr>\n",
       "  </tbody>\n",
       "</table>\n",
       "</div>"
      ],
      "text/plain": [
       "   Sex_F  Sex_I  Sex_M\n",
       "0    1.0    0.0    0.0\n",
       "1    0.0    0.0    1.0\n",
       "2    0.0    1.0    0.0\n",
       "3    1.0    0.0    0.0\n",
       "4    0.0    1.0    0.0"
      ]
     },
     "execution_count": 378,
     "metadata": {},
     "output_type": "execute_result"
    }
   ],
   "source": [
    "data_r2.filter(like=\"Sex\").head()"
   ]
  },
  {
   "cell_type": "markdown",
   "id": "933d281b-cc32-4c20-9b68-a655a29c2570",
   "metadata": {},
   "source": [
    "questa soluzione elimina una colonna ed esegue una correlazione migliore"
   ]
  },
  {
   "cell_type": "markdown",
   "id": "5b5c6db3-fc6d-4baa-85b2-d05a0f258d7e",
   "metadata": {},
   "source": [
    "avevo anche provato a togliere completamente la variabile sex, oppure a togliere i casi con valore I ma peggioro la predizione..."
   ]
  },
  {
   "cell_type": "code",
   "execution_count": 467,
   "id": "9ceec5b7-8f23-4ee0-a226-434fa2ec87a7",
   "metadata": {},
   "outputs": [],
   "source": [
    "#data_r2 = data_r1.drop(columns=\"Sex\")"
   ]
  },
  {
   "cell_type": "code",
   "execution_count": 468,
   "id": "561d96de-db8e-48b3-88a7-842e90eb008c",
   "metadata": {},
   "outputs": [],
   "source": [
    "#data_r3 = data_r3.drop(columns=\"Sex_I\")"
   ]
  },
  {
   "cell_type": "markdown",
   "id": "4e969797-5734-476e-a52a-647d41694435",
   "metadata": {},
   "source": []
  },
  {
   "cell_type": "markdown",
   "id": "0231ac96-6238-4cc1-bc0f-55a09b4f8898",
   "metadata": {
    "id": "EEoQowYMkkRn"
   },
   "source": [
    "si procede ad isolare la colonna Age e a dividere i dati in training e validation set con il metodo **hold-out**."
   ]
  },
  {
   "cell_type": "code",
   "execution_count": 469,
   "id": "56dea3c6-4009-4228-8a26-d0b7fdff1a49",
   "metadata": {
    "id": "SMd7p6XQlg_v"
   },
   "outputs": [],
   "source": [
    "from sklearn.model_selection import train_test_split\n",
    "x = data_r2.drop(columns=\"Age\")\n",
    "y = data_r2[\"Age\"]\n",
    "\n",
    "x_train, x_val, y_train, y_val = train_test_split(x, y, test_size=_TEST_SIZE, random_state=_RANDOM_STATE)"
   ]
  },
  {
   "cell_type": "markdown",
   "id": "4041e449-117a-41bd-80f0-f1064d5234fe",
   "metadata": {
    "slideshow": {
     "slide_type": "slide"
    }
   },
   "source": [
    "## Analisi coefficienti modelli\n",
    "\n",
    "\n",
    " \n",
    "uso la funzione print_eval vista a lezione per calcolare e stampare le metriche d'errore:\n",
    "  - l'_errore quadratico medio_, usato nella discesa del gradiente ma più difficilmente interpretabile\n",
    "  - l'_errore relativo_, che indica intuitivamente la percentuale di errore del modello\n",
    "  - il _coefficiente R²_, che esprime l'accuratezza con un indice tra 0 e 1"
   ]
  },
  {
   "cell_type": "code",
   "execution_count": 470,
   "id": "7464a02e-9d75-40da-b8bc-74b456dc014f",
   "metadata": {},
   "outputs": [],
   "source": [
    "# MSE e R^2 sono incluse in scikit-learn\n",
    "from sklearn.metrics import mean_squared_error, r2_score\n",
    "\n",
    "# definisco l'errore relativo\n",
    "def relative_error(y_true, y_pred):\n",
    "    return np.mean(np.abs((y_true - y_pred) / y_true))\n",
    "\n",
    "def print_eval(X, y, model):\n",
    "    preds = model.predict(X)\n",
    "    mse = mean_squared_error(y, preds)\n",
    "    re = relative_error(y, preds)\n",
    "    r2 = r2_score(y, preds)\n",
    "    print(f\"   Mean squared error: {mse:.5}\")\n",
    "    print(f\"       Relative error: {re:.5%}\")\n",
    "    print(f\"R-squared coefficient: {r2:.5}\")"
   ]
  },
  {
   "cell_type": "markdown",
   "id": "2df11f27-a613-4800-9432-ad321827adeb",
   "metadata": {},
   "source": [
    "## Modelli\n",
    "eseguo qualche prima prova esporativa per verificare i coefficienti"
   ]
  },
  {
   "cell_type": "code",
   "execution_count": 471,
   "id": "9431be8a-e794-48d9-821a-0db38a24733b",
   "metadata": {},
   "outputs": [
    {
     "name": "stdout",
     "output_type": "stream",
     "text": [
      "   Mean squared error: 4.927\n",
      "       Relative error: 16.33907%\n",
      "R-squared coefficient: 0.53167\n"
     ]
    }
   ],
   "source": [
    "model_a = LinearRegression()\n",
    "model_a.fit(x_train, y_train)\n",
    "print_eval(x_val, y_val, model_a)"
   ]
  },
  {
   "cell_type": "code",
   "execution_count": 472,
   "id": "03575040-a521-4bb6-8c4b-662efb552c9d",
   "metadata": {},
   "outputs": [
    {
     "name": "stdout",
     "output_type": "stream",
     "text": [
      "   Mean squared error: 4.8955\n",
      "       Relative error: 16.29923%\n",
      "R-squared coefficient: 0.53466\n"
     ]
    }
   ],
   "source": [
    "model_b = Ridge(alpha=1)\n",
    "model_b.fit(x_train, y_train)\n",
    "print_eval(x_val, y_val, model_b)"
   ]
  },
  {
   "cell_type": "code",
   "execution_count": 473,
   "id": "4df5e113-a73f-4e47-bf87-d09e91282467",
   "metadata": {},
   "outputs": [
    {
     "name": "stdout",
     "output_type": "stream",
     "text": [
      "   Mean squared error: 4.927\n",
      "       Relative error: 16.33907%\n",
      "R-squared coefficient: 0.53167\n"
     ]
    }
   ],
   "source": [
    "model_c = Pipeline([\n",
    "    (\"scale\", StandardScaler()),\n",
    "    (\"lr\", LinearRegression())\n",
    "])\n",
    "model_c.fit(x_train, y_train)\n",
    "print_eval(x_val, y_val, model_c)"
   ]
  },
  {
   "cell_type": "markdown",
   "id": "7dadc84e-2056-4fd3-b034-9122e40d4a17",
   "metadata": {},
   "source": [
    "- Visualizziamo ora in un unico frame i coefficienti di tutti e tre i modelli (una riga per variabile, una colonna per modello)"
   ]
  },
  {
   "cell_type": "code",
   "execution_count": 474,
   "id": "8f10ff11-7aba-442a-a733-4d5d68f67cf7",
   "metadata": {},
   "outputs": [
    {
     "data": {
      "text/html": [
       "<div>\n",
       "<style scoped>\n",
       "    .dataframe tbody tr th:only-of-type {\n",
       "        vertical-align: middle;\n",
       "    }\n",
       "\n",
       "    .dataframe tbody tr th {\n",
       "        vertical-align: top;\n",
       "    }\n",
       "\n",
       "    .dataframe thead th {\n",
       "        text-align: right;\n",
       "    }\n",
       "</style>\n",
       "<table border=\"1\" class=\"dataframe\">\n",
       "  <thead>\n",
       "    <tr style=\"text-align: right;\">\n",
       "      <th></th>\n",
       "      <th>linear</th>\n",
       "      <th>ridge</th>\n",
       "      <th>scaled</th>\n",
       "    </tr>\n",
       "  </thead>\n",
       "  <tbody>\n",
       "    <tr>\n",
       "      <th>Length</th>\n",
       "      <td>-2.453993</td>\n",
       "      <td>-1.066254</td>\n",
       "      <td>-0.735177</td>\n",
       "    </tr>\n",
       "    <tr>\n",
       "      <th>Diameter</th>\n",
       "      <td>6.686780</td>\n",
       "      <td>5.360665</td>\n",
       "      <td>1.659033</td>\n",
       "    </tr>\n",
       "    <tr>\n",
       "      <th>Height</th>\n",
       "      <td>10.740262</td>\n",
       "      <td>8.545452</td>\n",
       "      <td>1.030427</td>\n",
       "    </tr>\n",
       "    <tr>\n",
       "      <th>Weight</th>\n",
       "      <td>0.308993</td>\n",
       "      <td>0.313200</td>\n",
       "      <td>4.285137</td>\n",
       "    </tr>\n",
       "    <tr>\n",
       "      <th>Shucked Weight</th>\n",
       "      <td>-0.677507</td>\n",
       "      <td>-0.686441</td>\n",
       "      <td>-4.237281</td>\n",
       "    </tr>\n",
       "    <tr>\n",
       "      <th>Viscera Weight</th>\n",
       "      <td>-0.396296</td>\n",
       "      <td>-0.389767</td>\n",
       "      <td>-1.231280</td>\n",
       "    </tr>\n",
       "    <tr>\n",
       "      <th>Shell Weight</th>\n",
       "      <td>0.255986</td>\n",
       "      <td>0.278090</td>\n",
       "      <td>1.006553</td>\n",
       "    </tr>\n",
       "    <tr>\n",
       "      <th>Sex_I</th>\n",
       "      <td>-0.043638</td>\n",
       "      <td>-0.048540</td>\n",
       "      <td>-0.020373</td>\n",
       "    </tr>\n",
       "    <tr>\n",
       "      <th>Sex_M</th>\n",
       "      <td>-0.035413</td>\n",
       "      <td>-0.037612</td>\n",
       "      <td>-0.017049</td>\n",
       "    </tr>\n",
       "  </tbody>\n",
       "</table>\n",
       "</div>"
      ],
      "text/plain": [
       "                   linear     ridge    scaled\n",
       "Length          -2.453993 -1.066254 -0.735177\n",
       "Diameter         6.686780  5.360665  1.659033\n",
       "Height          10.740262  8.545452  1.030427\n",
       "Weight           0.308993  0.313200  4.285137\n",
       "Shucked Weight  -0.677507 -0.686441 -4.237281\n",
       "Viscera Weight  -0.396296 -0.389767 -1.231280\n",
       "Shell Weight     0.255986  0.278090  1.006553\n",
       "Sex_I           -0.043638 -0.048540 -0.020373\n",
       "Sex_M           -0.035413 -0.037612 -0.017049"
      ]
     },
     "execution_count": 474,
     "metadata": {},
     "output_type": "execute_result"
    }
   ],
   "source": [
    "pd.DataFrame({\n",
    "    \"linear\": model_a.coef_,\n",
    "    \"ridge\": model_b.coef_,\n",
    "    \"scaled\": model_c.named_steps[\"lr\"].coef_\n",
    "}, index=x.columns)"
   ]
  },
  {
   "cell_type": "markdown",
   "id": "c54a3837-f5bb-4806-a1ec-1362a6cbab1b",
   "metadata": {},
   "source": [
    "da una prima analisi vediamo che il peso del granchio e il peso del granchio senza guscio determinano notevolmento il risultato finale.\n",
    "Usiamo quindi la Regressione Lasso usando la regolarizzazione L1 dove le variabili meno importanti vengono ridotte a zero per filtrare le variabili poco utili e quelle rindondanti"
   ]
  },
  {
   "cell_type": "code",
   "execution_count": 475,
   "id": "dc2b2a89-d88d-4971-a922-3455a0679926",
   "metadata": {},
   "outputs": [
    {
     "data": {
      "text/html": [
       "<style>#sk-container-id-14 {color: black;background-color: white;}#sk-container-id-14 pre{padding: 0;}#sk-container-id-14 div.sk-toggleable {background-color: white;}#sk-container-id-14 label.sk-toggleable__label {cursor: pointer;display: block;width: 100%;margin-bottom: 0;padding: 0.3em;box-sizing: border-box;text-align: center;}#sk-container-id-14 label.sk-toggleable__label-arrow:before {content: \"▸\";float: left;margin-right: 0.25em;color: #696969;}#sk-container-id-14 label.sk-toggleable__label-arrow:hover:before {color: black;}#sk-container-id-14 div.sk-estimator:hover label.sk-toggleable__label-arrow:before {color: black;}#sk-container-id-14 div.sk-toggleable__content {max-height: 0;max-width: 0;overflow: hidden;text-align: left;background-color: #f0f8ff;}#sk-container-id-14 div.sk-toggleable__content pre {margin: 0.2em;color: black;border-radius: 0.25em;background-color: #f0f8ff;}#sk-container-id-14 input.sk-toggleable__control:checked~div.sk-toggleable__content {max-height: 200px;max-width: 100%;overflow: auto;}#sk-container-id-14 input.sk-toggleable__control:checked~label.sk-toggleable__label-arrow:before {content: \"▾\";}#sk-container-id-14 div.sk-estimator input.sk-toggleable__control:checked~label.sk-toggleable__label {background-color: #d4ebff;}#sk-container-id-14 div.sk-label input.sk-toggleable__control:checked~label.sk-toggleable__label {background-color: #d4ebff;}#sk-container-id-14 input.sk-hidden--visually {border: 0;clip: rect(1px 1px 1px 1px);clip: rect(1px, 1px, 1px, 1px);height: 1px;margin: -1px;overflow: hidden;padding: 0;position: absolute;width: 1px;}#sk-container-id-14 div.sk-estimator {font-family: monospace;background-color: #f0f8ff;border: 1px dotted black;border-radius: 0.25em;box-sizing: border-box;margin-bottom: 0.5em;}#sk-container-id-14 div.sk-estimator:hover {background-color: #d4ebff;}#sk-container-id-14 div.sk-parallel-item::after {content: \"\";width: 100%;border-bottom: 1px solid gray;flex-grow: 1;}#sk-container-id-14 div.sk-label:hover label.sk-toggleable__label {background-color: #d4ebff;}#sk-container-id-14 div.sk-serial::before {content: \"\";position: absolute;border-left: 1px solid gray;box-sizing: border-box;top: 0;bottom: 0;left: 50%;z-index: 0;}#sk-container-id-14 div.sk-serial {display: flex;flex-direction: column;align-items: center;background-color: white;padding-right: 0.2em;padding-left: 0.2em;position: relative;}#sk-container-id-14 div.sk-item {position: relative;z-index: 1;}#sk-container-id-14 div.sk-parallel {display: flex;align-items: stretch;justify-content: center;background-color: white;position: relative;}#sk-container-id-14 div.sk-item::before, #sk-container-id-14 div.sk-parallel-item::before {content: \"\";position: absolute;border-left: 1px solid gray;box-sizing: border-box;top: 0;bottom: 0;left: 50%;z-index: -1;}#sk-container-id-14 div.sk-parallel-item {display: flex;flex-direction: column;z-index: 1;position: relative;background-color: white;}#sk-container-id-14 div.sk-parallel-item:first-child::after {align-self: flex-end;width: 50%;}#sk-container-id-14 div.sk-parallel-item:last-child::after {align-self: flex-start;width: 50%;}#sk-container-id-14 div.sk-parallel-item:only-child::after {width: 0;}#sk-container-id-14 div.sk-dashed-wrapped {border: 1px dashed gray;margin: 0 0.4em 0.5em 0.4em;box-sizing: border-box;padding-bottom: 0.4em;background-color: white;}#sk-container-id-14 div.sk-label label {font-family: monospace;font-weight: bold;display: inline-block;line-height: 1.2em;}#sk-container-id-14 div.sk-label-container {text-align: center;}#sk-container-id-14 div.sk-container {/* jupyter's `normalize.less` sets `[hidden] { display: none; }` but bootstrap.min.css set `[hidden] { display: none !important; }` so we also need the `!important` here to be able to override the default hidden behavior on the sphinx rendered scikit-learn.org. See: https://github.com/scikit-learn/scikit-learn/issues/21755 */display: inline-block !important;position: relative;}#sk-container-id-14 div.sk-text-repr-fallback {display: none;}</style><div id=\"sk-container-id-14\" class=\"sk-top-container\"><div class=\"sk-text-repr-fallback\"><pre>Pipeline(steps=[(&#x27;scale&#x27;, StandardScaler()), (&#x27;regr&#x27;, Lasso(alpha=1))])</pre><b>In a Jupyter environment, please rerun this cell to show the HTML representation or trust the notebook. <br />On GitHub, the HTML representation is unable to render, please try loading this page with nbviewer.org.</b></div><div class=\"sk-container\" hidden><div class=\"sk-item sk-dashed-wrapped\"><div class=\"sk-label-container\"><div class=\"sk-label sk-toggleable\"><input class=\"sk-toggleable__control sk-hidden--visually\" id=\"sk-estimator-id-22\" type=\"checkbox\" ><label for=\"sk-estimator-id-22\" class=\"sk-toggleable__label sk-toggleable__label-arrow\">Pipeline</label><div class=\"sk-toggleable__content\"><pre>Pipeline(steps=[(&#x27;scale&#x27;, StandardScaler()), (&#x27;regr&#x27;, Lasso(alpha=1))])</pre></div></div></div><div class=\"sk-serial\"><div class=\"sk-item\"><div class=\"sk-estimator sk-toggleable\"><input class=\"sk-toggleable__control sk-hidden--visually\" id=\"sk-estimator-id-23\" type=\"checkbox\" ><label for=\"sk-estimator-id-23\" class=\"sk-toggleable__label sk-toggleable__label-arrow\">StandardScaler</label><div class=\"sk-toggleable__content\"><pre>StandardScaler()</pre></div></div></div><div class=\"sk-item\"><div class=\"sk-estimator sk-toggleable\"><input class=\"sk-toggleable__control sk-hidden--visually\" id=\"sk-estimator-id-24\" type=\"checkbox\" ><label for=\"sk-estimator-id-24\" class=\"sk-toggleable__label sk-toggleable__label-arrow\">Lasso</label><div class=\"sk-toggleable__content\"><pre>Lasso(alpha=1)</pre></div></div></div></div></div></div></div>"
      ],
      "text/plain": [
       "Pipeline(steps=[('scale', StandardScaler()), ('regr', Lasso(alpha=1))])"
      ]
     },
     "execution_count": 475,
     "metadata": {},
     "output_type": "execute_result"
    }
   ],
   "source": [
    "from sklearn.linear_model import Lasso\n",
    "model = Pipeline([\n",
    "    (\"scale\", StandardScaler()),\n",
    "    (\"regr\", Lasso(alpha=1))\n",
    "])\n",
    "model.fit(x_train, y_train)"
   ]
  },
  {
   "cell_type": "code",
   "execution_count": 476,
   "id": "fa6c24d9-43f2-4efd-8e1f-4337141fe2de",
   "metadata": {},
   "outputs": [
    {
     "data": {
      "text/plain": [
       "Length            0.000000\n",
       "Diameter          0.000000\n",
       "Height            0.380374\n",
       "Weight            0.000000\n",
       "Shucked Weight    0.000000\n",
       "Viscera Weight    0.000000\n",
       "Shell Weight      0.654675\n",
       "Sex_I            -0.000000\n",
       "Sex_M             0.000000\n",
       "dtype: float64"
      ]
     },
     "execution_count": 476,
     "metadata": {},
     "output_type": "execute_result"
    }
   ],
   "source": [
    "pd.Series(model.named_steps[\"regr\"].coef_, x.columns)"
   ]
  },
  {
   "cell_type": "code",
   "execution_count": 395,
   "id": "1eb9f7ef-4849-4558-a3fd-e70bf11f2fea",
   "metadata": {},
   "outputs": [
    {
     "name": "stdout",
     "output_type": "stream",
     "text": [
      "   Mean squared error: 7.0444\n",
      "       Relative error: 21.12446%\n",
      "R-squared coefficient: 0.29399\n"
     ]
    }
   ],
   "source": [
    "print_eval(x_val, y_val, model)"
   ]
  },
  {
   "cell_type": "markdown",
   "id": "00886085-d7c8-4a91-a195-f380998e8380",
   "metadata": {},
   "source": [
    "l'accuratezza peggiora quindi provo a calare il peso della regolarizzazione"
   ]
  },
  {
   "cell_type": "code",
   "execution_count": 477,
   "id": "9b3bf705-26a1-4c55-980f-5874f6464ae3",
   "metadata": {},
   "outputs": [
    {
     "data": {
      "text/html": [
       "<style>#sk-container-id-15 {color: black;background-color: white;}#sk-container-id-15 pre{padding: 0;}#sk-container-id-15 div.sk-toggleable {background-color: white;}#sk-container-id-15 label.sk-toggleable__label {cursor: pointer;display: block;width: 100%;margin-bottom: 0;padding: 0.3em;box-sizing: border-box;text-align: center;}#sk-container-id-15 label.sk-toggleable__label-arrow:before {content: \"▸\";float: left;margin-right: 0.25em;color: #696969;}#sk-container-id-15 label.sk-toggleable__label-arrow:hover:before {color: black;}#sk-container-id-15 div.sk-estimator:hover label.sk-toggleable__label-arrow:before {color: black;}#sk-container-id-15 div.sk-toggleable__content {max-height: 0;max-width: 0;overflow: hidden;text-align: left;background-color: #f0f8ff;}#sk-container-id-15 div.sk-toggleable__content pre {margin: 0.2em;color: black;border-radius: 0.25em;background-color: #f0f8ff;}#sk-container-id-15 input.sk-toggleable__control:checked~div.sk-toggleable__content {max-height: 200px;max-width: 100%;overflow: auto;}#sk-container-id-15 input.sk-toggleable__control:checked~label.sk-toggleable__label-arrow:before {content: \"▾\";}#sk-container-id-15 div.sk-estimator input.sk-toggleable__control:checked~label.sk-toggleable__label {background-color: #d4ebff;}#sk-container-id-15 div.sk-label input.sk-toggleable__control:checked~label.sk-toggleable__label {background-color: #d4ebff;}#sk-container-id-15 input.sk-hidden--visually {border: 0;clip: rect(1px 1px 1px 1px);clip: rect(1px, 1px, 1px, 1px);height: 1px;margin: -1px;overflow: hidden;padding: 0;position: absolute;width: 1px;}#sk-container-id-15 div.sk-estimator {font-family: monospace;background-color: #f0f8ff;border: 1px dotted black;border-radius: 0.25em;box-sizing: border-box;margin-bottom: 0.5em;}#sk-container-id-15 div.sk-estimator:hover {background-color: #d4ebff;}#sk-container-id-15 div.sk-parallel-item::after {content: \"\";width: 100%;border-bottom: 1px solid gray;flex-grow: 1;}#sk-container-id-15 div.sk-label:hover label.sk-toggleable__label {background-color: #d4ebff;}#sk-container-id-15 div.sk-serial::before {content: \"\";position: absolute;border-left: 1px solid gray;box-sizing: border-box;top: 0;bottom: 0;left: 50%;z-index: 0;}#sk-container-id-15 div.sk-serial {display: flex;flex-direction: column;align-items: center;background-color: white;padding-right: 0.2em;padding-left: 0.2em;position: relative;}#sk-container-id-15 div.sk-item {position: relative;z-index: 1;}#sk-container-id-15 div.sk-parallel {display: flex;align-items: stretch;justify-content: center;background-color: white;position: relative;}#sk-container-id-15 div.sk-item::before, #sk-container-id-15 div.sk-parallel-item::before {content: \"\";position: absolute;border-left: 1px solid gray;box-sizing: border-box;top: 0;bottom: 0;left: 50%;z-index: -1;}#sk-container-id-15 div.sk-parallel-item {display: flex;flex-direction: column;z-index: 1;position: relative;background-color: white;}#sk-container-id-15 div.sk-parallel-item:first-child::after {align-self: flex-end;width: 50%;}#sk-container-id-15 div.sk-parallel-item:last-child::after {align-self: flex-start;width: 50%;}#sk-container-id-15 div.sk-parallel-item:only-child::after {width: 0;}#sk-container-id-15 div.sk-dashed-wrapped {border: 1px dashed gray;margin: 0 0.4em 0.5em 0.4em;box-sizing: border-box;padding-bottom: 0.4em;background-color: white;}#sk-container-id-15 div.sk-label label {font-family: monospace;font-weight: bold;display: inline-block;line-height: 1.2em;}#sk-container-id-15 div.sk-label-container {text-align: center;}#sk-container-id-15 div.sk-container {/* jupyter's `normalize.less` sets `[hidden] { display: none; }` but bootstrap.min.css set `[hidden] { display: none !important; }` so we also need the `!important` here to be able to override the default hidden behavior on the sphinx rendered scikit-learn.org. See: https://github.com/scikit-learn/scikit-learn/issues/21755 */display: inline-block !important;position: relative;}#sk-container-id-15 div.sk-text-repr-fallback {display: none;}</style><div id=\"sk-container-id-15\" class=\"sk-top-container\"><div class=\"sk-text-repr-fallback\"><pre>Pipeline(steps=[(&#x27;scale&#x27;, StandardScaler()), (&#x27;regr&#x27;, Lasso(alpha=0.2))])</pre><b>In a Jupyter environment, please rerun this cell to show the HTML representation or trust the notebook. <br />On GitHub, the HTML representation is unable to render, please try loading this page with nbviewer.org.</b></div><div class=\"sk-container\" hidden><div class=\"sk-item sk-dashed-wrapped\"><div class=\"sk-label-container\"><div class=\"sk-label sk-toggleable\"><input class=\"sk-toggleable__control sk-hidden--visually\" id=\"sk-estimator-id-25\" type=\"checkbox\" ><label for=\"sk-estimator-id-25\" class=\"sk-toggleable__label sk-toggleable__label-arrow\">Pipeline</label><div class=\"sk-toggleable__content\"><pre>Pipeline(steps=[(&#x27;scale&#x27;, StandardScaler()), (&#x27;regr&#x27;, Lasso(alpha=0.2))])</pre></div></div></div><div class=\"sk-serial\"><div class=\"sk-item\"><div class=\"sk-estimator sk-toggleable\"><input class=\"sk-toggleable__control sk-hidden--visually\" id=\"sk-estimator-id-26\" type=\"checkbox\" ><label for=\"sk-estimator-id-26\" class=\"sk-toggleable__label sk-toggleable__label-arrow\">StandardScaler</label><div class=\"sk-toggleable__content\"><pre>StandardScaler()</pre></div></div></div><div class=\"sk-item\"><div class=\"sk-estimator sk-toggleable\"><input class=\"sk-toggleable__control sk-hidden--visually\" id=\"sk-estimator-id-27\" type=\"checkbox\" ><label for=\"sk-estimator-id-27\" class=\"sk-toggleable__label sk-toggleable__label-arrow\">Lasso</label><div class=\"sk-toggleable__content\"><pre>Lasso(alpha=0.2)</pre></div></div></div></div></div></div></div>"
      ],
      "text/plain": [
       "Pipeline(steps=[('scale', StandardScaler()), ('regr', Lasso(alpha=0.2))])"
      ]
     },
     "execution_count": 477,
     "metadata": {},
     "output_type": "execute_result"
    }
   ],
   "source": [
    "model = Pipeline([\n",
    "    (\"scale\", StandardScaler()),\n",
    "    (\"regr\", Lasso(alpha=0.2))\n",
    "])\n",
    "model.fit(x_train, y_train)"
   ]
  },
  {
   "cell_type": "code",
   "execution_count": 397,
   "id": "b51d0c97-d311-4003-94b9-c9f020b70bff",
   "metadata": {},
   "outputs": [
    {
     "data": {
      "text/plain": [
       "Length            0.000000\n",
       "Diameter          0.000000\n",
       "Height            0.749930\n",
       "Weight            0.000000\n",
       "Shucked Weight   -0.411179\n",
       "Viscera Weight   -0.000000\n",
       "Shell Weight      1.569147\n",
       "Sex_F             0.000000\n",
       "Sex_I            -0.000000\n",
       "Sex_M             0.000000\n",
       "dtype: float64"
      ]
     },
     "execution_count": 397,
     "metadata": {},
     "output_type": "execute_result"
    }
   ],
   "source": [
    "pd.Series(model.named_steps[\"regr\"].coef_, x.columns)"
   ]
  },
  {
   "cell_type": "code",
   "execution_count": 398,
   "id": "cb92990c-f991-4611-b137-fa956a3b059d",
   "metadata": {},
   "outputs": [
    {
     "name": "stdout",
     "output_type": "stream",
     "text": [
      "   Mean squared error: 5.9343\n",
      "       Relative error: 18.18161%\n",
      "R-squared coefficient: 0.40525\n"
     ]
    }
   ],
   "source": [
    "print_eval(x_val, y_val, model)"
   ]
  },
  {
   "cell_type": "markdown",
   "id": "90cdeaa4-78a7-4bee-9578-970be37c3bb4",
   "metadata": {},
   "source": [
    "l'errore cala ma è sempre maggiore di quello ottenuto nei precedenti modelli"
   ]
  },
  {
   "cell_type": "markdown",
   "id": "8cff28ca-ab74-4a24-8b40-bd277dc255e1",
   "metadata": {},
   "source": [
    "proviamo con la regressione elastic net, che combina la regressione ridge e lasso"
   ]
  },
  {
   "cell_type": "code",
   "execution_count": 478,
   "id": "3283ecc3-1b53-4ed6-b6bf-6cdc6bde2687",
   "metadata": {},
   "outputs": [
    {
     "name": "stdout",
     "output_type": "stream",
     "text": [
      "   Mean squared error: 5.7791\n",
      "       Relative error: 17.34963%\n",
      "R-squared coefficient: 0.45068\n"
     ]
    }
   ],
   "source": [
    "from sklearn.linear_model import ElasticNet\n",
    "model = Pipeline([\n",
    "    (\"scale\",  StandardScaler()),\n",
    "    (\"regr\", ElasticNet(alpha=0.2, l1_ratio=0.1))\n",
    "])\n",
    "model.fit(x_train, y_train)\n",
    "print_eval(x_val, y_val, model)"
   ]
  },
  {
   "cell_type": "markdown",
   "id": "4dab3e01-d4cb-4973-8380-8e06aec02c6b",
   "metadata": {},
   "source": [
    "il risultato migliora ma è ancora scarso, questo mi indica che tutte le feture sono importanti. Ora utilizziamo un modello elastic net con regressione polinomiale provando più gradi"
   ]
  },
  {
   "cell_type": "code",
   "execution_count": 482,
   "id": "f2d67915-3583-4b65-980d-40649bb58311",
   "metadata": {},
   "outputs": [],
   "source": [
    "def poly_std_elasticnet(degree):\n",
    "    return Pipeline([\n",
    "        (\"poly\", PolynomialFeatures(degree=degree, include_bias=False)),\n",
    "        (\"std\",  StandardScaler()),\n",
    "        (\"regr\", ElasticNet(alpha=0.5, l1_ratio=0.2))\n",
    "    ])"
   ]
  },
  {
   "cell_type": "code",
   "execution_count": 483,
   "id": "6ad27b5d-cb6f-480d-8b44-37e43c778703",
   "metadata": {},
   "outputs": [
    {
     "name": "stdout",
     "output_type": "stream",
     "text": [
      "CPU times: total: 46.9 ms\n",
      "Wall time: 24.3 ms\n",
      "   Mean squared error: 5.9857\n",
      "       Relative error: 18.04011%\n",
      "R-squared coefficient: 0.43103\n"
     ]
    }
   ],
   "source": [
    "model = poly_std_elasticnet(2)\n",
    "%time model.fit(x_train, y_train)\n",
    "print_eval(x_val, y_val, model)"
   ]
  },
  {
   "cell_type": "code",
   "execution_count": 484,
   "id": "bc31738e-f8b7-498a-b013-977e5b316294",
   "metadata": {},
   "outputs": [
    {
     "name": "stdout",
     "output_type": "stream",
     "text": [
      "CPU times: total: 1.62 s\n",
      "Wall time: 1.43 s\n",
      "   Mean squared error: 5.904\n",
      "       Relative error: 17.95916%\n",
      "R-squared coefficient: 0.4388\n"
     ]
    }
   ],
   "source": [
    "model = poly_std_elasticnet(5)\n",
    "%time model.fit(x_train, y_train)\n",
    "print_eval(x_val, y_val, model)"
   ]
  },
  {
   "cell_type": "markdown",
   "id": "a7a930cc-0f2b-4d85-ad69-825469eee033",
   "metadata": {},
   "source": [
    "usiamo regressione con funzioni kernel per ridurre i tempi simulando una regressione polinomiale di grado 5 senza generare tutte le variabili"
   ]
  },
  {
   "cell_type": "code",
   "execution_count": 485,
   "id": "d1e12396-047a-4aa0-b7b2-1028c809c8f0",
   "metadata": {},
   "outputs": [
    {
     "name": "stdout",
     "output_type": "stream",
     "text": [
      "CPU times: total: 906 ms\n",
      "Wall time: 551 ms\n",
      "   Mean squared error: 5.1211\n",
      "       Relative error: 15.61376%\n",
      "R-squared coefficient: 0.51322\n"
     ]
    }
   ],
   "source": [
    "from sklearn.kernel_ridge import KernelRidge\n",
    "model = Pipeline([\n",
    "    (\"scale\", StandardScaler()),\n",
    "    (\"regr\",  KernelRidge(alpha=20, kernel=\"poly\", degree=5))\n",
    "])\n",
    "%time model.fit(x_train, y_train)\n",
    "print_eval(x_val, y_val, model)"
   ]
  },
  {
   "cell_type": "markdown",
   "id": "25bf2142-77b9-43ad-95be-57e23c43de0d",
   "metadata": {},
   "source": [
    "Per il momento è il migliore risultato ottenuto usiamo GridSearchCV per utilizzare i parametri migliori usando la cross validation a 3 fold"
   ]
  },
  {
   "cell_type": "code",
   "execution_count": 498,
   "id": "86c1f197-7da7-4d17-aafa-c1162bcba936",
   "metadata": {},
   "outputs": [],
   "source": [
    "from sklearn.model_selection import GridSearchCV,KFold\n",
    "kf = KFold(5, shuffle=True, random_state=42)"
   ]
  },
  {
   "cell_type": "code",
   "execution_count": 499,
   "id": "3657dcda-6f2e-4a45-a4a6-a08ffebfdb29",
   "metadata": {},
   "outputs": [],
   "source": [
    "model = Pipeline([\n",
    "    (\"poly\",  PolynomialFeatures(include_bias=False)),\n",
    "    (\"scale\", StandardScaler()),\n",
    "    (\"regr\",  KernelRidge())\n",
    "])"
   ]
  },
  {
   "cell_type": "code",
   "execution_count": 500,
   "id": "a9550824-1388-4f0b-bf6e-f8a138d1618c",
   "metadata": {
    "scrolled": true
   },
   "outputs": [],
   "source": [
    "grid = {\n",
    "    \"poly__degree\": [2, 3],      # <- grado polinomio\n",
    "    \"regr__alpha\":  [0.1, 1, 10] # <- regolarizzazione\n",
    "}"
   ]
  },
  {
   "cell_type": "code",
   "execution_count": 504,
   "id": "e2daa648-24f1-4ffe-9648-6f77b2c9f478",
   "metadata": {
    "scrolled": true
   },
   "outputs": [
    {
     "data": {
      "text/plain": [
       "{'poly__degree': 3, 'regr__alpha': 1}"
      ]
     },
     "execution_count": 504,
     "metadata": {},
     "output_type": "execute_result"
    }
   ],
   "source": [
    "gs = GridSearchCV(model, grid, cv=kf)\n",
    "gs.fit(x_train, y_train);\n",
    "gs.best_params_"
   ]
  },
  {
   "cell_type": "code",
   "execution_count": 505,
   "id": "d5b84474-a5ff-4e55-a976-ea2c45c18f17",
   "metadata": {},
   "outputs": [
    {
     "data": {
      "text/html": [
       "<div>\n",
       "<style scoped>\n",
       "    .dataframe tbody tr th:only-of-type {\n",
       "        vertical-align: middle;\n",
       "    }\n",
       "\n",
       "    .dataframe tbody tr th {\n",
       "        vertical-align: top;\n",
       "    }\n",
       "\n",
       "    .dataframe thead th {\n",
       "        text-align: right;\n",
       "    }\n",
       "</style>\n",
       "<table border=\"1\" class=\"dataframe\">\n",
       "  <thead>\n",
       "    <tr style=\"text-align: right;\">\n",
       "      <th></th>\n",
       "      <th>mean_fit_time</th>\n",
       "      <th>std_fit_time</th>\n",
       "      <th>mean_score_time</th>\n",
       "      <th>std_score_time</th>\n",
       "      <th>param_poly__degree</th>\n",
       "      <th>param_regr__alpha</th>\n",
       "      <th>params</th>\n",
       "      <th>split0_test_score</th>\n",
       "      <th>split1_test_score</th>\n",
       "      <th>split2_test_score</th>\n",
       "      <th>split3_test_score</th>\n",
       "      <th>split4_test_score</th>\n",
       "      <th>mean_test_score</th>\n",
       "      <th>std_test_score</th>\n",
       "      <th>rank_test_score</th>\n",
       "    </tr>\n",
       "  </thead>\n",
       "  <tbody>\n",
       "    <tr>\n",
       "      <th>4</th>\n",
       "      <td>0.201929</td>\n",
       "      <td>0.006255</td>\n",
       "      <td>0.014681</td>\n",
       "      <td>0.003519</td>\n",
       "      <td>3</td>\n",
       "      <td>1</td>\n",
       "      <td>{'poly__degree': 3, 'regr__alpha': 1}</td>\n",
       "      <td>-8.583464</td>\n",
       "      <td>-9.469497</td>\n",
       "      <td>-7.606208</td>\n",
       "      <td>-10.126134</td>\n",
       "      <td>-10.350888</td>\n",
       "      <td>-9.227238</td>\n",
       "      <td>1.017003</td>\n",
       "      <td>1</td>\n",
       "    </tr>\n",
       "    <tr>\n",
       "      <th>3</th>\n",
       "      <td>0.208284</td>\n",
       "      <td>0.008554</td>\n",
       "      <td>0.014184</td>\n",
       "      <td>0.002978</td>\n",
       "      <td>3</td>\n",
       "      <td>0.1</td>\n",
       "      <td>{'poly__degree': 3, 'regr__alpha': 0.1}</td>\n",
       "      <td>-8.615680</td>\n",
       "      <td>-9.482843</td>\n",
       "      <td>-7.590998</td>\n",
       "      <td>-10.089083</td>\n",
       "      <td>-10.363972</td>\n",
       "      <td>-9.228515</td>\n",
       "      <td>1.015042</td>\n",
       "      <td>2</td>\n",
       "    </tr>\n",
       "    <tr>\n",
       "      <th>1</th>\n",
       "      <td>0.173230</td>\n",
       "      <td>0.017915</td>\n",
       "      <td>0.008950</td>\n",
       "      <td>0.002378</td>\n",
       "      <td>2</td>\n",
       "      <td>1</td>\n",
       "      <td>{'poly__degree': 2, 'regr__alpha': 1}</td>\n",
       "      <td>-8.557979</td>\n",
       "      <td>-9.460445</td>\n",
       "      <td>-7.634730</td>\n",
       "      <td>-10.171890</td>\n",
       "      <td>-10.340848</td>\n",
       "      <td>-9.233178</td>\n",
       "      <td>1.016926</td>\n",
       "      <td>3</td>\n",
       "    </tr>\n",
       "    <tr>\n",
       "      <th>0</th>\n",
       "      <td>0.171984</td>\n",
       "      <td>0.009629</td>\n",
       "      <td>0.009670</td>\n",
       "      <td>0.000823</td>\n",
       "      <td>2</td>\n",
       "      <td>0.1</td>\n",
       "      <td>{'poly__degree': 2, 'regr__alpha': 0.1}</td>\n",
       "      <td>-8.594304</td>\n",
       "      <td>-9.473348</td>\n",
       "      <td>-7.595145</td>\n",
       "      <td>-10.139442</td>\n",
       "      <td>-10.371097</td>\n",
       "      <td>-9.234667</td>\n",
       "      <td>1.026173</td>\n",
       "      <td>4</td>\n",
       "    </tr>\n",
       "    <tr>\n",
       "      <th>5</th>\n",
       "      <td>0.201497</td>\n",
       "      <td>0.005199</td>\n",
       "      <td>0.013802</td>\n",
       "      <td>0.003126</td>\n",
       "      <td>3</td>\n",
       "      <td>10</td>\n",
       "      <td>{'poly__degree': 3, 'regr__alpha': 10}</td>\n",
       "      <td>-8.531008</td>\n",
       "      <td>-9.457765</td>\n",
       "      <td>-7.662212</td>\n",
       "      <td>-10.201157</td>\n",
       "      <td>-10.339911</td>\n",
       "      <td>-9.238411</td>\n",
       "      <td>1.017165</td>\n",
       "      <td>5</td>\n",
       "    </tr>\n",
       "    <tr>\n",
       "      <th>2</th>\n",
       "      <td>0.178956</td>\n",
       "      <td>0.006571</td>\n",
       "      <td>0.007309</td>\n",
       "      <td>0.002633</td>\n",
       "      <td>2</td>\n",
       "      <td>10</td>\n",
       "      <td>{'poly__degree': 2, 'regr__alpha': 10}</td>\n",
       "      <td>-8.516069</td>\n",
       "      <td>-9.467546</td>\n",
       "      <td>-7.688666</td>\n",
       "      <td>-10.213684</td>\n",
       "      <td>-10.344233</td>\n",
       "      <td>-9.246040</td>\n",
       "      <td>1.014860</td>\n",
       "      <td>6</td>\n",
       "    </tr>\n",
       "  </tbody>\n",
       "</table>\n",
       "</div>"
      ],
      "text/plain": [
       "   mean_fit_time  std_fit_time  mean_score_time  std_score_time  \\\n",
       "4       0.201929      0.006255         0.014681        0.003519   \n",
       "3       0.208284      0.008554         0.014184        0.002978   \n",
       "1       0.173230      0.017915         0.008950        0.002378   \n",
       "0       0.171984      0.009629         0.009670        0.000823   \n",
       "5       0.201497      0.005199         0.013802        0.003126   \n",
       "2       0.178956      0.006571         0.007309        0.002633   \n",
       "\n",
       "  param_poly__degree param_regr__alpha  \\\n",
       "4                  3                 1   \n",
       "3                  3               0.1   \n",
       "1                  2                 1   \n",
       "0                  2               0.1   \n",
       "5                  3                10   \n",
       "2                  2                10   \n",
       "\n",
       "                                    params  split0_test_score  \\\n",
       "4    {'poly__degree': 3, 'regr__alpha': 1}          -8.583464   \n",
       "3  {'poly__degree': 3, 'regr__alpha': 0.1}          -8.615680   \n",
       "1    {'poly__degree': 2, 'regr__alpha': 1}          -8.557979   \n",
       "0  {'poly__degree': 2, 'regr__alpha': 0.1}          -8.594304   \n",
       "5   {'poly__degree': 3, 'regr__alpha': 10}          -8.531008   \n",
       "2   {'poly__degree': 2, 'regr__alpha': 10}          -8.516069   \n",
       "\n",
       "   split1_test_score  split2_test_score  split3_test_score  split4_test_score  \\\n",
       "4          -9.469497          -7.606208         -10.126134         -10.350888   \n",
       "3          -9.482843          -7.590998         -10.089083         -10.363972   \n",
       "1          -9.460445          -7.634730         -10.171890         -10.340848   \n",
       "0          -9.473348          -7.595145         -10.139442         -10.371097   \n",
       "5          -9.457765          -7.662212         -10.201157         -10.339911   \n",
       "2          -9.467546          -7.688666         -10.213684         -10.344233   \n",
       "\n",
       "   mean_test_score  std_test_score  rank_test_score  \n",
       "4        -9.227238        1.017003                1  \n",
       "3        -9.228515        1.015042                2  \n",
       "1        -9.233178        1.016926                3  \n",
       "0        -9.234667        1.026173                4  \n",
       "5        -9.238411        1.017165                5  \n",
       "2        -9.246040        1.014860                6  "
      ]
     },
     "execution_count": 505,
     "metadata": {},
     "output_type": "execute_result"
    }
   ],
   "source": [
    "pd.DataFrame(gs.cv_results_).sort_values(\"mean_test_score\", ascending=False)"
   ]
  },
  {
   "cell_type": "code",
   "execution_count": 506,
   "id": "8b473b2f-f2c0-41bd-940e-ae21b13106b5",
   "metadata": {},
   "outputs": [
    {
     "name": "stdout",
     "output_type": "stream",
     "text": [
      "   Mean squared error: 103.26\n",
      "       Relative error: 107.16151%\n",
      "R-squared coefficient: -8.8149\n"
     ]
    }
   ],
   "source": [
    "print_eval(x_val, y_val, gs)"
   ]
  },
  {
   "cell_type": "code",
   "execution_count": 507,
   "id": "14dd62a3-e79c-4ef4-a196-eae1b7c4a5f2",
   "metadata": {},
   "outputs": [
    {
     "data": {
      "text/html": [
       "<div>\n",
       "<style scoped>\n",
       "    .dataframe tbody tr th:only-of-type {\n",
       "        vertical-align: middle;\n",
       "    }\n",
       "\n",
       "    .dataframe tbody tr th {\n",
       "        vertical-align: top;\n",
       "    }\n",
       "\n",
       "    .dataframe thead th {\n",
       "        text-align: right;\n",
       "    }\n",
       "</style>\n",
       "<table border=\"1\" class=\"dataframe\">\n",
       "  <thead>\n",
       "    <tr style=\"text-align: right;\">\n",
       "      <th></th>\n",
       "      <th>mean_fit_time</th>\n",
       "      <th>std_fit_time</th>\n",
       "      <th>mean_score_time</th>\n",
       "      <th>std_score_time</th>\n",
       "      <th>param_regr__alpha</th>\n",
       "      <th>param_scale</th>\n",
       "      <th>params</th>\n",
       "      <th>split0_test_score</th>\n",
       "      <th>split1_test_score</th>\n",
       "      <th>split2_test_score</th>\n",
       "      <th>split3_test_score</th>\n",
       "      <th>split4_test_score</th>\n",
       "      <th>mean_test_score</th>\n",
       "      <th>std_test_score</th>\n",
       "      <th>rank_test_score</th>\n",
       "    </tr>\n",
       "  </thead>\n",
       "  <tbody>\n",
       "    <tr>\n",
       "      <th>3</th>\n",
       "      <td>0.003706</td>\n",
       "      <td>0.002196</td>\n",
       "      <td>0.002415</td>\n",
       "      <td>0.001357</td>\n",
       "      <td>1</td>\n",
       "      <td>StandardScaler()</td>\n",
       "      <td>{'regr__alpha': 1, 'scale': StandardScaler()}</td>\n",
       "      <td>0.571075</td>\n",
       "      <td>0.485894</td>\n",
       "      <td>0.546053</td>\n",
       "      <td>0.558008</td>\n",
       "      <td>0.444863</td>\n",
       "      <td>0.521179</td>\n",
       "      <td>0.048029</td>\n",
       "      <td>1</td>\n",
       "    </tr>\n",
       "    <tr>\n",
       "      <th>0</th>\n",
       "      <td>0.002792</td>\n",
       "      <td>0.000746</td>\n",
       "      <td>0.001795</td>\n",
       "      <td>0.000746</td>\n",
       "      <td>0.1</td>\n",
       "      <td>None</td>\n",
       "      <td>{'regr__alpha': 0.1, 'scale': None}</td>\n",
       "      <td>0.570704</td>\n",
       "      <td>0.486713</td>\n",
       "      <td>0.547184</td>\n",
       "      <td>0.556975</td>\n",
       "      <td>0.444209</td>\n",
       "      <td>0.521157</td>\n",
       "      <td>0.048005</td>\n",
       "      <td>2</td>\n",
       "    </tr>\n",
       "    <tr>\n",
       "      <th>1</th>\n",
       "      <td>0.004400</td>\n",
       "      <td>0.000489</td>\n",
       "      <td>0.002588</td>\n",
       "      <td>0.001240</td>\n",
       "      <td>0.1</td>\n",
       "      <td>StandardScaler()</td>\n",
       "      <td>{'regr__alpha': 0.1, 'scale': StandardScaler()}</td>\n",
       "      <td>0.570569</td>\n",
       "      <td>0.486271</td>\n",
       "      <td>0.547422</td>\n",
       "      <td>0.557285</td>\n",
       "      <td>0.443828</td>\n",
       "      <td>0.521075</td>\n",
       "      <td>0.048236</td>\n",
       "      <td>3</td>\n",
       "    </tr>\n",
       "    <tr>\n",
       "      <th>2</th>\n",
       "      <td>0.004095</td>\n",
       "      <td>0.001280</td>\n",
       "      <td>0.002848</td>\n",
       "      <td>0.002272</td>\n",
       "      <td>1</td>\n",
       "      <td>None</td>\n",
       "      <td>{'regr__alpha': 1, 'scale': None}</td>\n",
       "      <td>0.570673</td>\n",
       "      <td>0.488318</td>\n",
       "      <td>0.543678</td>\n",
       "      <td>0.554104</td>\n",
       "      <td>0.445672</td>\n",
       "      <td>0.520489</td>\n",
       "      <td>0.046516</td>\n",
       "      <td>4</td>\n",
       "    </tr>\n",
       "    <tr>\n",
       "      <th>5</th>\n",
       "      <td>0.005018</td>\n",
       "      <td>0.000007</td>\n",
       "      <td>0.000000</td>\n",
       "      <td>0.000000</td>\n",
       "      <td>10</td>\n",
       "      <td>StandardScaler()</td>\n",
       "      <td>{'regr__alpha': 10, 'scale': StandardScaler()}</td>\n",
       "      <td>0.571723</td>\n",
       "      <td>0.481635</td>\n",
       "      <td>0.535162</td>\n",
       "      <td>0.558577</td>\n",
       "      <td>0.447716</td>\n",
       "      <td>0.518963</td>\n",
       "      <td>0.047085</td>\n",
       "      <td>5</td>\n",
       "    </tr>\n",
       "    <tr>\n",
       "      <th>4</th>\n",
       "      <td>0.001004</td>\n",
       "      <td>0.002008</td>\n",
       "      <td>0.002005</td>\n",
       "      <td>0.002456</td>\n",
       "      <td>10</td>\n",
       "      <td>None</td>\n",
       "      <td>{'regr__alpha': 10, 'scale': None}</td>\n",
       "      <td>0.561693</td>\n",
       "      <td>0.483635</td>\n",
       "      <td>0.531129</td>\n",
       "      <td>0.537256</td>\n",
       "      <td>0.437931</td>\n",
       "      <td>0.510329</td>\n",
       "      <td>0.044159</td>\n",
       "      <td>6</td>\n",
       "    </tr>\n",
       "  </tbody>\n",
       "</table>\n",
       "</div>"
      ],
      "text/plain": [
       "   mean_fit_time  std_fit_time  mean_score_time  std_score_time  \\\n",
       "3       0.003706      0.002196         0.002415        0.001357   \n",
       "0       0.002792      0.000746         0.001795        0.000746   \n",
       "1       0.004400      0.000489         0.002588        0.001240   \n",
       "2       0.004095      0.001280         0.002848        0.002272   \n",
       "5       0.005018      0.000007         0.000000        0.000000   \n",
       "4       0.001004      0.002008         0.002005        0.002456   \n",
       "\n",
       "  param_regr__alpha       param_scale  \\\n",
       "3                 1  StandardScaler()   \n",
       "0               0.1              None   \n",
       "1               0.1  StandardScaler()   \n",
       "2                 1              None   \n",
       "5                10  StandardScaler()   \n",
       "4                10              None   \n",
       "\n",
       "                                            params  split0_test_score  \\\n",
       "3    {'regr__alpha': 1, 'scale': StandardScaler()}           0.571075   \n",
       "0              {'regr__alpha': 0.1, 'scale': None}           0.570704   \n",
       "1  {'regr__alpha': 0.1, 'scale': StandardScaler()}           0.570569   \n",
       "2                {'regr__alpha': 1, 'scale': None}           0.570673   \n",
       "5   {'regr__alpha': 10, 'scale': StandardScaler()}           0.571723   \n",
       "4               {'regr__alpha': 10, 'scale': None}           0.561693   \n",
       "\n",
       "   split1_test_score  split2_test_score  split3_test_score  split4_test_score  \\\n",
       "3           0.485894           0.546053           0.558008           0.444863   \n",
       "0           0.486713           0.547184           0.556975           0.444209   \n",
       "1           0.486271           0.547422           0.557285           0.443828   \n",
       "2           0.488318           0.543678           0.554104           0.445672   \n",
       "5           0.481635           0.535162           0.558577           0.447716   \n",
       "4           0.483635           0.531129           0.537256           0.437931   \n",
       "\n",
       "   mean_test_score  std_test_score  rank_test_score  \n",
       "3         0.521179        0.048029                1  \n",
       "0         0.521157        0.048005                2  \n",
       "1         0.521075        0.048236                3  \n",
       "2         0.520489        0.046516                4  \n",
       "5         0.518963        0.047085                5  \n",
       "4         0.510329        0.044159                6  "
      ]
     },
     "execution_count": 507,
     "metadata": {},
     "output_type": "execute_result"
    }
   ],
   "source": [
    "model = Pipeline([\n",
    "    (\"scale\", None),   # uso None come segnaposto\n",
    "    (\"regr\",  Ridge())\n",
    "])\n",
    "grid = {\n",
    "    # scale = standardizzazione oppure nulla\n",
    "    \"scale\": [None, StandardScaler()],\n",
    "    \"regr__alpha\": [0.1, 1, 10]\n",
    "}\n",
    "gs = GridSearchCV(model, grid, cv=kf)\n",
    "gs.fit(x_train, y_train);\n",
    "pd.DataFrame(gs.cv_results_).sort_values(\"mean_test_score\", ascending=False)"
   ]
  },
  {
   "cell_type": "code",
   "execution_count": 508,
   "id": "55e9840b-c9fa-4732-8079-19fbc41c0be4",
   "metadata": {},
   "outputs": [
    {
     "data": {
      "text/plain": [
       "0.5315933300869138"
      ]
     },
     "execution_count": 508,
     "metadata": {},
     "output_type": "execute_result"
    }
   ],
   "source": [
    "gs.score(x_val, y_val)"
   ]
  },
  {
   "cell_type": "markdown",
   "id": "f67f999c-4edf-4dbc-ad11-e249c44a7e1a",
   "metadata": {},
   "source": [
    "regressione con alberi"
   ]
  },
  {
   "cell_type": "code",
   "execution_count": 509,
   "id": "86a20a74-2d7e-41c1-9ee6-0ea0dc1e07c3",
   "metadata": {},
   "outputs": [
    {
     "data": {
      "text/html": [
       "<style>#sk-container-id-16 {color: black;background-color: white;}#sk-container-id-16 pre{padding: 0;}#sk-container-id-16 div.sk-toggleable {background-color: white;}#sk-container-id-16 label.sk-toggleable__label {cursor: pointer;display: block;width: 100%;margin-bottom: 0;padding: 0.3em;box-sizing: border-box;text-align: center;}#sk-container-id-16 label.sk-toggleable__label-arrow:before {content: \"▸\";float: left;margin-right: 0.25em;color: #696969;}#sk-container-id-16 label.sk-toggleable__label-arrow:hover:before {color: black;}#sk-container-id-16 div.sk-estimator:hover label.sk-toggleable__label-arrow:before {color: black;}#sk-container-id-16 div.sk-toggleable__content {max-height: 0;max-width: 0;overflow: hidden;text-align: left;background-color: #f0f8ff;}#sk-container-id-16 div.sk-toggleable__content pre {margin: 0.2em;color: black;border-radius: 0.25em;background-color: #f0f8ff;}#sk-container-id-16 input.sk-toggleable__control:checked~div.sk-toggleable__content {max-height: 200px;max-width: 100%;overflow: auto;}#sk-container-id-16 input.sk-toggleable__control:checked~label.sk-toggleable__label-arrow:before {content: \"▾\";}#sk-container-id-16 div.sk-estimator input.sk-toggleable__control:checked~label.sk-toggleable__label {background-color: #d4ebff;}#sk-container-id-16 div.sk-label input.sk-toggleable__control:checked~label.sk-toggleable__label {background-color: #d4ebff;}#sk-container-id-16 input.sk-hidden--visually {border: 0;clip: rect(1px 1px 1px 1px);clip: rect(1px, 1px, 1px, 1px);height: 1px;margin: -1px;overflow: hidden;padding: 0;position: absolute;width: 1px;}#sk-container-id-16 div.sk-estimator {font-family: monospace;background-color: #f0f8ff;border: 1px dotted black;border-radius: 0.25em;box-sizing: border-box;margin-bottom: 0.5em;}#sk-container-id-16 div.sk-estimator:hover {background-color: #d4ebff;}#sk-container-id-16 div.sk-parallel-item::after {content: \"\";width: 100%;border-bottom: 1px solid gray;flex-grow: 1;}#sk-container-id-16 div.sk-label:hover label.sk-toggleable__label {background-color: #d4ebff;}#sk-container-id-16 div.sk-serial::before {content: \"\";position: absolute;border-left: 1px solid gray;box-sizing: border-box;top: 0;bottom: 0;left: 50%;z-index: 0;}#sk-container-id-16 div.sk-serial {display: flex;flex-direction: column;align-items: center;background-color: white;padding-right: 0.2em;padding-left: 0.2em;position: relative;}#sk-container-id-16 div.sk-item {position: relative;z-index: 1;}#sk-container-id-16 div.sk-parallel {display: flex;align-items: stretch;justify-content: center;background-color: white;position: relative;}#sk-container-id-16 div.sk-item::before, #sk-container-id-16 div.sk-parallel-item::before {content: \"\";position: absolute;border-left: 1px solid gray;box-sizing: border-box;top: 0;bottom: 0;left: 50%;z-index: -1;}#sk-container-id-16 div.sk-parallel-item {display: flex;flex-direction: column;z-index: 1;position: relative;background-color: white;}#sk-container-id-16 div.sk-parallel-item:first-child::after {align-self: flex-end;width: 50%;}#sk-container-id-16 div.sk-parallel-item:last-child::after {align-self: flex-start;width: 50%;}#sk-container-id-16 div.sk-parallel-item:only-child::after {width: 0;}#sk-container-id-16 div.sk-dashed-wrapped {border: 1px dashed gray;margin: 0 0.4em 0.5em 0.4em;box-sizing: border-box;padding-bottom: 0.4em;background-color: white;}#sk-container-id-16 div.sk-label label {font-family: monospace;font-weight: bold;display: inline-block;line-height: 1.2em;}#sk-container-id-16 div.sk-label-container {text-align: center;}#sk-container-id-16 div.sk-container {/* jupyter's `normalize.less` sets `[hidden] { display: none; }` but bootstrap.min.css set `[hidden] { display: none !important; }` so we also need the `!important` here to be able to override the default hidden behavior on the sphinx rendered scikit-learn.org. See: https://github.com/scikit-learn/scikit-learn/issues/21755 */display: inline-block !important;position: relative;}#sk-container-id-16 div.sk-text-repr-fallback {display: none;}</style><div id=\"sk-container-id-16\" class=\"sk-top-container\"><div class=\"sk-text-repr-fallback\"><pre>DecisionTreeRegressor(max_depth=6, random_state=42)</pre><b>In a Jupyter environment, please rerun this cell to show the HTML representation or trust the notebook. <br />On GitHub, the HTML representation is unable to render, please try loading this page with nbviewer.org.</b></div><div class=\"sk-container\" hidden><div class=\"sk-item\"><div class=\"sk-estimator sk-toggleable\"><input class=\"sk-toggleable__control sk-hidden--visually\" id=\"sk-estimator-id-28\" type=\"checkbox\" checked><label for=\"sk-estimator-id-28\" class=\"sk-toggleable__label sk-toggleable__label-arrow\">DecisionTreeRegressor</label><div class=\"sk-toggleable__content\"><pre>DecisionTreeRegressor(max_depth=6, random_state=42)</pre></div></div></div></div></div>"
      ],
      "text/plain": [
       "DecisionTreeRegressor(max_depth=6, random_state=42)"
      ]
     },
     "execution_count": 509,
     "metadata": {},
     "output_type": "execute_result"
    }
   ],
   "source": [
    "from sklearn.tree import DecisionTreeRegressor\n",
    "from sklearn.tree import export_text\n",
    "model = DecisionTreeRegressor(max_depth=6, random_state=42)\n",
    "model.fit(x_train, y_train)"
   ]
  },
  {
   "cell_type": "code",
   "execution_count": 510,
   "id": "eecd3cc7-ef8d-4ad7-8b32-f1b8093f2136",
   "metadata": {},
   "outputs": [
    {
     "name": "stdout",
     "output_type": "stream",
     "text": [
      "   Mean squared error: 5.7685\n",
      "       Relative error: 16.40534%\n",
      "R-squared coefficient: 0.45168\n"
     ]
    }
   ],
   "source": [
    "print_eval(x_val, y_val, model)"
   ]
  },
  {
   "cell_type": "code",
   "execution_count": 511,
   "id": "62f27085-6cfa-473a-bab2-64687db3bb56",
   "metadata": {
    "scrolled": true
   },
   "outputs": [
    {
     "name": "stdout",
     "output_type": "stream",
     "text": [
      "|--- Shell Weight <= 4.67\n",
      "|   |--- Shell Weight <= 1.92\n",
      "|   |   |--- Shell Weight <= 0.75\n",
      "|   |   |   |--- Shucked Weight <= 0.20\n",
      "|   |   |   |   |--- Shell Weight <= 0.06\n",
      "|   |   |   |   |   |--- value: [1.00]\n",
      "|   |   |   |   |--- Shell Weight >  0.06\n",
      "|   |   |   |   |   |--- Weight <= 0.43\n",
      "|   |   |   |   |   |   |--- value: [3.67]\n",
      "|   |   |   |   |   |--- Weight >  0.43\n",
      "|   |   |   |   |   |   |--- value: [3.00]\n",
      "|   |   |   |--- Shucked Weight >  0.20\n",
      "|   |   |   |   |--- Viscera Weight <= 0.39\n",
      "|   |   |   |   |   |--- Weight <= 1.89\n",
      "|   |   |   |   |   |   |--- value: [4.26]\n",
      "|   |   |   |   |   |--- Weight >  1.89\n",
      "|   |   |   |   |   |   |--- value: [5.33]\n",
      "|   |   |   |   |--- Viscera Weight >  0.39\n",
      "|   |   |   |   |   |--- Diameter <= 0.48\n",
      "|   |   |   |   |   |   |--- value: [5.18]\n",
      "|   |   |   |   |   |--- Diameter >  0.48\n",
      "|   |   |   |   |   |   |--- value: [4.20]\n",
      "|   |   |--- Shell Weight >  0.75\n",
      "|   |   |   |--- Shell Weight <= 1.12\n",
      "|   |   |   |   |--- Diameter <= 0.44\n",
      "|   |   |   |   |   |--- value: [4.00]\n",
      "|   |   |   |   |--- Diameter >  0.44\n",
      "|   |   |   |   |   |--- Viscera Weight <= 0.52\n",
      "|   |   |   |   |   |   |--- value: [6.50]\n",
      "|   |   |   |   |   |--- Viscera Weight >  0.52\n",
      "|   |   |   |   |   |   |--- value: [5.78]\n",
      "|   |   |   |--- Shell Weight >  1.12\n",
      "|   |   |   |   |--- Viscera Weight <= 0.80\n",
      "|   |   |   |   |   |--- Height <= 0.19\n",
      "|   |   |   |   |   |   |--- value: [5.33]\n",
      "|   |   |   |   |   |--- Height >  0.19\n",
      "|   |   |   |   |   |   |--- value: [6.38]\n",
      "|   |   |   |   |--- Viscera Weight >  0.80\n",
      "|   |   |   |   |   |--- Shucked Weight <= 2.03\n",
      "|   |   |   |   |   |   |--- value: [7.50]\n",
      "|   |   |   |   |   |--- Shucked Weight >  2.03\n",
      "|   |   |   |   |   |   |--- value: [6.51]\n",
      "|   |--- Shell Weight >  1.92\n",
      "|   |   |--- Height <= 0.31\n",
      "|   |   |   |--- Height <= 0.26\n",
      "|   |   |   |   |--- Shucked Weight <= 1.76\n",
      "|   |   |   |   |   |--- Weight <= 5.39\n",
      "|   |   |   |   |   |   |--- value: [12.00]\n",
      "|   |   |   |   |   |--- Weight >  5.39\n",
      "|   |   |   |   |   |   |--- value: [11.00]\n",
      "|   |   |   |   |--- Shucked Weight >  1.76\n",
      "|   |   |   |   |   |--- Shell Weight <= 4.19\n",
      "|   |   |   |   |   |   |--- value: [7.51]\n",
      "|   |   |   |   |   |--- Shell Weight >  4.19\n",
      "|   |   |   |   |   |   |--- value: [11.50]\n",
      "|   |   |   |--- Height >  0.26\n",
      "|   |   |   |   |--- Shucked Weight <= 6.24\n",
      "|   |   |   |   |   |--- Viscera Weight <= 3.22\n",
      "|   |   |   |   |   |   |--- value: [8.41]\n",
      "|   |   |   |   |   |--- Viscera Weight >  3.22\n",
      "|   |   |   |   |   |   |--- value: [10.80]\n",
      "|   |   |   |   |--- Shucked Weight >  6.24\n",
      "|   |   |   |   |   |--- Shell Weight <= 3.78\n",
      "|   |   |   |   |   |   |--- value: [7.00]\n",
      "|   |   |   |   |   |--- Shell Weight >  3.78\n",
      "|   |   |   |   |   |   |--- value: [7.84]\n",
      "|   |   |--- Height >  0.31\n",
      "|   |   |   |--- Shucked Weight <= 5.83\n",
      "|   |   |   |   |--- Diameter <= 0.73\n",
      "|   |   |   |   |   |--- Diameter <= 0.71\n",
      "|   |   |   |   |   |   |--- value: [6.50]\n",
      "|   |   |   |   |   |--- Diameter >  0.71\n",
      "|   |   |   |   |   |   |--- value: [8.00]\n",
      "|   |   |   |   |--- Diameter >  0.73\n",
      "|   |   |   |   |   |--- Shucked Weight <= 4.54\n",
      "|   |   |   |   |   |   |--- value: [11.65]\n",
      "|   |   |   |   |   |--- Shucked Weight >  4.54\n",
      "|   |   |   |   |   |   |--- value: [9.91]\n",
      "|   |   |   |--- Shucked Weight >  5.83\n",
      "|   |   |   |   |--- Shucked Weight <= 6.80\n",
      "|   |   |   |   |   |--- Viscera Weight <= 3.76\n",
      "|   |   |   |   |   |   |--- value: [8.32]\n",
      "|   |   |   |   |   |--- Viscera Weight >  3.76\n",
      "|   |   |   |   |   |   |--- value: [11.00]\n",
      "|   |   |   |   |--- Shucked Weight >  6.80\n",
      "|   |   |   |   |   |--- Viscera Weight <= 5.92\n",
      "|   |   |   |   |   |   |--- value: [7.64]\n",
      "|   |   |   |   |   |--- Viscera Weight >  5.92\n",
      "|   |   |   |   |   |   |--- value: [10.00]\n",
      "|--- Shell Weight >  4.67\n",
      "|   |--- Shell Weight <= 10.20\n",
      "|   |   |--- Shucked Weight <= 11.33\n",
      "|   |   |   |--- Shell Weight <= 7.07\n",
      "|   |   |   |   |--- Shucked Weight <= 7.02\n",
      "|   |   |   |   |   |--- Weight <= 17.48\n",
      "|   |   |   |   |   |   |--- value: [10.83]\n",
      "|   |   |   |   |   |--- Weight >  17.48\n",
      "|   |   |   |   |   |   |--- value: [14.13]\n",
      "|   |   |   |   |--- Shucked Weight >  7.02\n",
      "|   |   |   |   |   |--- Height <= 0.38\n",
      "|   |   |   |   |   |   |--- value: [9.73]\n",
      "|   |   |   |   |   |--- Height >  0.38\n",
      "|   |   |   |   |   |   |--- value: [11.15]\n",
      "|   |   |   |--- Shell Weight >  7.07\n",
      "|   |   |   |   |--- Weight <= 26.70\n",
      "|   |   |   |   |   |--- Shucked Weight <= 9.78\n",
      "|   |   |   |   |   |   |--- value: [12.86]\n",
      "|   |   |   |   |   |--- Shucked Weight >  9.78\n",
      "|   |   |   |   |   |   |--- value: [10.66]\n",
      "|   |   |   |   |--- Weight >  26.70\n",
      "|   |   |   |   |   |--- Diameter <= 1.12\n",
      "|   |   |   |   |   |   |--- value: [16.00]\n",
      "|   |   |   |   |   |--- Diameter >  1.12\n",
      "|   |   |   |   |   |   |--- value: [13.03]\n",
      "|   |   |--- Shucked Weight >  11.33\n",
      "|   |   |   |--- Shell Weight <= 8.30\n",
      "|   |   |   |   |--- Shell Weight <= 7.29\n",
      "|   |   |   |   |   |--- Shell Weight <= 5.41\n",
      "|   |   |   |   |   |   |--- value: [7.57]\n",
      "|   |   |   |   |   |--- Shell Weight >  5.41\n",
      "|   |   |   |   |   |   |--- value: [8.95]\n",
      "|   |   |   |   |--- Shell Weight >  7.29\n",
      "|   |   |   |   |   |--- Shucked Weight <= 13.91\n",
      "|   |   |   |   |   |   |--- value: [10.02]\n",
      "|   |   |   |   |   |--- Shucked Weight >  13.91\n",
      "|   |   |   |   |   |   |--- value: [9.32]\n",
      "|   |   |   |--- Shell Weight >  8.30\n",
      "|   |   |   |   |--- Shucked Weight <= 12.59\n",
      "|   |   |   |   |   |--- Viscera Weight <= 8.37\n",
      "|   |   |   |   |   |   |--- value: [12.68]\n",
      "|   |   |   |   |   |--- Viscera Weight >  8.37\n",
      "|   |   |   |   |   |   |--- value: [8.67]\n",
      "|   |   |   |   |--- Shucked Weight >  12.59\n",
      "|   |   |   |   |   |--- Shucked Weight <= 16.24\n",
      "|   |   |   |   |   |   |--- value: [10.81]\n",
      "|   |   |   |   |   |--- Shucked Weight >  16.24\n",
      "|   |   |   |   |   |   |--- value: [9.98]\n",
      "|   |--- Shell Weight >  10.20\n",
      "|   |   |--- Shucked Weight <= 15.05\n",
      "|   |   |   |--- Length <= 1.41\n",
      "|   |   |   |   |--- Shell Weight <= 14.25\n",
      "|   |   |   |   |   |--- Viscera Weight <= 5.49\n",
      "|   |   |   |   |   |   |--- value: [19.20]\n",
      "|   |   |   |   |   |--- Viscera Weight >  5.49\n",
      "|   |   |   |   |   |   |--- value: [14.50]\n",
      "|   |   |   |   |--- Shell Weight >  14.25\n",
      "|   |   |   |   |   |--- value: [27.00]\n",
      "|   |   |   |--- Length >  1.41\n",
      "|   |   |   |   |--- Weight <= 39.92\n",
      "|   |   |   |   |   |--- Shucked Weight <= 11.77\n",
      "|   |   |   |   |   |   |--- value: [15.17]\n",
      "|   |   |   |   |   |--- Shucked Weight >  11.77\n",
      "|   |   |   |   |   |   |--- value: [13.03]\n",
      "|   |   |   |   |--- Weight >  39.92\n",
      "|   |   |   |   |   |--- Sex_I <= 0.50\n",
      "|   |   |   |   |   |   |--- value: [19.80]\n",
      "|   |   |   |   |   |--- Sex_I >  0.50\n",
      "|   |   |   |   |   |   |--- value: [16.12]\n",
      "|   |   |--- Shucked Weight >  15.05\n",
      "|   |   |   |--- Shell Weight <= 12.70\n",
      "|   |   |   |   |--- Length <= 1.62\n",
      "|   |   |   |   |   |--- Shell Weight <= 12.30\n",
      "|   |   |   |   |   |   |--- value: [11.54]\n",
      "|   |   |   |   |   |--- Shell Weight >  12.30\n",
      "|   |   |   |   |   |   |--- value: [16.00]\n",
      "|   |   |   |   |--- Length >  1.62\n",
      "|   |   |   |   |   |--- Shucked Weight <= 16.48\n",
      "|   |   |   |   |   |   |--- value: [12.21]\n",
      "|   |   |   |   |   |--- Shucked Weight >  16.48\n",
      "|   |   |   |   |   |   |--- value: [10.53]\n",
      "|   |   |   |--- Shell Weight >  12.70\n",
      "|   |   |   |   |--- Shucked Weight <= 20.01\n",
      "|   |   |   |   |   |--- Shucked Weight <= 19.92\n",
      "|   |   |   |   |   |   |--- value: [14.55]\n",
      "|   |   |   |   |   |--- Shucked Weight >  19.92\n",
      "|   |   |   |   |   |   |--- value: [29.00]\n",
      "|   |   |   |   |--- Shucked Weight >  20.01\n",
      "|   |   |   |   |   |--- Shell Weight <= 19.33\n",
      "|   |   |   |   |   |   |--- value: [12.08]\n",
      "|   |   |   |   |   |--- Shell Weight >  19.33\n",
      "|   |   |   |   |   |   |--- value: [16.20]\n",
      "\n"
     ]
    }
   ],
   "source": [
    "features = x_val.columns.tolist()\n",
    "print(export_text(model, feature_names=features, max_depth=5))"
   ]
  },
  {
   "cell_type": "markdown",
   "id": "8a1b07b1-cce1-4769-a6f9-972e5c261b8e",
   "metadata": {},
   "source": [
    "## Random Forest\n",
    "Addestro più alberi in un sottoinsieme delle feature"
   ]
  },
  {
   "cell_type": "code",
   "execution_count": 512,
   "id": "2bb932d2-105b-4ab8-8fd2-80b329736174",
   "metadata": {},
   "outputs": [],
   "source": [
    "from sklearn.ensemble import RandomForestRegressor"
   ]
  },
  {
   "cell_type": "code",
   "execution_count": 513,
   "id": "de073df1-9952-4933-a590-e924e627653f",
   "metadata": {},
   "outputs": [
    {
     "name": "stdout",
     "output_type": "stream",
     "text": [
      "CPU times: total: 703 ms\n",
      "Wall time: 423 ms\n"
     ]
    },
    {
     "data": {
      "text/html": [
       "<style>#sk-container-id-17 {color: black;background-color: white;}#sk-container-id-17 pre{padding: 0;}#sk-container-id-17 div.sk-toggleable {background-color: white;}#sk-container-id-17 label.sk-toggleable__label {cursor: pointer;display: block;width: 100%;margin-bottom: 0;padding: 0.3em;box-sizing: border-box;text-align: center;}#sk-container-id-17 label.sk-toggleable__label-arrow:before {content: \"▸\";float: left;margin-right: 0.25em;color: #696969;}#sk-container-id-17 label.sk-toggleable__label-arrow:hover:before {color: black;}#sk-container-id-17 div.sk-estimator:hover label.sk-toggleable__label-arrow:before {color: black;}#sk-container-id-17 div.sk-toggleable__content {max-height: 0;max-width: 0;overflow: hidden;text-align: left;background-color: #f0f8ff;}#sk-container-id-17 div.sk-toggleable__content pre {margin: 0.2em;color: black;border-radius: 0.25em;background-color: #f0f8ff;}#sk-container-id-17 input.sk-toggleable__control:checked~div.sk-toggleable__content {max-height: 200px;max-width: 100%;overflow: auto;}#sk-container-id-17 input.sk-toggleable__control:checked~label.sk-toggleable__label-arrow:before {content: \"▾\";}#sk-container-id-17 div.sk-estimator input.sk-toggleable__control:checked~label.sk-toggleable__label {background-color: #d4ebff;}#sk-container-id-17 div.sk-label input.sk-toggleable__control:checked~label.sk-toggleable__label {background-color: #d4ebff;}#sk-container-id-17 input.sk-hidden--visually {border: 0;clip: rect(1px 1px 1px 1px);clip: rect(1px, 1px, 1px, 1px);height: 1px;margin: -1px;overflow: hidden;padding: 0;position: absolute;width: 1px;}#sk-container-id-17 div.sk-estimator {font-family: monospace;background-color: #f0f8ff;border: 1px dotted black;border-radius: 0.25em;box-sizing: border-box;margin-bottom: 0.5em;}#sk-container-id-17 div.sk-estimator:hover {background-color: #d4ebff;}#sk-container-id-17 div.sk-parallel-item::after {content: \"\";width: 100%;border-bottom: 1px solid gray;flex-grow: 1;}#sk-container-id-17 div.sk-label:hover label.sk-toggleable__label {background-color: #d4ebff;}#sk-container-id-17 div.sk-serial::before {content: \"\";position: absolute;border-left: 1px solid gray;box-sizing: border-box;top: 0;bottom: 0;left: 50%;z-index: 0;}#sk-container-id-17 div.sk-serial {display: flex;flex-direction: column;align-items: center;background-color: white;padding-right: 0.2em;padding-left: 0.2em;position: relative;}#sk-container-id-17 div.sk-item {position: relative;z-index: 1;}#sk-container-id-17 div.sk-parallel {display: flex;align-items: stretch;justify-content: center;background-color: white;position: relative;}#sk-container-id-17 div.sk-item::before, #sk-container-id-17 div.sk-parallel-item::before {content: \"\";position: absolute;border-left: 1px solid gray;box-sizing: border-box;top: 0;bottom: 0;left: 50%;z-index: -1;}#sk-container-id-17 div.sk-parallel-item {display: flex;flex-direction: column;z-index: 1;position: relative;background-color: white;}#sk-container-id-17 div.sk-parallel-item:first-child::after {align-self: flex-end;width: 50%;}#sk-container-id-17 div.sk-parallel-item:last-child::after {align-self: flex-start;width: 50%;}#sk-container-id-17 div.sk-parallel-item:only-child::after {width: 0;}#sk-container-id-17 div.sk-dashed-wrapped {border: 1px dashed gray;margin: 0 0.4em 0.5em 0.4em;box-sizing: border-box;padding-bottom: 0.4em;background-color: white;}#sk-container-id-17 div.sk-label label {font-family: monospace;font-weight: bold;display: inline-block;line-height: 1.2em;}#sk-container-id-17 div.sk-label-container {text-align: center;}#sk-container-id-17 div.sk-container {/* jupyter's `normalize.less` sets `[hidden] { display: none; }` but bootstrap.min.css set `[hidden] { display: none !important; }` so we also need the `!important` here to be able to override the default hidden behavior on the sphinx rendered scikit-learn.org. See: https://github.com/scikit-learn/scikit-learn/issues/21755 */display: inline-block !important;position: relative;}#sk-container-id-17 div.sk-text-repr-fallback {display: none;}</style><div id=\"sk-container-id-17\" class=\"sk-top-container\"><div class=\"sk-text-repr-fallback\"><pre>RandomForestRegressor(max_features=&#x27;sqrt&#x27;, max_samples=0.2, n_estimators=200,\n",
       "                      n_jobs=-1)</pre><b>In a Jupyter environment, please rerun this cell to show the HTML representation or trust the notebook. <br />On GitHub, the HTML representation is unable to render, please try loading this page with nbviewer.org.</b></div><div class=\"sk-container\" hidden><div class=\"sk-item\"><div class=\"sk-estimator sk-toggleable\"><input class=\"sk-toggleable__control sk-hidden--visually\" id=\"sk-estimator-id-29\" type=\"checkbox\" checked><label for=\"sk-estimator-id-29\" class=\"sk-toggleable__label sk-toggleable__label-arrow\">RandomForestRegressor</label><div class=\"sk-toggleable__content\"><pre>RandomForestRegressor(max_features=&#x27;sqrt&#x27;, max_samples=0.2, n_estimators=200,\n",
       "                      n_jobs=-1)</pre></div></div></div></div></div>"
      ],
      "text/plain": [
       "RandomForestRegressor(max_features='sqrt', max_samples=0.2, n_estimators=200,\n",
       "                      n_jobs=-1)"
      ]
     },
     "execution_count": 513,
     "metadata": {},
     "output_type": "execute_result"
    }
   ],
   "source": [
    "%%time\n",
    "rfm = RandomForestRegressor(max_samples=0.2, max_features=\"sqrt\", n_estimators=200, max_depth=None, n_jobs=-1)\n",
    "rfm.fit(x_train, y_train)"
   ]
  },
  {
   "cell_type": "code",
   "execution_count": 514,
   "id": "4ae4b773-b7cb-4752-94a8-edc9eb0fd2d5",
   "metadata": {},
   "outputs": [
    {
     "name": "stdout",
     "output_type": "stream",
     "text": [
      "   Mean squared error: 4.738\n",
      "       Relative error: 15.31108%\n",
      "R-squared coefficient: 0.54964\n"
     ]
    }
   ],
   "source": [
    "print_eval(x_val, y_val, rfm)"
   ]
  },
  {
   "cell_type": "code",
   "execution_count": 515,
   "id": "2dbdad3c-d434-482c-b59f-666bbbd46fc4",
   "metadata": {},
   "outputs": [
    {
     "data": {
      "text/plain": [
       "array([0.08656148, 0.12121594, 0.13694708, 0.146369  , 0.1282055 ,\n",
       "       0.11819194, 0.24075985, 0.01070941, 0.01103981])"
      ]
     },
     "execution_count": 515,
     "metadata": {},
     "output_type": "execute_result"
    }
   ],
   "source": [
    "rfm.feature_importances_"
   ]
  },
  {
   "cell_type": "code",
   "execution_count": 516,
   "id": "6110b4e9-ce52-4503-9840-eb112a14ae7f",
   "metadata": {},
   "outputs": [
    {
     "data": {
      "text/plain": [
       "Shell Weight      0.240760\n",
       "Weight            0.146369\n",
       "Height            0.136947\n",
       "Shucked Weight    0.128206\n",
       "Diameter          0.121216\n",
       "Viscera Weight    0.118192\n",
       "Length            0.086561\n",
       "Sex_M             0.011040\n",
       "Sex_I             0.010709\n",
       "dtype: float64"
      ]
     },
     "execution_count": 516,
     "metadata": {},
     "output_type": "execute_result"
    }
   ],
   "source": [
    "pd.Series(rfm.feature_importances_, index=features).sort_values(ascending=False)"
   ]
  },
  {
   "cell_type": "markdown",
   "id": "7a3db769-0841-4566-88e3-166813c4b7c2",
   "metadata": {},
   "source": [
    "la feature più importante è il peso della conchiglia"
   ]
  },
  {
   "cell_type": "markdown",
   "id": "6b009da5-b699-4710-9079-be8791322935",
   "metadata": {},
   "source": [
    "## LightGBM: \n",
    "Gradient Boosted Machine"
   ]
  },
  {
   "cell_type": "code",
   "execution_count": 517,
   "id": "e4ff3293-0982-4aa8-a3fb-cd3e35149cce",
   "metadata": {},
   "outputs": [],
   "source": [
    "from lightgbm import LGBMRegressor"
   ]
  },
  {
   "cell_type": "code",
   "execution_count": 518,
   "id": "7119979e-c882-42d8-a4ba-37db467e467c",
   "metadata": {},
   "outputs": [
    {
     "name": "stdout",
     "output_type": "stream",
     "text": [
      "[LightGBM] [Warning] Found whitespace in feature_names, replace with underlines\n",
      "[LightGBM] [Info] Auto-choosing col-wise multi-threading, the overhead of testing was 0.000253 seconds.\n",
      "You can set `force_col_wise=true` to remove the overhead.\n",
      "[LightGBM] [Info] Total Bins 1290\n",
      "[LightGBM] [Info] Number of data points in the train set: 2592, number of used features: 9\n",
      "[LightGBM] [Info] Start training from score 9.969522\n",
      "CPU times: total: 188 ms\n",
      "Wall time: 100 ms\n"
     ]
    },
    {
     "data": {
      "text/html": [
       "<style>#sk-container-id-18 {color: black;background-color: white;}#sk-container-id-18 pre{padding: 0;}#sk-container-id-18 div.sk-toggleable {background-color: white;}#sk-container-id-18 label.sk-toggleable__label {cursor: pointer;display: block;width: 100%;margin-bottom: 0;padding: 0.3em;box-sizing: border-box;text-align: center;}#sk-container-id-18 label.sk-toggleable__label-arrow:before {content: \"▸\";float: left;margin-right: 0.25em;color: #696969;}#sk-container-id-18 label.sk-toggleable__label-arrow:hover:before {color: black;}#sk-container-id-18 div.sk-estimator:hover label.sk-toggleable__label-arrow:before {color: black;}#sk-container-id-18 div.sk-toggleable__content {max-height: 0;max-width: 0;overflow: hidden;text-align: left;background-color: #f0f8ff;}#sk-container-id-18 div.sk-toggleable__content pre {margin: 0.2em;color: black;border-radius: 0.25em;background-color: #f0f8ff;}#sk-container-id-18 input.sk-toggleable__control:checked~div.sk-toggleable__content {max-height: 200px;max-width: 100%;overflow: auto;}#sk-container-id-18 input.sk-toggleable__control:checked~label.sk-toggleable__label-arrow:before {content: \"▾\";}#sk-container-id-18 div.sk-estimator input.sk-toggleable__control:checked~label.sk-toggleable__label {background-color: #d4ebff;}#sk-container-id-18 div.sk-label input.sk-toggleable__control:checked~label.sk-toggleable__label {background-color: #d4ebff;}#sk-container-id-18 input.sk-hidden--visually {border: 0;clip: rect(1px 1px 1px 1px);clip: rect(1px, 1px, 1px, 1px);height: 1px;margin: -1px;overflow: hidden;padding: 0;position: absolute;width: 1px;}#sk-container-id-18 div.sk-estimator {font-family: monospace;background-color: #f0f8ff;border: 1px dotted black;border-radius: 0.25em;box-sizing: border-box;margin-bottom: 0.5em;}#sk-container-id-18 div.sk-estimator:hover {background-color: #d4ebff;}#sk-container-id-18 div.sk-parallel-item::after {content: \"\";width: 100%;border-bottom: 1px solid gray;flex-grow: 1;}#sk-container-id-18 div.sk-label:hover label.sk-toggleable__label {background-color: #d4ebff;}#sk-container-id-18 div.sk-serial::before {content: \"\";position: absolute;border-left: 1px solid gray;box-sizing: border-box;top: 0;bottom: 0;left: 50%;z-index: 0;}#sk-container-id-18 div.sk-serial {display: flex;flex-direction: column;align-items: center;background-color: white;padding-right: 0.2em;padding-left: 0.2em;position: relative;}#sk-container-id-18 div.sk-item {position: relative;z-index: 1;}#sk-container-id-18 div.sk-parallel {display: flex;align-items: stretch;justify-content: center;background-color: white;position: relative;}#sk-container-id-18 div.sk-item::before, #sk-container-id-18 div.sk-parallel-item::before {content: \"\";position: absolute;border-left: 1px solid gray;box-sizing: border-box;top: 0;bottom: 0;left: 50%;z-index: -1;}#sk-container-id-18 div.sk-parallel-item {display: flex;flex-direction: column;z-index: 1;position: relative;background-color: white;}#sk-container-id-18 div.sk-parallel-item:first-child::after {align-self: flex-end;width: 50%;}#sk-container-id-18 div.sk-parallel-item:last-child::after {align-self: flex-start;width: 50%;}#sk-container-id-18 div.sk-parallel-item:only-child::after {width: 0;}#sk-container-id-18 div.sk-dashed-wrapped {border: 1px dashed gray;margin: 0 0.4em 0.5em 0.4em;box-sizing: border-box;padding-bottom: 0.4em;background-color: white;}#sk-container-id-18 div.sk-label label {font-family: monospace;font-weight: bold;display: inline-block;line-height: 1.2em;}#sk-container-id-18 div.sk-label-container {text-align: center;}#sk-container-id-18 div.sk-container {/* jupyter's `normalize.less` sets `[hidden] { display: none; }` but bootstrap.min.css set `[hidden] { display: none !important; }` so we also need the `!important` here to be able to override the default hidden behavior on the sphinx rendered scikit-learn.org. See: https://github.com/scikit-learn/scikit-learn/issues/21755 */display: inline-block !important;position: relative;}#sk-container-id-18 div.sk-text-repr-fallback {display: none;}</style><div id=\"sk-container-id-18\" class=\"sk-top-container\"><div class=\"sk-text-repr-fallback\"><pre>LGBMRegressor()</pre><b>In a Jupyter environment, please rerun this cell to show the HTML representation or trust the notebook. <br />On GitHub, the HTML representation is unable to render, please try loading this page with nbviewer.org.</b></div><div class=\"sk-container\" hidden><div class=\"sk-item\"><div class=\"sk-estimator sk-toggleable\"><input class=\"sk-toggleable__control sk-hidden--visually\" id=\"sk-estimator-id-30\" type=\"checkbox\" checked><label for=\"sk-estimator-id-30\" class=\"sk-toggleable__label sk-toggleable__label-arrow\">LGBMRegressor</label><div class=\"sk-toggleable__content\"><pre>LGBMRegressor()</pre></div></div></div></div></div>"
      ],
      "text/plain": [
       "LGBMRegressor()"
      ]
     },
     "execution_count": 518,
     "metadata": {},
     "output_type": "execute_result"
    }
   ],
   "source": [
    "%%time\n",
    "lgbm = LGBMRegressor()\n",
    "lgbm.fit(x_train, y_train)"
   ]
  },
  {
   "cell_type": "code",
   "execution_count": 519,
   "id": "2b0bd12c-4db4-416a-a7ea-59ec1cde9598",
   "metadata": {},
   "outputs": [
    {
     "name": "stdout",
     "output_type": "stream",
     "text": [
      "   Mean squared error: 4.8513\n",
      "       Relative error: 15.49891%\n",
      "R-squared coefficient: 0.53886\n"
     ]
    }
   ],
   "source": [
    "print_eval(x_val, y_val, lgbm)"
   ]
  },
  {
   "cell_type": "markdown",
   "id": "ed828fdf-f39e-41e4-a0f6-116ce3053da4",
   "metadata": {},
   "source": [
    "## XGBoost\n",
    "\n",
    "- La libreria `xgboost` fornisce un'implementazione dell'omonimo algoritmo (_eXtreme Gradient Boosting_)"
   ]
  },
  {
   "cell_type": "code",
   "execution_count": 520,
   "id": "7ee6683c-3a18-42c3-8283-fafaf56d5472",
   "metadata": {},
   "outputs": [
    {
     "name": "stdout",
     "output_type": "stream",
     "text": [
      "1.1.0\n"
     ]
    }
   ],
   "source": [
    "import xgboost\n",
    "print(xgboost.__version__)"
   ]
  },
  {
   "cell_type": "code",
   "execution_count": 521,
   "id": "4affa00e-dcce-41ca-9939-f4425eaf9964",
   "metadata": {},
   "outputs": [],
   "source": [
    "from xgboost import XGBRegressor"
   ]
  },
  {
   "cell_type": "code",
   "execution_count": 522,
   "id": "236f5124-36b3-4ab0-bd47-707279536547",
   "metadata": {},
   "outputs": [
    {
     "name": "stdout",
     "output_type": "stream",
     "text": [
      "[23:55:50] WARNING: C:\\Users\\Administrator\\workspace\\xgboost-win64_release_1.1.0\\src\\learner.cc:480: \n",
      "Parameters: { verbose_eval } might not be used.\n",
      "\n",
      "  This may not be accurate due to some parameters are only used in language bindings but\n",
      "  passed down to XGBoost core.  Or some parameters are not used but slip through this\n",
      "  verification. Please open an issue if you find above cases.\n",
      "\n",
      "\n",
      "CPU times: total: 1.41 s\n",
      "Wall time: 472 ms\n"
     ]
    },
    {
     "data": {
      "text/html": [
       "<style>#sk-container-id-19 {color: black;background-color: white;}#sk-container-id-19 pre{padding: 0;}#sk-container-id-19 div.sk-toggleable {background-color: white;}#sk-container-id-19 label.sk-toggleable__label {cursor: pointer;display: block;width: 100%;margin-bottom: 0;padding: 0.3em;box-sizing: border-box;text-align: center;}#sk-container-id-19 label.sk-toggleable__label-arrow:before {content: \"▸\";float: left;margin-right: 0.25em;color: #696969;}#sk-container-id-19 label.sk-toggleable__label-arrow:hover:before {color: black;}#sk-container-id-19 div.sk-estimator:hover label.sk-toggleable__label-arrow:before {color: black;}#sk-container-id-19 div.sk-toggleable__content {max-height: 0;max-width: 0;overflow: hidden;text-align: left;background-color: #f0f8ff;}#sk-container-id-19 div.sk-toggleable__content pre {margin: 0.2em;color: black;border-radius: 0.25em;background-color: #f0f8ff;}#sk-container-id-19 input.sk-toggleable__control:checked~div.sk-toggleable__content {max-height: 200px;max-width: 100%;overflow: auto;}#sk-container-id-19 input.sk-toggleable__control:checked~label.sk-toggleable__label-arrow:before {content: \"▾\";}#sk-container-id-19 div.sk-estimator input.sk-toggleable__control:checked~label.sk-toggleable__label {background-color: #d4ebff;}#sk-container-id-19 div.sk-label input.sk-toggleable__control:checked~label.sk-toggleable__label {background-color: #d4ebff;}#sk-container-id-19 input.sk-hidden--visually {border: 0;clip: rect(1px 1px 1px 1px);clip: rect(1px, 1px, 1px, 1px);height: 1px;margin: -1px;overflow: hidden;padding: 0;position: absolute;width: 1px;}#sk-container-id-19 div.sk-estimator {font-family: monospace;background-color: #f0f8ff;border: 1px dotted black;border-radius: 0.25em;box-sizing: border-box;margin-bottom: 0.5em;}#sk-container-id-19 div.sk-estimator:hover {background-color: #d4ebff;}#sk-container-id-19 div.sk-parallel-item::after {content: \"\";width: 100%;border-bottom: 1px solid gray;flex-grow: 1;}#sk-container-id-19 div.sk-label:hover label.sk-toggleable__label {background-color: #d4ebff;}#sk-container-id-19 div.sk-serial::before {content: \"\";position: absolute;border-left: 1px solid gray;box-sizing: border-box;top: 0;bottom: 0;left: 50%;z-index: 0;}#sk-container-id-19 div.sk-serial {display: flex;flex-direction: column;align-items: center;background-color: white;padding-right: 0.2em;padding-left: 0.2em;position: relative;}#sk-container-id-19 div.sk-item {position: relative;z-index: 1;}#sk-container-id-19 div.sk-parallel {display: flex;align-items: stretch;justify-content: center;background-color: white;position: relative;}#sk-container-id-19 div.sk-item::before, #sk-container-id-19 div.sk-parallel-item::before {content: \"\";position: absolute;border-left: 1px solid gray;box-sizing: border-box;top: 0;bottom: 0;left: 50%;z-index: -1;}#sk-container-id-19 div.sk-parallel-item {display: flex;flex-direction: column;z-index: 1;position: relative;background-color: white;}#sk-container-id-19 div.sk-parallel-item:first-child::after {align-self: flex-end;width: 50%;}#sk-container-id-19 div.sk-parallel-item:last-child::after {align-self: flex-start;width: 50%;}#sk-container-id-19 div.sk-parallel-item:only-child::after {width: 0;}#sk-container-id-19 div.sk-dashed-wrapped {border: 1px dashed gray;margin: 0 0.4em 0.5em 0.4em;box-sizing: border-box;padding-bottom: 0.4em;background-color: white;}#sk-container-id-19 div.sk-label label {font-family: monospace;font-weight: bold;display: inline-block;line-height: 1.2em;}#sk-container-id-19 div.sk-label-container {text-align: center;}#sk-container-id-19 div.sk-container {/* jupyter's `normalize.less` sets `[hidden] { display: none; }` but bootstrap.min.css set `[hidden] { display: none !important; }` so we also need the `!important` here to be able to override the default hidden behavior on the sphinx rendered scikit-learn.org. See: https://github.com/scikit-learn/scikit-learn/issues/21755 */display: inline-block !important;position: relative;}#sk-container-id-19 div.sk-text-repr-fallback {display: none;}</style><div id=\"sk-container-id-19\" class=\"sk-top-container\"><div class=\"sk-text-repr-fallback\"><pre>XGBRegressor(base_score=0.5, booster=&#x27;gbtree&#x27;, colsample_bylevel=1,\n",
       "             colsample_bynode=1, colsample_bytree=1, gamma=0, gpu_id=-1,\n",
       "             importance_type=&#x27;gain&#x27;, interaction_constraints=&#x27;&#x27;,\n",
       "             learning_rate=0.300000012, max_delta_step=0, max_depth=6,\n",
       "             min_child_weight=1, missing=nan, monotone_constraints=&#x27;()&#x27;,\n",
       "             n_estimators=200, n_jobs=0, num_parallel_tree=1, random_state=0,\n",
       "             reg_alpha=0.0, reg_lambda=1.0, scale_pos_weight=1, subsample=1,\n",
       "             tree_method=&#x27;exact&#x27;, validate_parameters=1, verbose_eval=True,\n",
       "             verbosity=None)</pre><b>In a Jupyter environment, please rerun this cell to show the HTML representation or trust the notebook. <br />On GitHub, the HTML representation is unable to render, please try loading this page with nbviewer.org.</b></div><div class=\"sk-container\" hidden><div class=\"sk-item\"><div class=\"sk-estimator sk-toggleable\"><input class=\"sk-toggleable__control sk-hidden--visually\" id=\"sk-estimator-id-31\" type=\"checkbox\" checked><label for=\"sk-estimator-id-31\" class=\"sk-toggleable__label sk-toggleable__label-arrow\">XGBRegressor</label><div class=\"sk-toggleable__content\"><pre>XGBRegressor(base_score=0.5, booster=&#x27;gbtree&#x27;, colsample_bylevel=1,\n",
       "             colsample_bynode=1, colsample_bytree=1, gamma=0, gpu_id=-1,\n",
       "             importance_type=&#x27;gain&#x27;, interaction_constraints=&#x27;&#x27;,\n",
       "             learning_rate=0.300000012, max_delta_step=0, max_depth=6,\n",
       "             min_child_weight=1, missing=nan, monotone_constraints=&#x27;()&#x27;,\n",
       "             n_estimators=200, n_jobs=0, num_parallel_tree=1, random_state=0,\n",
       "             reg_alpha=0.0, reg_lambda=1.0, scale_pos_weight=1, subsample=1,\n",
       "             tree_method=&#x27;exact&#x27;, validate_parameters=1, verbose_eval=True,\n",
       "             verbosity=None)</pre></div></div></div></div></div>"
      ],
      "text/plain": [
       "XGBRegressor(base_score=0.5, booster='gbtree', colsample_bylevel=1,\n",
       "             colsample_bynode=1, colsample_bytree=1, gamma=0, gpu_id=-1,\n",
       "             importance_type='gain', interaction_constraints='',\n",
       "             learning_rate=0.300000012, max_delta_step=0, max_depth=6,\n",
       "             min_child_weight=1, missing=nan, monotone_constraints='()',\n",
       "             n_estimators=200, n_jobs=0, num_parallel_tree=1, random_state=0,\n",
       "             reg_alpha=0.0, reg_lambda=1.0, scale_pos_weight=1, subsample=1,\n",
       "             tree_method='exact', validate_parameters=1, verbose_eval=True,\n",
       "             verbosity=None)"
      ]
     },
     "execution_count": 522,
     "metadata": {},
     "output_type": "execute_result"
    }
   ],
   "source": [
    "%%time\n",
    "xgbm = XGBRegressor(objective='reg:squarederror', reg_alpha=0.0, reg_lambda=1.0, n_estimators=200, verbose_eval=True)\n",
    "xgbm.fit(x_train, y_train)"
   ]
  },
  {
   "cell_type": "code",
   "execution_count": 523,
   "id": "cbb08eb5-6363-45e8-a500-07d048d5a5f6",
   "metadata": {},
   "outputs": [
    {
     "name": "stdout",
     "output_type": "stream",
     "text": [
      "   Mean squared error: 5.4372\n",
      "       Relative error: 16.15122%\n",
      "R-squared coefficient: 0.48318\n"
     ]
    }
   ],
   "source": [
    "print_eval(x_val, y_val, xgbm)"
   ]
  },
  {
   "cell_type": "code",
   "execution_count": 524,
   "id": "bcbf3f97-ec8d-42e5-857e-bd94f3eee928",
   "metadata": {},
   "outputs": [
    {
     "data": {
      "text/plain": [
       "Shell Weight      0.515785\n",
       "Shucked Weight    0.108453\n",
       "Weight            0.072374\n",
       "Height            0.071711\n",
       "Viscera Weight    0.061207\n",
       "Diameter          0.054231\n",
       "Sex_M             0.045608\n",
       "Sex_I             0.037056\n",
       "Length            0.033575\n",
       "dtype: float32"
      ]
     },
     "execution_count": 524,
     "metadata": {},
     "output_type": "execute_result"
    }
   ],
   "source": [
    "pd.Series(xgbm.feature_importances_, index=features).sort_values(ascending=False)"
   ]
  },
  {
   "cell_type": "code",
   "execution_count": null,
   "id": "3850b9a2-2db2-42a3-9f23-71b6544a3352",
   "metadata": {},
   "outputs": [],
   "source": []
  }
 ],
 "metadata": {
  "kernelspec": {
   "display_name": "Python 3 (ipykernel)",
   "language": "python",
   "name": "python3"
  },
  "language_info": {
   "codemirror_mode": {
    "name": "ipython",
    "version": 3
   },
   "file_extension": ".py",
   "mimetype": "text/x-python",
   "name": "python",
   "nbconvert_exporter": "python",
   "pygments_lexer": "ipython3",
   "version": "3.11.7"
  }
 },
 "nbformat": 4,
 "nbformat_minor": 5
}
